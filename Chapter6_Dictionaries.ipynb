{
 "cells": [
  {
   "cell_type": "code",
   "execution_count": 1,
   "metadata": {},
   "outputs": [
    {
     "name": "stdout",
     "output_type": "stream",
     "text": [
      "Mariolka\n",
      "14\n"
     ]
    }
   ],
   "source": [
    "# A Simple Dictionary\n",
    "    # dictionary = collection of key-value pairs\n",
    "dog_0 = {\"name\": \"Mariolka\", \"age\": 14}\n",
    "\n",
    "print(dog_0[\"name\"])\n",
    "print(dog_0[\"age\"])"
   ]
  },
  {
   "cell_type": "code",
   "execution_count": 4,
   "metadata": {},
   "outputs": [
    {
     "name": "stdout",
     "output_type": "stream",
     "text": [
      "14\n",
      "Your dog's age is 14\n"
     ]
    }
   ],
   "source": [
    "# Working with Dictionaries: Accessing Values in a Dictionary\n",
    "\n",
    "dog_0 = {\"name\": \"Mariolka\", \"age\": 14} \n",
    "\n",
    "print(dog_0[\"age\"])\n",
    "\n",
    "dog_0_age = dog_0[\"age\"]\n",
    "print(f\"Your dog's age is {dog_0_age}\")"
   ]
  },
  {
   "cell_type": "code",
   "execution_count": 5,
   "metadata": {},
   "outputs": [
    {
     "name": "stdout",
     "output_type": "stream",
     "text": [
      "{'name': 'Mariolka', 'age': 14, 'favourite spot': 'armchair'}\n"
     ]
    }
   ],
   "source": [
    "# Working with Dictionaries: Adding New Key-Value Pairs\n",
    "dog_0 = {\"name\": \"Mariolka\", \"age\": 14} \n",
    "\n",
    "dog_0[\"favourite spot\"] = \"armchair\"\n",
    "\n",
    "print(dog_0)"
   ]
  },
  {
   "cell_type": "code",
   "execution_count": 7,
   "metadata": {},
   "outputs": [
    {
     "name": "stdout",
     "output_type": "stream",
     "text": [
      "{'name': 'Arlo', 'age': 0.5, 'favourite spot': 'couch'}\n"
     ]
    }
   ],
   "source": [
    "# Working with Dictionaries: Starting with an Empty Dictionary \n",
    "dog_1 = {}\n",
    "\n",
    "dog_1[\"name\"] = \"Arlo\"\n",
    "dog_1[\"age\"] = 0.5\n",
    "dog_1[\"favourite spot\"] = \"couch\"\n",
    "\n",
    "print(dog_1)\n"
   ]
  },
  {
   "cell_type": "code",
   "execution_count": 11,
   "metadata": {},
   "outputs": [
    {
     "name": "stdout",
     "output_type": "stream",
     "text": [
      "{'name': 'Arlo', 'age': 0.5, 'favourite spot': 'dog bed'}\n",
      "Original position: 0\n",
      "New position: 3\n"
     ]
    }
   ],
   "source": [
    "# Working with Dictionaries: Modifying Values in a Dictionary\n",
    "\n",
    "dog_1[\"favourite spot\"] = \"dog bed\"\n",
    "print(dog_1)\n",
    "\n",
    "# Dog movement\n",
    "dog_0 = {'x_position': 0, 'y_position': 25, 'speed': 'fast'}\n",
    "print(f\"Original position: {dog_0['x_position']}\")\n",
    "\n",
    "# Move the dog to the right \n",
    "# Determine how far to move the dog based on its current speed.\n",
    "if dog_0['speed'] == \"slow\":\n",
    "    x_increment = 1 \n",
    "elif dog_0['speed'] == \"medium\":\n",
    "    x_increment = 2 \n",
    "else:\n",
    "    # This must be a fast dog\n",
    "    x_increment = 3 \n",
    "\n",
    "# The new position is the old position plus the increment. \n",
    "dog_0['x_position'] = dog_0['x_position'] + x_increment \n",
    "\n",
    "print(f\"New position: {dog_0['x_position']}\")\n"
   ]
  },
  {
   "cell_type": "code",
   "execution_count": 13,
   "metadata": {},
   "outputs": [
    {
     "name": "stdout",
     "output_type": "stream",
     "text": [
      "{'name': 'Mariolka', 'age': 14, 'favourite spot': 'armchair'}\n",
      "{'name': 'Mariolka', 'age': 14}\n"
     ]
    }
   ],
   "source": [
    "# Working with Dictionaries: Removing Key-Value Pairs \n",
    "dog_0 = {\"name\": \"Mariolka\", \"age\": 14, \"favourite spot\" : \"armchair\"} \n",
    "print(dog_0)\n",
    "\n",
    "del dog_0[\"favourite spot\"] # value removed permanently\n",
    "print(dog_0)"
   ]
  },
  {
   "cell_type": "code",
   "execution_count": 15,
   "metadata": {},
   "outputs": [
    {
     "name": "stdout",
     "output_type": "stream",
     "text": [
      "Emma's dog is called Arlo\n"
     ]
    }
   ],
   "source": [
    "# Working with Dictionaries: A Dictionary of Similar Objects \n",
    "\n",
    "dog_owners = {\n",
    "    \"Gosia\": \"Mariolka\",\n",
    "    \"Emma\": \"Arlo\",\n",
    "    \"Jess\": \"Buddy\"\n",
    "}\n",
    "\n",
    "Emma_dog = dog_owners[\"Emma\"].title() # pull value out the dictionary and assign to variable\n",
    "print(f\"Emma's dog is called {Emma_dog}.\")"
   ]
  },
  {
   "cell_type": "code",
   "execution_count": 21,
   "metadata": {},
   "outputs": [
    {
     "name": "stdout",
     "output_type": "stream",
     "text": [
      "No value assigned\n",
      "None\n"
     ]
    }
   ],
   "source": [
    "# Working with Dictionaries: Using get() to Access Values\n",
    "dog_0 = {\"name\": \"Mariolka\", \"age\": 14, \"favourite spot\" : \"armchair\"}\n",
    "\n",
    "#print(dog_0[\"favourite food\"]) # returns error as no value assigned\n",
    "\n",
    "favourite_food = dog_0.get(\"favourite food\", \"No value assigned\") # custom message if error\n",
    "print(favourite_food)\n",
    "\n",
    "favourite_food = dog_0.get(\"favourite food\") # default message None if error\n",
    "print(favourite_food)"
   ]
  },
  {
   "cell_type": "code",
   "execution_count": 24,
   "metadata": {},
   "outputs": [
    {
     "name": "stdout",
     "output_type": "stream",
     "text": [
      "Dawid\n",
      "Podsiadlo\n",
      "31\n",
      "Praga\n"
     ]
    }
   ],
   "source": [
    "# Dictionary: Exercises\n",
    "# Person: Use a dictionary to store information about a person you know.\n",
    "# Store their first name, last name, age, and the city in which they live. You\n",
    "# should have keys such as first_name, last_name, age, and city. Print each\n",
    "# piece of information stored in your dictionary.\n",
    "\n",
    "person = {\n",
    "    \"name\": \"Dawid\",\n",
    "    \"surname\": \"Podsiadlo\",\n",
    "    \"age\": 31,\n",
    "    \"city\": \"Praga\"\n",
    "}\n",
    "\n",
    "print(person[\"name\"])\n",
    "print(person[\"surname\"])\n",
    "print(person[\"age\"])\n",
    "print(person[\"city\"])"
   ]
  },
  {
   "cell_type": "code",
   "execution_count": 25,
   "metadata": {},
   "outputs": [
    {
     "name": "stdout",
     "output_type": "stream",
     "text": [
      "Gosia's dog's name is: Mariolka.\n",
      "Emma's dog's name is: Arlo.\n",
      "Jess's dog's name is: Buddy.\n",
      "Alina's dog's name is: Disco.\n"
     ]
    }
   ],
   "source": [
    "# Dictionary: Exercises\n",
    "\n",
    "# Favorite Numbers: Use a dictionary to store people’s favorite numbers.\n",
    "# Think of five names, and use them as keys in your dictionary. Think of a favorite\n",
    "# number for each person, and store each as a value in your dictionary. Print\n",
    "# each person’s name and their favorite number. For even more fun, poll a few\n",
    "# friends and get some actual data for your program.\n",
    "\n",
    "dog_owners = {\n",
    "    \"Gosia\": \"Mariolka\",\n",
    "    \"Emma\": \"Arlo\",\n",
    "    \"Jess\": \"Buddy\",\n",
    "    \"Alina\": \"Disco\"\n",
    "}\n",
    "\n",
    "dog = dog_owners[\"Gosia\"]\n",
    "print(f\"Gosia's dog's name is: {dog}.\")\n",
    "\n",
    "dog = dog_owners[\"Emma\"]\n",
    "print(f\"Emma's dog's name is: {dog}.\")\n",
    "\n",
    "dog = dog_owners[\"Jess\"]\n",
    "print(f\"Jess's dog's name is: {dog}.\")\n",
    "\n",
    "dog = dog_owners[\"Alina\"]\n",
    "print(f\"Alina's dog's name is: {dog}.\")"
   ]
  },
  {
   "cell_type": "code",
   "execution_count": 29,
   "metadata": {},
   "outputs": [
    {
     "name": "stdout",
     "output_type": "stream",
     "text": [
      "List: collection of objects of any types that can be modified\n",
      "\n",
      "Tuple: collection of objects of any types that cannot be modified\n",
      "\n",
      "Dictionary: collection of key-value pairs\n",
      "\n"
     ]
    }
   ],
   "source": [
    "# Dictionary: Exercises \n",
    "# Glossary: A Python dictionary can be used to model an actual dictionary.\n",
    "# However, to avoid confusion, let’s call it a glossary.\n",
    "# •\t Think of five programming words you’ve learned about in the previous\n",
    "# chapters. Use these words as the keys in your glossary, and store their\n",
    "# meanings as values.\n",
    "# •\t Print each word and its meaning as neatly formatted output. You might\n",
    "# print the word followed by a colon and then its meaning, or print the word\n",
    "# on one line and then print its meaning indented on a second line. Use the\n",
    "# newline character (\\n) to insert a blank line between each word-meaning\n",
    "# pair in your output.\n",
    "\n",
    "python_glossary = {\n",
    "    \"list\": \"collection of objects of any types that can be modified\",\n",
    "    \"tuple\": \"collection of objects of any types that cannot be modified\",\n",
    "    \"dictionary\": \"collection of key-value pairs\"\n",
    "}\n",
    "\n",
    "word = \"list\"\n",
    "print(f\"{word.title()}: {python_glossary[word]}\\n\")\n",
    "word = \"tuple\"\n",
    "print(f\"{word.title()}: {python_glossary[word]}\\n\")\n",
    "word = \"dictionary\"\n",
    "print(f\"{word.title()}: {python_glossary[word]}\\n\")"
   ]
  },
  {
   "cell_type": "code",
   "execution_count": 32,
   "metadata": {},
   "outputs": [
    {
     "name": "stdout",
     "output_type": "stream",
     "text": [
      "Title: Shadow of the Wind\n",
      "\n",
      "Author: Carlos Ruiz Zafon\n",
      "\n",
      "Publication_Year: 2001\n",
      "\n",
      "In Python, List means: collection of objects of any types that can be modified\n",
      "In Python, Tuple means: collection of objects of any types that cannot be modified\n",
      "In Python, Dictionary means: collection of key-value pairs\n"
     ]
    }
   ],
   "source": [
    "# Looping Through a Dictionary: Looping Through All Key-Value Pairs\n",
    "\n",
    "book_0 = {\n",
    "    \"title\": \"Shadow of the Wind\",\n",
    "    \"author\": \"Carlos Ruiz Zafon\",\n",
    "    \"publication_year\": 2001\n",
    "}\n",
    "\n",
    "for key, value in book_0.items():\n",
    "    print(f\"{key.title()}: {value}\\n\")\n",
    "\n",
    "\n",
    "python_glossary = {\n",
    "    \"list\": \"collection of objects of any types that can be modified\",\n",
    "    \"tuple\": \"collection of objects of any types that cannot be modified\",\n",
    "    \"dictionary\": \"collection of key-value pairs\"\n",
    "}\n",
    "\n",
    "for k, v in python_glossary.items():\n",
    "    print(f\"In Python, {k.title()} means: {v}\")"
   ]
  },
  {
   "cell_type": "code",
   "execution_count": 38,
   "metadata": {},
   "outputs": [
    {
     "name": "stdout",
     "output_type": "stream",
     "text": [
      "Title\n",
      "Author\n",
      "Publication_Year\n",
      "Title\n",
      "Author\n",
      "Publication_Year\n",
      "Title is recorded\n",
      "Shadow Of The Wind was a requested information.\n",
      "Author is recorded\n",
      "Carlos Ruiz Zafon was a requested information.\n",
      "Publication_Year is recorded\n",
      "Publication place isn't recorded.\n"
     ]
    }
   ],
   "source": [
    "# Looping Through a Dictionary: Looping Through All the Keys in a Dictionary\n",
    "book_0 = {\n",
    "    \"title\": \"Shadow of the Wind\",\n",
    "    \"author\": \"Carlos Ruiz Zafon\",\n",
    "    \"publication_year\": 2001\n",
    "}\n",
    "\n",
    "# get which info is recorded about books\n",
    "for k in book_0.keys(): #default behaviour, keys() not even needed\n",
    "    print(k.title())\n",
    "\n",
    "for k in book_0: #default behaviour, keys() not even needed\n",
    "    print(k.title())\n",
    "\n",
    "# see what's in book_0 and if info requested print an extra message\n",
    "requested_info = [\"title\", \"author\"]\n",
    "for k in book_0.keys():\n",
    "    print(f\"{k.title()} is recorded\")\n",
    "\n",
    "    if k in requested_info:\n",
    "        info = book_0[k].title()\n",
    "        print(f\"{info.title()} was a requested information.\")\n",
    "\n",
    "# message if requested info isn't in the records\n",
    "if \"publication_place\" not in book_0.keys():\n",
    "    print(f\"Publication place isn't recorded.\")"
   ]
  },
  {
   "cell_type": "code",
   "execution_count": 39,
   "metadata": {},
   "outputs": [
    {
     "name": "stdout",
     "output_type": "stream",
     "text": [
      "Alina, your dog is: Disco\n",
      "Emma, your dog is: Arlo\n",
      "Gosia, your dog is: Mariolka\n",
      "Jess, your dog is: Buddy\n"
     ]
    }
   ],
   "source": [
    "# Looping Through a Dictionary: \n",
    "    # Looping Through a Dictionary’s Keys in a Particular Order\n",
    "\n",
    "dog_owners = {\n",
    "    \"Gosia\": \"Mariolka\",\n",
    "    \"Emma\": \"Arlo\",\n",
    "    \"Jess\": \"Buddy\",\n",
    "    \"Alina\": \"Disco\"\n",
    "}\n",
    "\n",
    "for owner in sorted(dog_owners.keys()):\n",
    "    print(f\"{owner}, your dog is: {dog_owners[owner]}\")"
   ]
  },
  {
   "cell_type": "code",
   "execution_count": 42,
   "metadata": {},
   "outputs": [
    {
     "name": "stdout",
     "output_type": "stream",
     "text": [
      "The dogs I know are:\n",
      "Arlo\n",
      "Buddy\n",
      "Disco\n",
      "Disco\n",
      "Mariolka\n",
      "The dogs I know are:\n",
      "Arlo\n",
      "Disco\n",
      "Mariolka\n",
      "Buddy\n"
     ]
    }
   ],
   "source": [
    "# Looping Through a Dictionary: Looping Through All Values in a Dictionary\n",
    "\n",
    "dog_owners = {\n",
    "    \"Gosia\": \"Mariolka\",\n",
    "    \"Emma\": \"Arlo\",\n",
    "    \"Jess\": \"Buddy\",\n",
    "    \"Alina\": \"Disco\",\n",
    "    \"Alina's partner\": \"Disco\"\n",
    "    }\n",
    "\n",
    "print(\"The dogs I know are:\")\n",
    "for dog in sorted(dog_owners.values()): # pull values without checking for duplicates\n",
    "    print(dog) #Disco appears twice\n",
    "\n",
    "print(\"The dogs I know are:\")\n",
    "for dog in set(sorted(dog_owners.values())): # use set() to dedupe the list\n",
    "    print(dog) # Disco appears once"
   ]
  },
  {
   "cell_type": "code",
   "execution_count": 43,
   "metadata": {},
   "outputs": [
    {
     "name": "stdout",
     "output_type": "stream",
     "text": [
      "{'Netherlands', 'Poland', 'UK'}\n"
     ]
    }
   ],
   "source": [
    "# Buolding a set\n",
    "    # set: always returns deduped values\n",
    "\n",
    "countries = {\"Netherlands\", \"Poland\", \"Poland\", \"UK\"}\n",
    "print(countries) # Poland appears only once"
   ]
  },
  {
   "cell_type": "code",
   "execution_count": 44,
   "metadata": {},
   "outputs": [
    {
     "name": "stdout",
     "output_type": "stream",
     "text": [
      "In Python, List means: collection of objects of any types that can be modified\n",
      "In Python, Tuple means: collection of objects of any types that cannot be modified\n",
      "In Python, Dictionary means: collection of key-value pairs\n"
     ]
    }
   ],
   "source": [
    "# Dictionaries: exercises \n",
    "# Glossary 2: Now that you know how to loop through a dictionary, clean\n",
    "# up the code from Exercise 6-3 (page 99) by replacing your series of print()\n",
    "# calls with a loop that runs through the dictionary’s keys and values. When\n",
    "# you’re sure that your loop works, add five more Python terms to your glossary.\n",
    "# When you run your program again, these new words and meanings should\n",
    "# automatically be included in the output.\n",
    "\n",
    "python_glossary = {\n",
    "    \"list\": \"collection of objects of any types that can be modified\",\n",
    "    \"tuple\": \"collection of objects of any types that cannot be modified\",\n",
    "    \"dictionary\": \"collection of key-value pairs\"\n",
    "}\n",
    "\n",
    "for k, v in python_glossary.items():\n",
    "    print(f\"In Python, {k.title()} means: {v}\")"
   ]
  },
  {
   "cell_type": "code",
   "execution_count": 48,
   "metadata": {},
   "outputs": [
    {
     "name": "stdout",
     "output_type": "stream",
     "text": [
      "Wisla runs through Polska.\n",
      "Thames runs through England.\n",
      "Amstel runs through Netherlands.\n",
      "Wisla\n",
      "Thames\n",
      "Amstel\n",
      "Polska\n",
      "England\n",
      "Netherlands\n"
     ]
    }
   ],
   "source": [
    "# Dictionaries: exercises \n",
    "# Rivers: Make a dictionary containing three major rivers and the country\n",
    "# each river runs through. One key-value pair might be 'nile': 'egypt'.\n",
    "# •\t Use a loop to print a sentence about each river, such as The Nile runs\n",
    "# through Egypt.\n",
    "# •\t Use a loop to print the name of each river included in the dictionary.\n",
    "# •\t Use a loop to print the name of each country included in the dictionary\n",
    "\n",
    "rivers = {\n",
    "    \"wisla\": \"Polska\",\n",
    "    \"Thames\": \"England\",\n",
    "    \"amstel\": \"netherlands\"\n",
    "}\n",
    "\n",
    "for k, v in rivers.items():\n",
    "    print(f\"{k.title()} runs through {v.title()}.\")\n",
    "\n",
    "for river in rivers:\n",
    "    print(river.title())\n",
    "\n",
    "for country in rivers.values():\n",
    "    print(country.title())"
   ]
  },
  {
   "cell_type": "code",
   "execution_count": 60,
   "metadata": {},
   "outputs": [
    {
     "name": "stdout",
     "output_type": "stream",
     "text": [
      "Gosia, you've already registered your dog.\n",
      "Jess, you've already registered your dog.\n",
      "Alina, you've already registered your dog.\n",
      "Alina Partner, you've already registered your dog.\n",
      "Dominika, you should register your dog.\n",
      "Emma, you've already registered your dog.\n",
      "Sean, you should register your dog.\n"
     ]
    }
   ],
   "source": [
    "# Dictionaries: exercises \n",
    "# Polling: Use the code in favorite_languages.py (page 97).\n",
    "# •\t Make a list of people who should take the favorite languages poll. Include\n",
    "# some names that are already in the dictionary and some that are not.\n",
    "# •\t Loop through the list of people who should take the poll. If they have\n",
    "# already taken the poll, print a message thanking them for responding.\n",
    "# If they have not yet taken the poll, print a message inviting them to take\n",
    "# the poll.\n",
    "\n",
    "dog_owners = {\n",
    "    \"Gosia\": \"Mariolka\",\n",
    "    \"Emma\": \"Arlo\",\n",
    "    \"Jess\": \"Buddy\",\n",
    "    \"Alina\": \"Disco\",\n",
    "    \"Alina Partner\": \"Disco\"\n",
    "    }\n",
    "\n",
    "all_dog_owners = [\"Gosia\", \"jess\", \"Alina\", \"alina partner\", \"Dominika\", \"Emma\", \"sean\"]\n",
    "\n",
    "for name in all_dog_owners:\n",
    "    if name.title() not in dog_owners:\n",
    "        print(f\"{name.title()}, you should register your dog.\")\n",
    "    else:\n",
    "        print(f\"{name.title()}, you've already registered your dog.\")"
   ]
  },
  {
   "cell_type": "code",
   "execution_count": 70,
   "metadata": {},
   "outputs": [
    {
     "name": "stdout",
     "output_type": "stream",
     "text": [
      "{'name': 'Mariolka', 'age': 14, 'favourite spot': 'armchair'}\n",
      "{'name': 'Arlo', 'age': 0.5, 'favourite spot': 'couch'}\n",
      "{'name': 'Arlo', 'age': 0.5, 'favourite spot': 'couch'}\n",
      "{'name': 'Arlo', 'age': 0.5, 'favourite spot': 'couch'}\n",
      "{'name': 'Arlo', 'age': 0.5, 'favourite spot': 'couch'}\n",
      "{'name': 'Arlo', 'age': 0.5, 'favourite spot': 'couch'}\n",
      "{'name': 'Arlo', 'age': 0.5, 'favourite spot': 'couch'}\n",
      "30\n",
      "{'colour': 'yellow', 'points': 10, 'speed': 'medium'}\n",
      "{'colour': 'yellow', 'points': 10, 'speed': 'medium'}\n",
      "{'colour': 'yellow', 'points': 10, 'speed': 'medium'}\n",
      "{'colour': 'green', 'points': 5, 'speed': 'slow'}\n",
      "{'colour': 'green', 'points': 5, 'speed': 'slow'}\n",
      "{'colour': 'red', 'points': 15, 'speed': 'fast'}\n",
      "{'colour': 'red', 'points': 15, 'speed': 'fast'}\n",
      "{'colour': 'red', 'points': 15, 'speed': 'fast'}\n",
      "{'colour': 'yellow', 'points': 10, 'speed': 'medium'}\n",
      "{'colour': 'yellow', 'points': 10, 'speed': 'medium'}\n",
      "{'colour': 'yellow', 'points': 10, 'speed': 'medium'}\n",
      "{'colour': 'yellow', 'points': 10, 'speed': 'medium'}\n",
      "{'colour': 'yellow', 'points': 10, 'speed': 'medium'}\n",
      "{'colour': 'yellow', 'points': 10, 'speed': 'medium'}\n",
      "{'colour': 'yellow', 'points': 10, 'speed': 'medium'}\n"
     ]
    }
   ],
   "source": [
    "# Nesting\n",
    "    # storing multiple dictionaries in a list, list of items as a value in dictionary, etc\n",
    "\n",
    "# A List of Dictionaries\n",
    "dog_0 = {\"name\": \"Mariolka\", \"age\": 14, \"favourite spot\" : \"armchair\"} \n",
    "dog_1 = {\"name\": \"Arlo\", \"age\": 0.5, \"favourite spot\": \"couch\"}\n",
    "\n",
    "dogs = [dog_0, dog_1]\n",
    "\n",
    "for dog in dogs:\n",
    "    print(dog)\n",
    "\n",
    "# add more dogs to the list\n",
    "dogs = []\n",
    "\n",
    "for dog_number in range(30):\n",
    "    new_dog = {\"name\": \"Arlo\", \"age\": 0.5, \"favourite spot\": \"couch\"}\n",
    "    dogs.append(new_dog)\n",
    "\n",
    "for dog in dogs[:5]: # show first 5 dogs\n",
    "    print(dog) \n",
    "\n",
    "print(len(dogs)) # checking number of created dogs\n",
    "\n",
    "\n",
    "\n",
    "# alien example, changing aliens as the game progresses\n",
    "aliens = []\n",
    "\n",
    "# Make 30 green aliens\n",
    "for alien_number in range (30):\n",
    "    new_alien = {'colour': 'green', 'points': 5, 'speed': 'slow'}\n",
    "    aliens.append(new_alien)\n",
    "\n",
    "for alien in aliens[:3]:\n",
    "    if alien[\"colour\"] == \"green\":\n",
    "        alien[\"colour\"] = \"yellow\" \n",
    "        alien[\"speed\"] = \"medium\" \n",
    "        alien[\"points\"] = 10\n",
    "\n",
    "# show the 5 first aliens\n",
    "for alien in aliens[:5]:\n",
    "    print(alien)\n",
    "\n",
    "\n",
    "# Make sure you only modify the green aliens\n",
    "# aliens = []\n",
    "# \n",
    "# for alien_number in range (30):\n",
    "#     new_alien = {'colour': 'green', 'points': 5, 'speed': 'slow'}\n",
    "#     aliens.append(new_alien)\n",
    "\n",
    "for alien in aliens[:10]:\n",
    "    if alien[\"colour\"] == \"green\":\n",
    "        alien[\"colour\"] = \"yellow\" \n",
    "        alien[\"speed\"] = \"medium\" \n",
    "        alien[\"points\"] = 10\n",
    "    elif alien[\"colour\"] == \"yellow\":\n",
    "        alien['colour'] = 'red'\n",
    "        alien['speed'] = 'fast'\n",
    "        alien['points'] = 15\n",
    "\n",
    "for alien in aliens[:10]:\n",
    "    print(alien)"
   ]
  },
  {
   "cell_type": "code",
   "execution_count": 74,
   "metadata": {},
   "outputs": [
    {
     "name": "stdout",
     "output_type": "stream",
     "text": [
      "You've ordered a thin-crust pizza\n",
      "with the following toppings:\n",
      "\tmushrooms\n",
      "\tolives\n",
      "\ttuna\n"
     ]
    }
   ],
   "source": [
    "# Nesting: A List in a Dictionary\n",
    "\n",
    "# Store info about ordered pizzas\n",
    "\n",
    "pizza = {\n",
    "    'crust': 'thin',\n",
    "    'toppings': ['mushrooms', 'olives', 'tuna']\n",
    "}\n",
    "\n",
    "print(f\"You've ordered a {pizza['crust']}-crust pizza\\nwith the following toppings:\")\n",
    "\n",
    "for topping in pizza['toppings']:\n",
    "    print(f\"\\t{topping}\")"
   ]
  },
  {
   "cell_type": "code",
   "execution_count": 76,
   "metadata": {},
   "outputs": [
    {
     "name": "stdout",
     "output_type": "stream",
     "text": [
      "\n",
      "Gosia's dogs are:\n",
      "\t-Mariolka\n",
      "\n",
      "Emma's dogs are:\n",
      "\t-Joey\n",
      "\t-Arlo\n",
      "\n",
      "Jess's dogs are:\n",
      "\t-Jake\n",
      "\t-Benji\n",
      "\t-Buddy\n",
      "\n",
      "Alina's dogs are:\n",
      "\t-Pixel\n",
      "\t-Disco\n"
     ]
    }
   ],
   "source": [
    "# Nesting: A List in a Dictionary\n",
    "\n",
    "dog_owners = {\n",
    "    \"Gosia\": [\"Mariolka\"],\n",
    "    \"Emma\": [\"Joey\", \"Arlo\"],\n",
    "    \"Jess\": [\"Jake\", \"Benji\", \"Buddy\"],\n",
    "    \"Alina\": [\"Pixel\", \"Disco\"],\n",
    "}\n",
    "\n",
    "for owner, dogs in dog_owners.items():\n",
    "    print(f\"\\n{owner.title()}'s dogs are:\")\n",
    "    for dog in dogs:\n",
    "        print(f\"\\t-{ dog.title()}\")"
   ]
  },
  {
   "cell_type": "code",
   "execution_count": 2,
   "metadata": {},
   "outputs": [
    {
     "name": "stdout",
     "output_type": "stream",
     "text": [
      "Dog name: Mariolka\n",
      "Age is 14\n",
      "Favourite things are armchair and sausage\n",
      "Dog name: Arlo\n",
      "Age is 0.5\n",
      "Favourite things are couch and chicken\n"
     ]
    }
   ],
   "source": [
    "# Nesting: A Dictionary in a Dictionary \n",
    "dogs = {\n",
    "    \"Mariolka\": {\n",
    "        \"age\": 14,\n",
    "        \"favourite spot\": \"armchair\",\n",
    "        \"favourite food\": \"sausage\"\n",
    "    },\n",
    "    \n",
    "    \"Arlo\": {\n",
    "        \"age\": 0.5,\n",
    "        \"favourite spot\": \"couch\",\n",
    "        \"favourite food\": \"chicken\"\n",
    "    }\n",
    "}\n",
    "\n",
    "for dog_name, dog_info in dogs.items():\n",
    "    print(f\"Dog name: {dog_name}\")\n",
    "    age = dog_info[\"age\"]\n",
    "    favourite_things = f\"{dog_info['favourite spot']} and {dog_info['favourite food']}\"\n",
    "# got an error for using \"\" above instead of ''\n",
    "\n",
    "    print(f\"Age is {age}\") \n",
    "    print(f\"Favourite things are {favourite_things}\")"
   ]
  },
  {
   "cell_type": "code",
   "execution_count": 5,
   "metadata": {},
   "outputs": [
    {
     "name": "stdout",
     "output_type": "stream",
     "text": [
      "Dawid Podsiadlo, of Polska, is 31 years old.\n",
      "Danila Podsiadlecki, of Praga, is 62 years old.\n"
     ]
    }
   ],
   "source": [
    "# Loop Exercises: \n",
    "# People: Start with the program you wrote for Exercise 6-1 (page 99).\n",
    "# Make two new dictionaries representing different people, and store all three\n",
    "# dictionaries in a list called people. Loop through your list of people. As you\n",
    "# loop through the list, print everything you know about each person.\n",
    "\n",
    "person_1 = {\n",
    "    \"name\": \"Dawid\",\n",
    "    \"surname\": \"Podsiadlo\",\n",
    "    \"age\": 31,\n",
    "    \"city\": \"Polska\"\n",
    "}\n",
    "\n",
    "person_2 = {\n",
    "    \"name\": \"Danila\",\n",
    "    \"surname\": \"Podsiadlecki\",\n",
    "    \"age\": 62,\n",
    "    \"city\": \"Praga\"\n",
    "}\n",
    "\n",
    "people = [person_1, person_2]\n",
    "\n",
    "for person in people:\n",
    "    name = f\"{person['name']} {person['surname']}\"\n",
    "    age = person['age']\n",
    "    city = person['city']\n",
    "    print(f\"{name}, of {city}, is {age} years old.\")\n",
    "\n"
   ]
  },
  {
   "cell_type": "code",
   "execution_count": 8,
   "metadata": {},
   "outputs": [
    {
     "name": "stdout",
     "output_type": "stream",
     "text": [
      "Mariolka is 13 and lives in Poland\n",
      "Arlo is 1 and lives in UK\n"
     ]
    }
   ],
   "source": [
    "# Pets: Make several dictionaries, where each dictionary represents a different pet. In each dictionary, include the kind of animal and the owner’s name.\n",
    "# Store these dictionaries in a list called pets. Next, loop through your list and as\n",
    "# you do, print everything you know about each pet.\n",
    "\n",
    "dog_1 = {\n",
    "    'name': 'Mariolka',\n",
    "    'age' : 13,\n",
    "    'country': 'Poland'\n",
    "}\n",
    "\n",
    "dog_2 = {\n",
    "    'name': 'Arlo',\n",
    "    'age' : 1,\n",
    "    'country': 'UK'\n",
    "}\n",
    "\n",
    "pets = [dog_1, dog_2]\n",
    "\n",
    "for pet in pets:\n",
    "    name = pet['name']\n",
    "    age = pet['age']\n",
    "    country = pet['country']\n",
    "    dog_info = f\"{name} is {age} and lives in {country}\"\n",
    "    print(dog_info)"
   ]
  },
  {
   "cell_type": "code",
   "execution_count": 16,
   "metadata": {},
   "outputs": [
    {
     "name": "stdout",
     "output_type": "stream",
     "text": [
      "Gosia likes the following places\n",
      "\t-Paris\n",
      "\t-Poland\n",
      "\t-Austria\n",
      "James likes the following places\n",
      "\t-Paris\n",
      "\t-Norway\n",
      "\t-Poland\n"
     ]
    }
   ],
   "source": [
    "# 6-9. Favorite Places: Make a dictionary called favorite_places. Think of three\n",
    "# names to use as keys in the dictionary, and store one to three favorite places\n",
    "# for each person. To make this exercise a bit more interesting, ask some friends\n",
    "# to name a few of their favorite places. Loop through the dictionary, and print\n",
    "# each person’s name and their favorite places.\n",
    "\n",
    "favourite_places = {\n",
    "    'Gosia': ['Paris', 'Poland', 'Austria'],\n",
    "    'James': ['Paris', 'Norway', 'Poland']\n",
    "}\n",
    "\n",
    "#gosia likes the following places:\n",
    "#- p1 \n",
    "#- p2 \n",
    "\n",
    "for person, places in favourite_places.items():\n",
    "    print(f\"{person} likes the following places\")\n",
    "    for place in places:\n",
    "        print(f\"\\t-{ place.title()}\")"
   ]
  },
  {
   "cell_type": "code",
   "execution_count": null,
   "metadata": {},
   "outputs": [
    {
     "name": "stdout",
     "output_type": "stream",
     "text": [
      "Gosia owned followig dogs:\n",
      "\t-Mariolka\n",
      "\t-Pixel\n",
      "Emma owned followig dogs:\n",
      "\t-Joey\n",
      "\t-Lulu\n",
      "\t-Arlo\n",
      "Jess owned followig dogs:\n",
      "\t-Benji\n",
      "\t-Jake\n",
      "\t-Buddy\n",
      "Alina owned followig dogs:\n",
      "\t-Disco\n"
     ]
    }
   ],
   "source": [
    "# 6-10. Favorite Numbers: Modify your program from Exercise 6-2 (page 99) \n",
    "# so each person can have more than one favorite number. Then print each person’s \n",
    "# name along with their favorite numbers\n",
    "\n",
    "dog_owners_extended = {\n",
    "    \"Gosia\": {\"Mariolka\", \"Pixel\"},\n",
    "    \"Emma\": {\"Lulu\", \"Joey\", \"Arlo\"},\n",
    "    \"Jess\": {\"Jake\", \"Benji\", \"Buddy\"},\n",
    "    \"Alina\": {\"Disco\"}\n",
    "}\n",
    "\n",
    "for person, dogs in dog_owners_extended.items():\n",
    "    print(f\"{person} owned followig dogs:\")\n",
    "    for dog in dogs:\n",
    "        print(f\"\\t-{dog}\")"
   ]
  },
  {
   "cell_type": "code",
   "execution_count": 3,
   "metadata": {},
   "outputs": [
    {
     "name": "stdout",
     "output_type": "stream",
     "text": [
      "Amsterdam has following facts:\n",
      "\t-1 mln\n",
      "\t-Netherlands\n",
      "\t-Europe\n",
      "Krakow has following facts:\n",
      "\t-0.8 mln\n",
      "\t-Poland\n",
      "\t-Europe\n"
     ]
    }
   ],
   "source": [
    "# 6-11. Cities: Make a dictionary called cities. Use the names of three cities as \n",
    "# keys in your dictionary. Create a dictionary of information about each city and \n",
    "# include the country that the city is in, its approximate population, and one fact \n",
    "# about that city. The keys for each city’s dictionary should be something like \n",
    "# country, population, and fact. Print the name of each city and all of the information \n",
    "# you have stored about it\n",
    "\n",
    "\n",
    "cities_and_facts = {\n",
    "    \"Amsterdam\": {\"population\": \"1 mln\", \"country\":\"Netherlands\", \"continent\":\"Europe\"},\n",
    "    \"Krakow\": {\"population\": \"0.8 mln\", \"country\":\"Poland\", \"continent\":\"Europe\"}\n",
    "}\n",
    "\n",
    "for city, fact in cities_and_facts.items():\n",
    "    print(f\"{city} has following facts:\")\n",
    "    for fact, details in fact.items():\n",
    "        print(f\"\\t-{details}\")"
   ]
  },
  {
   "cell_type": "code",
   "execution_count": 19,
   "metadata": {},
   "outputs": [
    {
     "name": "stdout",
     "output_type": "stream",
     "text": [
      "Amsterdam, Netherlands lies in Europe and has a population of 1 mln\n",
      "Krakow, Poland lies in Europe and has a population of 0.8 mln\n"
     ]
    }
   ],
   "source": [
    "# 6-12. Extensions: We’re now working with examples that are complex enough \n",
    "# that they can be extended in any number of ways. Use one of the example programs \n",
    "# from this chapter, and extend it by adding new keys and values, changing the \n",
    "# context of the program or improving the formatting of the output\n",
    "\n",
    "# program from 6.11\n",
    "    # add capitalisation\n",
    "    # change the output to, {city} in {continent} has the population of {population} \n",
    " \n",
    "cities_and_facts = {\n",
    "    \"Amsterdam\": {\"population\": \"1 mln\", \"country\":\"Netherlands\", \"continent\":\"Europe\"},\n",
    "    \"Krakow\": {\"population\": \"0.8 mln\", \"country\":\"Poland\", \"continent\":\"Europe\"}\n",
    "}\n",
    "\n",
    "for city, facts in cities_and_facts.items():\n",
    "    city_name = city \n",
    "    population = facts[\"population\"]\n",
    "    country = facts[\"country\"]\n",
    "    continent = facts[\"continent\"]\n",
    "\n",
    "    print(f\"{city}, {country} lies in {continent} and has a population of {population}\")"
   ]
  }
 ],
 "metadata": {
  "kernelspec": {
   "display_name": "Python 3",
   "language": "python",
   "name": "python3"
  },
  "language_info": {
   "codemirror_mode": {
    "name": "ipython",
    "version": 3
   },
   "file_extension": ".py",
   "mimetype": "text/x-python",
   "name": "python",
   "nbconvert_exporter": "python",
   "pygments_lexer": "ipython3",
   "version": "3.9.3"
  }
 },
 "nbformat": 4,
 "nbformat_minor": 2
}
