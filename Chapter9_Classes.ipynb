{
 "cells": [
  {
   "cell_type": "code",
   "execution_count": 1,
   "id": "ff4ef84a",
   "metadata": {},
   "outputs": [],
   "source": [
    "# when you create a class, you define a general behaviour that a whole category\n",
    "# of objects can have\n",
    "\n",
    "# instantation - making an object from class\n",
    "\n",
    "# creating and using a class\n",
    "    # creating the dog class\n",
    "\n",
    "class Dog:\n",
    "    \"\"\"\n",
    "    A simple class that models a dog\n",
    "    \"\"\"\n",
    "\n",
    "    def __init__(self, name, age):\n",
    "        \"\"\"\n",
    "        Init name and age attributes\n",
    "        \"\"\"\n",
    "        self.name = name\n",
    "        self.age = age\n",
    "\n",
    "    def sit(self):\n",
    "        \"\"\"Simulate a dog sitting in response to a command.\"\"\"\n",
    "        print(f\"{self.name} is now sitting.\")\n",
    "\n",
    "    def roll_over(self):\n",
    "        \"\"\"Simulate rolling over in response to a command.\"\"\"\n",
    "        print(f\"{self.name} rolled over!\")"
   ]
  },
  {
   "cell_type": "code",
   "execution_count": 3,
   "id": "048ff66a",
   "metadata": {},
   "outputs": [
    {
     "name": "stdout",
     "output_type": "stream",
     "text": [
      "My dog's name is Mariolka.\n",
      "My dog is 15 years old.\n"
     ]
    }
   ],
   "source": [
    "my_dog = Dog(\"Mariolka\", 15)\n",
    "\n",
    "print(f\"My dog's name is {my_dog.name}.\")\n",
    "print(f\"My dog is {my_dog.age} years old.\")"
   ]
  },
  {
   "cell_type": "code",
   "execution_count": null,
   "id": "772d3e8a",
   "metadata": {},
   "outputs": [
    {
     "data": {
      "text/plain": [
       "'Mariolka'"
      ]
     },
     "execution_count": 4,
     "metadata": {},
     "output_type": "execute_result"
    }
   ],
   "source": [
    "# accessing attributes\n",
    "    # use a dot\n",
    "my_dog.name"
   ]
  },
  {
   "cell_type": "code",
   "execution_count": null,
   "id": "17dc0495",
   "metadata": {},
   "outputs": [
    {
     "name": "stdout",
     "output_type": "stream",
     "text": [
      "Mariolka is now sitting.\n",
      "Mariolka rolled over!\n"
     ]
    }
   ],
   "source": [
    "# calling methods from a class\n",
    "    # use the instance name, and then the method you want to call\n",
    "my_dog.sit()\n",
    "my_dog.roll_over()"
   ]
  },
  {
   "cell_type": "code",
   "execution_count": null,
   "id": "39fda10b",
   "metadata": {},
   "outputs": [
    {
     "name": "stdout",
     "output_type": "stream",
     "text": [
      "My dog's name is Mariola.\n",
      "My dog is 6 years old.\n",
      "Mariola is now sitting.\n",
      "\n",
      "Your dog's name is Pixel.\n",
      "Your dog is 3 years old.\n",
      "Pixel is now sitting.\n"
     ]
    }
   ],
   "source": [
    "# create multiple instances\n",
    "    # make as many as you'd like but they need a unique name\n",
    "my_dog = Dog('Mariola', 6)\n",
    "your_dog = Dog('Pixel', 3)\n",
    "\n",
    "# use attributes of the instance by calling instance_name.attribute \n",
    "# defined in the init method\n",
    "print(f\"My dog's name is {my_dog.name}.\") \n",
    "print(f\"My dog is {my_dog.age} years old.\")\n",
    "# use the methods (class functions) from the class by calling instance_name.method_name\n",
    "my_dog.sit()\n",
    "\n",
    "print(f\"\\nYour dog's name is {your_dog.name}.\")\n",
    "print(f\"Your dog is {your_dog.age} years old.\")\n",
    "your_dog.sit()"
   ]
  },
  {
   "cell_type": "code",
   "execution_count": 17,
   "id": "cfa78d39",
   "metadata": {},
   "outputs": [
    {
     "name": "stdout",
     "output_type": "stream",
     "text": [
      "My restaurant is called: Otemba.\n",
      "My restaurant serves japanese cuisine.\n",
      "The restaurant is open.\n"
     ]
    }
   ],
   "source": [
    "# EXERCISES\n",
    "\n",
    "# 9-1. Restaurant: Make a class called Restaurant. The __init__() method for\n",
    "# Restaurant should store two attributes: a restaurant_name and a cuisine_type.\n",
    "# Make a method called describe_restaurant() that prints these two pieces of\n",
    "# information, and a method called open_restaurant() that prints a message \n",
    "# indicating that the restaurant is open. # Make an instance called restaurant \n",
    "# from your class. Print the two attributes individually, and then call both \n",
    "# methods.\n",
    "\n",
    "\n",
    "class Restaurant:\n",
    "    \"\"\" \n",
    "    A class that models a restaurant\n",
    "    \"\"\"\n",
    "\n",
    "    def __init__(self, restaurant_name, cuisine_type):\n",
    "        self.restaurant_name = restaurant_name.title() \n",
    "        self.cuisine_type = cuisine_type.lower()\n",
    "\n",
    "    def describe_restaurant(self):\n",
    "        print(f\"My restaurant is called: {self.restaurant_name}.\")\n",
    "        print(f\"My restaurant serves {self.cuisine_type} cuisine.\")\n",
    "\n",
    "    def open_restaurant(self):\n",
    "        print(\"The restaurant is open.\")\n",
    "    \n",
    "\n",
    "otemba_resturant = Restaurant(\"Otemba\", \"Japanese\")\n",
    "otemba_resturant\n",
    "otemba_resturant.restaurant_name \n",
    "otemba_resturant.cuisine_type \n",
    "\n",
    "otemba_resturant.describe_restaurant()\n",
    "otemba_resturant.open_restaurant()"
   ]
  },
  {
   "cell_type": "code",
   "execution_count": 18,
   "id": "78b3347d",
   "metadata": {},
   "outputs": [
    {
     "name": "stdout",
     "output_type": "stream",
     "text": [
      "My restaurant is called: Vegitalian.\n",
      "My restaurant serves italian cuisine.\n",
      "My restaurant is called: Caffee Mussee.\n",
      "My restaurant serves french cuisine.\n"
     ]
    }
   ],
   "source": [
    "# 9-2. Three Restaurants: Start with your class from Exercise 9-1. Create three\n",
    "# different instances from the class, and call describe_restaurant() for each\n",
    "# instance\n",
    "\n",
    "vegitalian = Restaurant(\"vegitalian\", \"italian\")\n",
    "caffee_mussee = Restaurant(\"caffee mussee\", \"french\")\n",
    "\n",
    "vegitalian.describe_restaurant()\n",
    "caffee_mussee.describe_restaurant()"
   ]
  },
  {
   "cell_type": "code",
   "execution_count": 19,
   "id": "c82f3198",
   "metadata": {},
   "outputs": [
    {
     "name": "stdout",
     "output_type": "stream",
     "text": [
      "User mariolka is called Mariola Zurkowna.\n",
      "User mariolka is 15 years old and comes from Skawina.\n",
      "Hello mariolka.\n"
     ]
    }
   ],
   "source": [
    "# 9-3. Users: Make a class called User. Create two attributes called first_name\n",
    "# and last_name, and then create several other attributes that are typically stored\n",
    "# in a user profile. Make a method called describe_user() that prints a summary\n",
    "# of the user’s information. Make another method called greet_user() that prints\n",
    "# a personalized greeting to the user.\n",
    "# Create several instances representing different users, and call both methods\n",
    "# for each user\n",
    "\n",
    "class User:\n",
    "    def __init__(self, first_name, last_name, user_name, age, city):\n",
    "        self.first_name = first_name\n",
    "        self.last_name = last_name \n",
    "        self.user_name = user_name\n",
    "        self.age = age\n",
    "        self.city = city \n",
    "\n",
    "    def describe_user(self):\n",
    "        print(f\"User {self.user_name} is called {self.first_name.title()} {self.last_name. title()}.\")\n",
    "        print(f\"User {self.user_name} is {self.age} years old and comes from {self.city. title()}.\")\n",
    "\n",
    "    def greet_user(self):\n",
    "        print(f\"Hello {self.user_name}.\")\n",
    "\n",
    "\n",
    "user_mariola = User(\"Mariola\", \"Zurkowna\", \"mariolka\", 15, \"Skawina\")\n",
    "\n",
    "\n",
    "user_mariola.user_name \n",
    "user_mariola.age \n",
    "\n",
    "user_mariola.describe_user()\n",
    "user_mariola.greet_user()"
   ]
  },
  {
   "cell_type": "code",
   "execution_count": null,
   "id": "c909f14d",
   "metadata": {},
   "outputs": [
    {
     "name": "stdout",
     "output_type": "stream",
     "text": [
      "2019 Audi A4\n"
     ]
    }
   ],
   "source": [
    "# Working with classes and instances\n",
    "\n",
    "class Car:\n",
    "    \"\"\"A simple attempt to represent a car.\"\"\"\n",
    "\n",
    "    def __init__(self, make, model, year):\n",
    "        \"\"\"Initialize attributes to describe a car.\"\"\"\n",
    "        self.make = make\n",
    "        self.model = model\n",
    "        self.year = year\n",
    "        \n",
    "\n",
    "    def get_descriptive_name(self):\n",
    "        \"\"\"Return a neatly formatted descriptive name.\"\"\"\n",
    "        long_name = f\"{self.year} {self.make} {self.model}\"\n",
    "        return long_name.title()\n",
    "\n",
    "my_new_car = Car('audi', 'a4', 2019)\n",
    "print(my_new_car.get_descriptive_name())"
   ]
  },
  {
   "cell_type": "code",
   "execution_count": 23,
   "id": "56606b72",
   "metadata": {},
   "outputs": [
    {
     "name": "stdout",
     "output_type": "stream",
     "text": [
      "2019 Audi A4\n",
      "This car has 0 miles on it.\n"
     ]
    }
   ],
   "source": [
    "# setting a default value for an attribute\n",
    "class Car:\n",
    "    \"\"\"A simple attempt to represent a car.\"\"\"\n",
    "\n",
    "    def __init__(self, make, model, year):\n",
    "        \"\"\"Initialize attributes to describe a car.\"\"\"\n",
    "        self.make = make\n",
    "        self.model = model\n",
    "        self.year = year\n",
    "        self.odometer_reading = 0\n",
    "\n",
    "    def get_descriptive_name(self):\n",
    "        \"\"\"Return a neatly formatted descriptive name.\"\"\"\n",
    "        long_name = f\"{self.year} {self.make} {self.model}\"\n",
    "        return long_name.title()\n",
    "    \n",
    "    def read_odometer(self):\n",
    "        \"\"\"Print a statement showing the car's mileage.\"\"\"\n",
    "        print(f\"This car has {self.odometer_reading} miles on it.\")\n",
    "\n",
    "my_new_car = Car('audi', 'a4', 2019)\n",
    "print(my_new_car.get_descriptive_name())\n",
    "my_new_car.read_odometer()"
   ]
  },
  {
   "cell_type": "code",
   "execution_count": 24,
   "id": "217ea936",
   "metadata": {},
   "outputs": [
    {
     "name": "stdout",
     "output_type": "stream",
     "text": [
      "This car has 23 miles on it.\n"
     ]
    }
   ],
   "source": [
    "# modifying attribute values (3 ways)\n",
    "    \n",
    "# 1. change the value directly through an instance\n",
    "my_new_car.odometer_reading = 23\n",
    "my_new_car.read_odometer()"
   ]
  },
  {
   "cell_type": "code",
   "execution_count": 35,
   "id": "929d1fa7",
   "metadata": {},
   "outputs": [
    {
     "name": "stdout",
     "output_type": "stream",
     "text": [
      "This car has 10 miles on it.\n"
     ]
    }
   ],
   "source": [
    "# 2. Modifying an Attribute’s Value Through a Method\n",
    "class Car:\n",
    "    \"\"\"A simple attempt to represent a car.\"\"\"\n",
    "\n",
    "    def __init__(self, make, model, year):\n",
    "        \"\"\"Initialize attributes to describe a car.\"\"\"\n",
    "        self.make = make\n",
    "        self.model = model\n",
    "        self.year = year\n",
    "        self.odometer_reading = 0\n",
    "\n",
    "    def get_descriptive_name(self):\n",
    "        \"\"\"Return a neatly formatted descriptive name.\"\"\"\n",
    "        long_name = f\"{self.year} {self.make} {self.model}\"\n",
    "        return long_name.title()\n",
    "    \n",
    "    def read_odometer(self):\n",
    "        \"\"\"Print a statement showing the car's mileage.\"\"\"\n",
    "        print(f\"This car has {self.odometer_reading} miles on it.\")\n",
    "\n",
    "    def update_odometer(self, mileage):\n",
    "        \"\"\"\n",
    "        Set the odometer reading to the given value.\n",
    "        Reject the change if it attempts to roll the odometer back.\n",
    "        \"\"\"\n",
    "        if mileage >= self.odometer_reading:\n",
    "            self.odometer_reading = mileage\n",
    "        else:\n",
    "            print(\"You can't roll back an odometer!\")\n",
    "\n",
    "my_new_car = Car('audi', 'a4', 2019)\n",
    "my_new_car.update_odometer(10)\n",
    "my_new_car.read_odometer()\n"
   ]
  },
  {
   "cell_type": "code",
   "execution_count": null,
   "id": "a87e6fb5",
   "metadata": {},
   "outputs": [
    {
     "name": "stdout",
     "output_type": "stream",
     "text": [
      "2015 Subaru Outback\n",
      "This car has 23500 miles on it.\n",
      "This car has 23600 miles on it.\n"
     ]
    }
   ],
   "source": [
    "# 3. Incrementing an Attribute’s Value Through a Method\n",
    "class Car:\n",
    "    \"\"\"A simple attempt to represent a car.\"\"\"\n",
    "\n",
    "    def __init__(self, make, model, year):\n",
    "        \"\"\"Initialize attributes to describe a car.\"\"\"\n",
    "        self.make = make\n",
    "        self.model = model\n",
    "        self.year = year\n",
    "        self.odometer_reading = 0\n",
    "\n",
    "    def get_descriptive_name(self):\n",
    "        \"\"\"Return a neatly formatted descriptive name.\"\"\"\n",
    "        long_name = f\"{self.year} {self.make} {self.model}\"\n",
    "        return long_name.title()\n",
    "    \n",
    "    def read_odometer(self):\n",
    "        \"\"\"Print a statement showing the car's mileage.\"\"\"\n",
    "        print(f\"This car has {self.odometer_reading} miles on it.\")\n",
    "\n",
    "    def update_odometer(self, mileage):\n",
    "        \"\"\"\n",
    "        Set the odometer reading to the given value.\n",
    "        Reject the change if it attempts to roll the odometer back.\n",
    "        \"\"\"\n",
    "        if mileage >= self.odometer_reading:\n",
    "            self.odometer_reading = mileage\n",
    "        else:\n",
    "            print(\"You can't roll back an odometer!\")\n",
    "\n",
    "    def increment_odometer(self, miles):\n",
    "        \"\"\"Add the given amount to the odometer reading.\"\"\"\n",
    "        if miles > 0:\n",
    "            self.odometer_reading += miles\n",
    "        else:\n",
    "            print(\"You can't roll back an odometer!\")\n",
    "\n",
    "my_used_car = Car('subaru', 'outback', 2015)\n",
    "print(my_used_car.get_descriptive_name())\n",
    "\n",
    "my_used_car.update_odometer(23_500)\n",
    "my_used_car.read_odometer()\n",
    "\n",
    "my_used_car.increment_odometer(100)\n",
    "my_used_car.read_odometer()"
   ]
  },
  {
   "cell_type": "code",
   "execution_count": 50,
   "id": "55627397",
   "metadata": {},
   "outputs": [
    {
     "data": {
      "text/plain": [
       "0"
      ]
     },
     "execution_count": 50,
     "metadata": {},
     "output_type": "execute_result"
    }
   ],
   "source": [
    "# EXERCISES\n",
    "\n",
    "# 9-4. Number Served: Start with your program from Exercise 9-1 (page 162).\n",
    "# Add an attribute called number_served with a default value of 0. Create an\n",
    "# instance called restaurant from this class. Print the number of customers the\n",
    "# restaurant has served, and then change this value and print it again.\n",
    "# Add a method called set_number_served() that lets you set the number\n",
    "# of customers that have been served. Call this method with a new number and\n",
    "# print the value again.\n",
    "# Add a method called increment_number_served() that lets you increment\n",
    "# the number of customers who’ve been served. Call this method with any number \n",
    "# you like that could represent how many customers were served in, say, a\n",
    "# day of business.\n",
    "\n",
    "class Restaurant:\n",
    "    \"\"\" \n",
    "    A class that models a restaurant\n",
    "    \"\"\"\n",
    "\n",
    "    def __init__(self, restaurant_name, cuisine_type):\n",
    "        self.restaurant_name = restaurant_name.title() \n",
    "        self.cuisine_type = cuisine_type.lower()\n",
    "        self.number_served = 0\n",
    "\n",
    "    def describe_restaurant(self):\n",
    "        print(f\"My restaurant is called: {self.restaurant_name}.\")\n",
    "        print(f\"My restaurant serves {self.cuisine_type} cuisine.\")\n",
    "\n",
    "    def open_restaurant(self):\n",
    "        print(\"The restaurant is open.\")\n",
    "\n",
    "    def set_number_served(self, customers):\n",
    "        self.number_served = customers\n",
    "\n",
    "    def increment_number_served(self, customers_increment):\n",
    "        self.number_served += customers_increment\n",
    "    \n",
    "sagra = Restaurant(\"sagra\", \"italian\")\n",
    "sagra.number_served"
   ]
  },
  {
   "cell_type": "code",
   "execution_count": 59,
   "id": "d013dfc4",
   "metadata": {},
   "outputs": [
    {
     "data": {
      "text/plain": [
       "1"
      ]
     },
     "execution_count": 59,
     "metadata": {},
     "output_type": "execute_result"
    }
   ],
   "source": [
    "# 9-5. Login Attempts: Add an attribute called login_attempts to your User\n",
    "# class from Exercise 9-3 (page 162). Write a method called increment_login\n",
    "# _attempts() that increments the value of login_attempts by 1. Write another\n",
    "# method called reset_login_attempts() that resets the value of login_attempts\n",
    "# to 0.\n",
    "# Make an instance of the User class and call increment_login_attempts()\n",
    "# several times. Print the value of login_attempts to make sure it was incremented\n",
    "# properly, and then call reset_login_attempts(). Print login_attempts again to\n",
    "# make sure it was reset to 0.\n",
    "\n",
    "class User:\n",
    "    def __init__(self, first_name, last_name, user_name, age, city):\n",
    "        self.first_name = first_name\n",
    "        self.last_name = last_name \n",
    "        self.user_name = user_name\n",
    "        self.age = age\n",
    "        self.city = city \n",
    "        self.login_attempts = 0\n",
    "\n",
    "    def describe_user(self):\n",
    "        print(f\"User {self.user_name} is called {self.first_name.title()} {self.last_name. title()}.\")\n",
    "        print(f\"User {self.user_name} is {self.age} years old and comes from {self.city. title()}.\")\n",
    "\n",
    "    def greet_user(self):\n",
    "        print(f\"Hello {self.user_name}.\")\n",
    "\n",
    "    def increment_login_attempts(self):\n",
    "        self.login_attempts += 1\n",
    "\n",
    "    def reset_login_attempts(self):\n",
    "        self.login_attempts = 0\n",
    "\n",
    "user_mariola = User(\"Mariola\", \"Zurkowna\", \"mariolka\", 15, \"Skawina\")\n",
    "\n",
    "user_mariola.login_attempts\n",
    "user_mariola.increment_login_attempts()\n",
    "user_mariola.login_attempts"
   ]
  },
  {
   "cell_type": "code",
   "execution_count": null,
   "id": "5dbd166b",
   "metadata": {},
   "outputs": [
    {
     "name": "stdout",
     "output_type": "stream",
     "text": [
      "2019 Tesla Model S\n"
     ]
    }
   ],
   "source": [
    "# Inheritance\n",
    "class Car:\n",
    "    \"\"\"A simple attempt to represent a car.\"\"\"\n",
    "    def __init__(self, make, model, year):\n",
    "        self.make = make\n",
    "        self.model = model\n",
    "        self.year = year\n",
    "        self.odometer_reading = 0\n",
    "\n",
    "    def get_descriptive_name(self):\n",
    "        long_name = f\"{self.year} {self.make} {self.model}\"\n",
    "        return long_name.title()\n",
    "\n",
    "    def read_odometer(self):\n",
    "        print(f\"This car has {self.odometer_reading} miles on it.\")\n",
    "\n",
    "    def update_odometer(self, mileage):\n",
    "        if mileage >= self.odometer_reading:\n",
    "            self.odometer_reading = mileage\n",
    "        else:\n",
    "            print(\"You can't roll back an odometer!\")\n",
    "\n",
    "    def increment_odometer(self, miles):\n",
    "        self.odometer_reading += miles\n",
    "\n",
    "        \n",
    "class ElectricCar(Car):\n",
    "    \"\"\"Represent aspects of a car, specific to electric vehicles.\"\"\"\n",
    "\n",
    "    def __init__(self, make, model, year):\n",
    "        \"\"\"Initialize attributes of the parent class.\"\"\"\n",
    "        super().__init__(make, model, year)\n",
    "\n",
    "my_tesla = ElectricCar('tesla', 'model s', 2019)\n",
    "print(my_tesla.get_descriptive_name())"
   ]
  },
  {
   "cell_type": "code",
   "execution_count": 80,
   "id": "34e22deb",
   "metadata": {},
   "outputs": [
    {
     "name": "stdout",
     "output_type": "stream",
     "text": [
      "2019 Tesla Model S\n",
      "This car has a 75-kWh battery.\n"
     ]
    }
   ],
   "source": [
    "class ElectricCar(Car):\n",
    "    \"\"\"Represent aspects of a car, specific to electric vehicles.\"\"\"\n",
    "\n",
    "    def __init__(self, make, model, year):\n",
    "        \"\"\"Initialize attributes of the parent class.\"\"\"\n",
    "        super().__init__(make, model, year)\n",
    "        self.battery_size = 75\n",
    "\n",
    "    def describe_battery(self):\n",
    "        \"\"\"Print a statement describing the battery size.\"\"\"\n",
    "        print(f\"This car has a {self.battery_size}-kWh battery.\")\n",
    "\n",
    "my_tesla = ElectricCar('tesla', 'model s', 2019)\n",
    "print(my_tesla.get_descriptive_name())\n",
    "my_tesla.describe_battery()"
   ]
  },
  {
   "cell_type": "code",
   "execution_count": null,
   "id": "af13d3a0",
   "metadata": {},
   "outputs": [],
   "source": [
    "# Overriding Methods from the Parent Class\n",
    "\n",
    "class ElectricCar(Car):\n",
    "    \"\"\"Represent aspects of a car, specific to electric vehicles.\"\"\"\n",
    "\n",
    "    def __init__(self, make, model, year):\n",
    "        \"\"\"Initialize attributes of the parent class.\"\"\"\n",
    "        super().__init__(make, model, year)\n",
    "        self.battery_size = 75\n",
    "\n",
    "    def describe_battery(self):\n",
    "        \"\"\"Print a statement describing the battery size.\"\"\"\n",
    "        print(f\"This car has a {self.battery_size}-kWh battery.\")\n",
    "\n",
    "    def fill_gas_tank(self):\n",
    "        \"\"\"Electric cars don't have gas tanks.\"\"\"\n",
    "        print(\"This car doesn't need a gas tank!\")\n"
   ]
  }
 ],
 "metadata": {
  "kernelspec": {
   "display_name": "Python 3",
   "language": "python",
   "name": "python3"
  },
  "language_info": {
   "codemirror_mode": {
    "name": "ipython",
    "version": 3
   },
   "file_extension": ".py",
   "mimetype": "text/x-python",
   "name": "python",
   "nbconvert_exporter": "python",
   "pygments_lexer": "ipython3",
   "version": "3.9.3"
  }
 },
 "nbformat": 4,
 "nbformat_minor": 5
}
