{
 "cells": [
  {
   "cell_type": "code",
   "execution_count": 6,
   "metadata": {},
   "outputs": [
    {
     "name": "stdout",
     "output_type": "stream",
     "text": [
      "DOBBLE\n",
      "Cascadia\n",
      "Railroad Ink\n",
      "Ticket To Ride\n",
      "Hold the jalapenos!\n",
      "This is incorrect, try again!\n"
     ]
    }
   ],
   "source": [
    "# IF statements\n",
    "games = [\"dobble\", \"cascadia\", \"railroad ink\", \"ticket to ride\"]\n",
    "\n",
    "for game in games:\n",
    "    if game == \"dobble\":\n",
    "        print(game.upper())\n",
    "    else:\n",
    "        print(game.title())\n",
    "\n",
    "# Case sensitivity\n",
    "game = \"Cascadia\"\n",
    "game == \"Cascadia\" # true\n",
    "game == \"cascadia\" # false\n",
    "\n",
    "game.lower() == \"cascadia\" # true\n",
    "\n",
    "# Checking for inequality\n",
    "pizza_topping = \"olives\"\n",
    "\n",
    "if pizza_topping != \"jalapenos\":\n",
    "    print(\"Hold the jalapenos!\")\n",
    "\n",
    "\n",
    "answer = 10\n",
    "if answer != 7:\n",
    "    print(\"This is incorrect, try again!\")"
   ]
  },
  {
   "cell_type": "code",
   "execution_count": 7,
   "metadata": {},
   "outputs": [
    {
     "data": {
      "text/plain": [
       "False"
      ]
     },
     "execution_count": 7,
     "metadata": {},
     "output_type": "execute_result"
    }
   ],
   "source": [
    "# IF statement: and condition\n",
    "age_0 = 18\n",
    "age_1 = 23 \n",
    "(age_0 >= 21) and (age_1 >= 21) # false, both ages aren't over 21"
   ]
  },
  {
   "cell_type": "code",
   "execution_count": 8,
   "metadata": {},
   "outputs": [
    {
     "data": {
      "text/plain": [
       "True"
      ]
     },
     "execution_count": 8,
     "metadata": {},
     "output_type": "execute_result"
    }
   ],
   "source": [
    "# IF statement: or condition\n",
    "age_0 = 18\n",
    "age_1 = 23\n",
    "(age_0 >= 21) or (age_1 >= 21) # true, at least one of the ages is over 21"
   ]
  },
  {
   "cell_type": "code",
   "execution_count": 11,
   "metadata": {},
   "outputs": [
    {
     "data": {
      "text/plain": [
       "False"
      ]
     },
     "execution_count": 11,
     "metadata": {},
     "output_type": "execute_result"
    }
   ],
   "source": [
    "# IF statements: Checking Whether a Value Is in a List\n",
    "\n",
    "requested_toppings = [\"mushrooms\", \"olives\", \"onions\"]\n",
    "\n",
    "\"mushrooms\" in requested_toppings # true \n",
    "\"peppers\" in requested_toppings # false"
   ]
  },
  {
   "cell_type": "code",
   "execution_count": 12,
   "metadata": {},
   "outputs": [
    {
     "name": "stdout",
     "output_type": "stream",
     "text": [
      "Mariola, you can access our website.\n"
     ]
    }
   ],
   "source": [
    "# IF statements: Checking Whether a Value Is Not in a List\n",
    "banned_users = [\"james\", \"andrew\", \"micah\"]\n",
    "\n",
    "user = \"mariola\"\n",
    "\n",
    "if user not in banned_users:\n",
    "    print(f\"{user.title()}, you can access our website.\")"
   ]
  },
  {
   "cell_type": "code",
   "execution_count": null,
   "metadata": {},
   "outputs": [],
   "source": [
    "# IF statements: Boolean Expressions\n",
    "    # either True or False\n",
    "    # used to keep track of certain conditions, e.g. game_active / can_edit\n",
    "    # efficient way to track state of a program, or an important condition of a program"
   ]
  },
  {
   "cell_type": "code",
   "execution_count": null,
   "metadata": {},
   "outputs": [
    {
     "name": "stdout",
     "output_type": "stream",
     "text": [
      "Is car == 'subaru'? I predict True.\n",
      "True\n",
      "\n",
      "Is dog == 'Mariolka'? I predict True.\n",
      "True\n",
      "\n",
      "Is dog != 'Mariolka'? I predict False.\n",
      "False\n",
      "\n",
      "Is game == 'Cascadia'? I predict False.\n",
      "False\n",
      "\n",
      "Is game == 'Cascadia'? I predict False.\n",
      "True\n",
      "That's the colour!\n"
     ]
    }
   ],
   "source": [
    "# IF statements: exercises\n",
    "# Conditional Tests: Write a series of conditional tests. Print a statement\n",
    "# describing each test and your prediction for the results of each test. Your code\n",
    "# should look something like this:\n",
    "# car = 'subaru'\n",
    "# print(\"Is car == 'subaru'? I predict True.\")\n",
    "# print(car == 'subaru')\n",
    "# print(\"\\nIs car == 'audi'? I predict False.\")\n",
    "# print(car == 'audi')\n",
    "# •\t Look closely at your results, and make sure you understand why each line\n",
    "# evaluates to True or False.\n",
    "# •\t Create at least ten tests. Have at least five tests evaluate to True and\n",
    "# another five tests evaluate to False.\n",
    "\n",
    "car = 'subaru'\n",
    "print(\"Is car == 'subaru'? I predict True.\")\n",
    "print(car == 'subaru')\n",
    "\n",
    "dog = \"Mariolka\"\n",
    "print(\"\\nIs dog == 'Mariolka'? I predict True.\")\n",
    "print(dog == \"Mariolka\")\n",
    "\n",
    "dog = \"Mariolka\"\n",
    "print(\"\\nIs dog != 'Mariolka'? I predict False.\")\n",
    "print(dog == \"Disco\") \n",
    "\n",
    "game = \"Cascadia\"\n",
    "print(\"\\nIs game == 'Cascadia'? I predict False.\")\n",
    "print(game == \"Love Letter\")\n",
    "\n",
    "game = \"Cascadia\"\n",
    "print(\"\\nIs game == 'Cascadia'? I predict False.\")\n",
    "print(game != \"Love Letter\") # not == Love Letter but not == to Cascadia either, yet returns True!\n",
    "\n",
    "\n",
    "# More Conditional Tests: You don’t have to limit the number of tests you\n",
    "# create to ten. If you want to try more comparisons, write more tests and add\n",
    "# them to conditional_tests.py. Have at least one True and one False result for\n",
    "# each of the following:\n",
    "# •\t Tests for equality and inequality with strings\n",
    "# •\t Tests using the lower() method\n",
    "# •\t Numerical tests involving equality and inequality, greater than and\n",
    "# less than, greater than or equal to, and less than or equal to\n",
    "# •\t Tests using the and keyword and the or keyword\n",
    "# •\t Test whether an item is in a list\n",
    "# •\t Test whether an item is not in a list\n",
    "\n",
    "colour = \"Blue\"\n",
    "if colour.lower() == \"blue\":\n",
    "    print(\"That's the colour!\")\n"
   ]
  },
  {
   "cell_type": "code",
   "execution_count": 5,
   "metadata": {},
   "outputs": [
    {
     "name": "stdout",
     "output_type": "stream",
     "text": [
      "You can vote!\n",
      "Have you registered to vote?\n",
      "Sorry, you're underage!\n"
     ]
    }
   ],
   "source": [
    "# IF statements: Simple if Statements\n",
    "    # has one test and action\n",
    "age = 19\n",
    "if age >= 18:\n",
    "    print(\"You can vote!\")\n",
    "    print(\"Have you registered to vote?\") # printed if statement is True "
   ]
  },
  {
   "cell_type": "code",
   "execution_count": null,
   "metadata": {},
   "outputs": [],
   "source": [
    "# IF statements: if-else Statements \n",
    "    # has additional statement executed when condition is False\n",
    "age = 17\n",
    "if age >= 18:\n",
    "    print(\"You can vote!\")\n",
    "    print(\"Have you registered to vote?\")\n",
    "else:\n",
    "    print(\"Sorry, you're underage!\")"
   ]
  },
  {
   "cell_type": "code",
   "execution_count": 9,
   "metadata": {},
   "outputs": [
    {
     "name": "stdout",
     "output_type": "stream",
     "text": [
      "Your admission cost is £100.\n",
      "Your admission cost is £100.\n"
     ]
    }
   ],
   "source": [
    "# IF statements: The if-elif-else Chain \n",
    "age = 17\n",
    "\n",
    "if age < 4:\n",
    "    print(\"Your admission is free.\")\n",
    "elif age < 18:\n",
    "    print(\"Your admission cost is £100.\")\n",
    "else:\n",
    "    print(\"Your admission cost is £100000000.\")\n",
    "\n",
    "if age < 4:\n",
    "    price = 0\n",
    "elif age < 18:\n",
    "    price = 100\n",
    "else:\n",
    "    price = 100000000\n",
    "\n",
    "print(f\"Your admission cost is £{price}.\")\n"
   ]
  },
  {
   "cell_type": "code",
   "execution_count": 14,
   "metadata": {},
   "outputs": [
    {
     "name": "stdout",
     "output_type": "stream",
     "text": [
      "Your admission cost is £100.\n"
     ]
    }
   ],
   "source": [
    "# IF statements: Using Multiple elif Blocks \n",
    "age = 16\n",
    "\n",
    "if age < 4:\n",
    "    price = 0\n",
    "elif age < 18:\n",
    "    price = 100\n",
    "elif age < 65:\n",
    "    price = 10000000\n",
    "else:\n",
    "    price = 100\n",
    "\n",
    "print(f\"Your admission cost is £{price}.\")"
   ]
  },
  {
   "cell_type": "code",
   "execution_count": 18,
   "metadata": {},
   "outputs": [
    {
     "name": "stdout",
     "output_type": "stream",
     "text": [
      "Your admission cost is £100.\n"
     ]
    }
   ],
   "source": [
    "# IF statements: Omitting the else Block\n",
    "age = 65\n",
    "\n",
    "if age < 4:\n",
    "    price = 0\n",
    "elif age < 18:\n",
    "    price = 100\n",
    "elif age < 65:\n",
    "    price = 10000000\n",
    "elif age >= 65:\n",
    "    price = 100\n",
    "\n",
    "print(f\"Your admission cost is £{price}.\")"
   ]
  },
  {
   "cell_type": "code",
   "execution_count": 20,
   "metadata": {},
   "outputs": [
    {
     "name": "stdout",
     "output_type": "stream",
     "text": [
      "Mariolka is present.\n",
      "Pixel is present.\n",
      "Leon is present.\n",
      "\n",
      "Presence checked\n",
      "Mariolka is present.\n",
      "\n",
      "Presence checked\n"
     ]
    }
   ],
   "source": [
    "# IF statements: Testing Multiple Conditions \n",
    "    # you can use if statements to check that multiple conditions are True\n",
    "    # Python will omit rest of the conditions as soon as one evaluates to True \n",
    "\n",
    "doggy_daycare = [\"Mariolka\", \"Pixel\", \"Leon\"]\n",
    "\n",
    "if \"Mariolka\" in doggy_daycare:\n",
    "    print(\"Mariolka is present.\")\n",
    "if \"Pixel\" in doggy_daycare:\n",
    "    print(\"Pixel is present.\")\n",
    "if \"Leon\" in doggy_daycare:\n",
    "    print(\"Leon is present.\")\n",
    "\n",
    "print(\"\\nPresence checked\")\n",
    "\n",
    "# if we use elifs, we wouldn't check for Pixel and Leon, because Mariolka is present\n",
    "if \"Mariolka\" in doggy_daycare:\n",
    "    print(\"Mariolka is present.\")\n",
    "elif \"Pixel\" in doggy_daycare:\n",
    "    print(\"Pixel is present.\")\n",
    "elif \"Leon\" in doggy_daycare:\n",
    "    print(\"Leon is present.\")\n",
    "\n",
    "print(\"\\nPresence checked\")"
   ]
  },
  {
   "cell_type": "code",
   "execution_count": 25,
   "metadata": {},
   "outputs": [
    {
     "name": "stdout",
     "output_type": "stream",
     "text": [
      "Oops, the alien you shot down is not green!\n"
     ]
    }
   ],
   "source": [
    "# IF statements: exercises \n",
    "# Alien Colors #1: Imagine an alien was just shot down in a game. Create a\n",
    "# variable called alien_color and assign it a value of 'green', 'yellow', or 'red'.\n",
    "# •\t Write an if statement to test whether the alien’s color is green. If it is, print\n",
    "# a message that the player just earned 5 points.\n",
    "# •\t Write one version of this program that passes the if test and another that\n",
    "# fails. (The version that fails will have no output.)\n",
    "\n",
    "alien_colour = \"yellow\" \n",
    "\n",
    "if alien_colour == \"green\":\n",
    "    print(\"You got 5 points!\")\n",
    "else:\n",
    "    print(\"Oops, the alien you shot down is not green!\""
   ]
  },
  {
   "cell_type": "code",
   "execution_count": 27,
   "metadata": {},
   "outputs": [
    {
     "name": "stdout",
     "output_type": "stream",
     "text": [
      "You got 5 points!\n"
     ]
    }
   ],
   "source": [
    "# IF statements: exercises \n",
    "# Alien Colors #2: Choose a color for an alien as you did in Exercise 5-3, and\n",
    "# write an if-else chain.\n",
    "# •\t If the alien’s color is green, print a statement that the player just earned\n",
    "# 5 points for shooting the alien.\n",
    "# •\t If the alien’s color isn’t green, print a statement that the player just earned\n",
    "# 10 points.\n",
    "# •\t Write one version of this program that runs the if block and another that\n",
    "# runs the else block.\n",
    "\n",
    "alien_colour = \"green\" \n",
    "\n",
    "if alien_colour == \"green\":\n",
    "    print(\"You got 5 points!\")\n",
    "else:\n",
    "    print(\"You got 10 points!\")"
   ]
  },
  {
   "cell_type": "code",
   "execution_count": null,
   "metadata": {},
   "outputs": [],
   "source": [
    "# IF statements: exercises \n",
    "# Alien Colors #3: Turn your if-else chain from Exercise 5-4 into an if-elifelse chain.\n",
    "# •\t If the alien is green, print a message that the player earned 5 points.\n",
    "# •\t If the alien is yellow, print a message that the player earned 10 points.\n",
    "# •\t If the alien is red, print a message that the player earned 15 points.\n",
    "# •\t Write three versions of this program, making sure each message is printed\n",
    "# for the appropriate color alien.\n",
    "\n",
    "alien_colour = \"blue\" \n",
    "\n",
    "if alien_colour == \"green\":\n",
    "    print(\"You got 5 points!\")\n",
    "elif alien_colour == \"yellow\":\n",
    "    print(\"You got 10 points!\")\n",
    "elif alien_colour == \"red\":\n",
    "    print(\"You got 15 points!\")"
   ]
  },
  {
   "cell_type": "code",
   "execution_count": 35,
   "metadata": {},
   "outputs": [
    {
     "name": "stdout",
     "output_type": "stream",
     "text": [
      "Your life stage is: adult\n"
     ]
    }
   ],
   "source": [
    "# IF statements: exercises \n",
    "# Stages of Life: Write an if-elif-else chain that determines a person’s\n",
    "# stage of life. Set a value for the variable age, and then:\n",
    "# •\t If the person is less than 2 years old, print a message that the person is\n",
    "# a baby.\n",
    "# •\t If the person is at least 2 years old but less than 4, print a message that\n",
    "# the person is a toddler.\n",
    "# •\t If the person is at least 4 years old but less than 13, print a message that\n",
    "# the person is a kid.\n",
    "# •\t If the person is at least 13 years old but less than 20, print a message that\n",
    "# the person is a teenager.\n",
    "# •\t If the person is at least 20 years old but less than 65, print a message that\n",
    "# the person is an adult.\n",
    "# •\t If the person is age 65 or older, print a message that the person is an\n",
    "# elder.\n",
    "\n",
    "age = 45\n",
    "\n",
    "if age < 2:\n",
    "    stage = \"baby\" \n",
    "elif age < 4:\n",
    "    stage = \"toddler\"\n",
    "elif age < 13:\n",
    "    stage = \"kid\" \n",
    "elif age < 20:\n",
    "    stage = \"teenager\" \n",
    "elif age < 65:\n",
    "    stage = \"adult\"\n",
    "else:\n",
    "    stage = \"elder\"\n",
    "\n",
    "print(f\"Your life stage is: {stage}\")"
   ]
  },
  {
   "cell_type": "code",
   "execution_count": 36,
   "metadata": {},
   "outputs": [
    {
     "name": "stdout",
     "output_type": "stream",
     "text": [
      "Pineapples are your favourite fruits!\n",
      "Strawberries are your favourite fruits!\n",
      "Oranges are your favourite fruits!\n"
     ]
    }
   ],
   "source": [
    "# IF statements: exercises \n",
    "# Favorite Fruit: Make a list of your favorite fruits, and then write a series of\n",
    "# independent if statements that check for certain fruits in your list.\n",
    "# •\t Make a list of your three favorite fruits and call it favorite_fruits.\n",
    "# •\t Write five if statements. Each should check whether a certain kind of fruit\n",
    "# is in your list. If the fruit is in your list, the if block should print a statement,\n",
    "# such as You really like bananas!\n",
    "\n",
    "fruits = [\"strawberries\", \"peaches\", \"blueberries\", \"oranges\", \"pineapples\"]\n",
    "\n",
    "if \"pineapples\" in fruits:\n",
    "    print(\"Pineapples are your favourite fruits!\")\n",
    "if \"cherries\" in fruits:\n",
    "    print(\"Cherries are your favourite fruits!\")\n",
    "if \"strawberries\" in fruits:\n",
    "    print(\"Strawberries are your favourite fruits!\")\n",
    "if \"oranges\" in fruits:\n",
    "    print(\"Oranges are your favourite fruits!\")\n",
    "if \"nectarines\" in fruits:\n",
    "    print(\"Nectarines are your favourite fruits!\")\n",
    "if \"Raspberries\" in fruits:\n",
    "    print(\"Raspberries are your favourite fruits!\")"
   ]
  },
  {
   "cell_type": "code",
   "execution_count": 38,
   "metadata": {},
   "outputs": [
    {
     "name": "stdout",
     "output_type": "stream",
     "text": [
      "Mariolka is present.\n",
      "Pixel is present.\n",
      "Leon is present.\n",
      "\n",
      "Presence checked\n",
      "Mariolka is present.\n",
      "Pixel is present.\n",
      "Leon is not present\n",
      "\n",
      "Presence checked\n"
     ]
    }
   ],
   "source": [
    "# IF statements: Using if Statements with Lists, Checking for Special Items\n",
    "\n",
    "doggy_daycare = [\"Mariolka\", \"Pixel\", \"Leon\"]\n",
    "\n",
    "for dog in doggy_daycare:\n",
    "    print(f\"{dog} is present.\")\n",
    "print(\"\\nPresence checked\")\n",
    "\n",
    "#Leon has been taken home\n",
    "for dog in doggy_daycare:\n",
    "    if dog == \"Leon\":\n",
    "        print(\"Leon is not present\")\n",
    "    else:\n",
    "        print(f\"{dog} is present.\")\n",
    "\n",
    "print(\"\\nPresence checked\")"
   ]
  },
  {
   "cell_type": "code",
   "execution_count": 39,
   "metadata": {},
   "outputs": [
    {
     "name": "stdout",
     "output_type": "stream",
     "text": [
      "All dogs are home.\n"
     ]
    }
   ],
   "source": [
    "# IF statements: Using if Statements with Lists, Checking That a List Is Not Empty\n",
    "\n",
    "doggy_daycare = []\n",
    "\n",
    "if doggy_daycare:\n",
    "    for dog in doggy_daycare:\n",
    "        print(f\"{dog} is present.\")\n",
    "    print(\"\\nPresence checked\")\n",
    "else: \n",
    "    print(\"All dogs are home.\")"
   ]
  },
  {
   "cell_type": "code",
   "execution_count": 41,
   "metadata": {},
   "outputs": [
    {
     "name": "stdout",
     "output_type": "stream",
     "text": [
      "Mariolka is present.\n",
      "Pixel is present.\n",
      "Leon is present.\n",
      "Sorry, we can't take Arlo in today, we're full and he's on the waitlist\n",
      "\n",
      "Presence checked\n"
     ]
    }
   ],
   "source": [
    "# IF statements: Using if Statements with Lists, Using Multiple Lists\n",
    "\n",
    "doggy_daycare = [\"Mariolka\", \"Pixel\", \"Leon\", \"Arlo\"]\n",
    "\n",
    "waitlist = [\"Disco\", \"Arlo\", \"Buddy\"]\n",
    "\n",
    "for dog in doggy_daycare:\n",
    "    if dog in waitlist:\n",
    "        print(f\"Sorry, we can't take {dog} in today, we're full and he's on the waitlist\")\n",
    "    else:\n",
    "        print(f\"{dog} is present.\")\n",
    "print(\"\\nPresence checked\")"
   ]
  },
  {
   "cell_type": "code",
   "execution_count": 44,
   "metadata": {},
   "outputs": [
    {
     "name": "stdout",
     "output_type": "stream",
     "text": [
      "Hello, admin, here is the status report.\n",
      "Hello, Harry.\n",
      "Hello, Hermione.\n",
      "Hello, Ron.\n",
      "Hello, Ginny.\n",
      "We need users\n"
     ]
    }
   ],
   "source": [
    "# Using if Statements with Lists exercises\n",
    "# Hello Admin: Make a list of five or more usernames, including the name\n",
    "# 'admin'. Imagine you are writing code that will print a greeting to each user\n",
    "# after they log in to a website. Loop through the list, and print a greeting to\n",
    "# each user:\n",
    "# •\t If the username is 'admin', print a special greeting, such as Hello admin,\n",
    "# would you like to see a status report?\n",
    "# •\t Otherwise, print a generic greeting, such as Hello Jaden, thank you for\n",
    "# logging in again.\n",
    "\n",
    "users = [\"admin\", \"Harry\", \"Hermione\", \"Ron\", \"Ginny\"]\n",
    "\n",
    "for user in users:\n",
    "    if user == \"admin\":\n",
    "        print(f\"Hello, {user}, here is the status report.\")\n",
    "    else:\n",
    "        print(f\"Hello, {user}.\")\n",
    "\n",
    "# No Users: Add an if test to hello_admin.py to make sure the list of users is\n",
    "# not empty.\n",
    "# •\t If the list is empty, print the message We need to find some users!\n",
    "# •\t Remove all of the usernames from your list, and make sure the correct\n",
    "# message is printed.\n",
    "\n",
    "users = []\n",
    "\n",
    "if users:\n",
    "    for user in users:\n",
    "        if user == \"admin\":\n",
    "            print(f\"Hello, {user}, here is the status report.\")\n",
    "        else:\n",
    "            print(f\"Hello, {user}.\")\n",
    "else:\n",
    "    print(\"We need users!\")"
   ]
  },
  {
   "cell_type": "code",
   "execution_count": 49,
   "metadata": {},
   "outputs": [
    {
     "name": "stdout",
     "output_type": "stream",
     "text": [
      "Username Fred available.\n",
      "Username George available.\n",
      "Username Luna available.\n",
      "Username ron taken.\n",
      "Username GINNY taken.\n"
     ]
    }
   ],
   "source": [
    "# Using if Statements with Lists exercises\n",
    "\n",
    "# Checking Usernames: Do the following to create a program that simulates\n",
    "# how websites ensure that everyone has a unique username.\n",
    "# •\t Make a list of five or more usernames called current_users.\n",
    "# •\t Make another list of five usernames called new_users. Make sure one or\n",
    "# two of the new usernames are also in the current_users list.\n",
    "# •\t Loop through the new_users list to see if each new username has already\n",
    "# been used. If it has, print a message that the person will need to enter a\n",
    "# new username. If a username has not been used, print a message saying\n",
    "# that the username is available.\n",
    "# •\t Make sure your comparison is case insensitive. If 'John' has been used,\n",
    "# 'JOHN' should not be accepted. (To do this, you’ll need to make a copy of\n",
    "# current_users containing the lowercase versions of all existing users.)\n",
    "\n",
    "current_users = [\"Harry\", \"Hermione\", \"Ron\", \"Ginny\"]\n",
    "new_users = [\"Fred\", \"George\", \"Luna\", \"ron\", \"GINNY\"]\n",
    "\n",
    "current_user_lower = [user.lower() for user in current_users]\n",
    "\n",
    "for user in new_users:\n",
    "    if user.lower() in current_user_lower:\n",
    "        print(f\"Username {user} taken.\")\n",
    "    else:\n",
    "        print(f\"Username {user} available.\")"
   ]
  },
  {
   "cell_type": "code",
   "execution_count": 3,
   "metadata": {},
   "outputs": [
    {
     "name": "stdout",
     "output_type": "stream",
     "text": [
      "1st\n",
      "2nd\n",
      "3rd\n",
      "4th\n",
      "5th\n",
      "6th\n",
      "7th\n",
      "8th\n",
      "9th\n"
     ]
    }
   ],
   "source": [
    "# Using if Statements with Lists exercises\n",
    "# Ordinal Numbers: Ordinal numbers indicate their position in a list, such\n",
    "# as 1st or 2nd. Most ordinal numbers end in th, except 1, 2, and 3.\n",
    "# •\t Store the numbers 1 through 9 in a list.\n",
    "# •\t Loop through the list.\n",
    "# •\t Use an if-elif-else chain inside the loop to print the proper ordinal ending for each number. \n",
    "# Your output should read \"1st 2nd 3rd 4th 5th 6th # 7th 8th 9th\", \n",
    "# and each result should be on a separate line.\n",
    "\n",
    "# nums = []\n",
    "# for value in range(1, 10):\n",
    "#     nums.append(value)\n",
    "nums = list(range(1, 10))\n",
    "\n",
    "\n",
    "for num in nums:\n",
    "    if num < 2 :\n",
    "        print(f\"{num}st\")\n",
    "    elif num < 3:\n",
    "        print(f\"{num}nd\")\n",
    "    elif num < 4:\n",
    "        print(f\"{num}rd\")\n",
    "    else:\n",
    "        print(f\"{num}th\")\n",
    "\n"
   ]
  },
  {
   "cell_type": "code",
   "execution_count": null,
   "metadata": {},
   "outputs": [],
   "source": [
    "# IF statements: Styling Your if Statements\n",
    "\n"
   ]
  }
 ],
 "metadata": {
  "kernelspec": {
   "display_name": "Python 3",
   "language": "python",
   "name": "python3"
  },
  "language_info": {
   "codemirror_mode": {
    "name": "ipython",
    "version": 3
   },
   "file_extension": ".py",
   "mimetype": "text/x-python",
   "name": "python",
   "nbconvert_exporter": "python",
   "pygments_lexer": "ipython3",
   "version": "3.9.3"
  }
 },
 "nbformat": 4,
 "nbformat_minor": 2
}
