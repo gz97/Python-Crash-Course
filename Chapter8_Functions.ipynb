{
 "cells": [
  {
   "cell_type": "code",
   "execution_count": 1,
   "id": "81b63820",
   "metadata": {},
   "outputs": [
    {
     "name": "stdout",
     "output_type": "stream",
     "text": [
      "Hello, you\n"
     ]
    }
   ],
   "source": [
    "# simple function\n",
    "def greeter():\n",
    "    \"\"\"Display a simple greet message\"\"\"\n",
    "    print(\"Hello, you\")\n",
    "\n",
    "greeter()"
   ]
  },
  {
   "cell_type": "code",
   "execution_count": 3,
   "id": "f138367c",
   "metadata": {},
   "outputs": [
    {
     "name": "stdout",
     "output_type": "stream",
     "text": [
      "Hello, Gosia\n"
     ]
    }
   ],
   "source": [
    "# function with a parameter\n",
    "def greeter(user_name):\n",
    "    \"\"\"Display a simple greet message for a user with a passed in user_name\"\"\"\n",
    "    print(f\"Hello, {user_name.title()}\")\n",
    "\n",
    "greeter(\"Gosia\")"
   ]
  },
  {
   "cell_type": "code",
   "execution_count": 4,
   "id": "5640ac35",
   "metadata": {},
   "outputs": [
    {
     "name": "stdout",
     "output_type": "stream",
     "text": [
      "I'm learning about functions\n"
     ]
    }
   ],
   "source": [
    "# EXERCISES\n",
    "# 8-1. Message: Write a function called display_message() \n",
    "# that prints one sentence telling everyone what you are \n",
    "# learning about in this chapter. Call the\n",
    "# function, and make sure the message displays correctly\n",
    "\n",
    "def display_message():\n",
    "    print(\"I'm learning about functions\")\n",
    "\n",
    "display_message()"
   ]
  },
  {
   "cell_type": "code",
   "execution_count": 5,
   "id": "89e6049e",
   "metadata": {},
   "outputs": [
    {
     "name": "stdout",
     "output_type": "stream",
     "text": [
      "One of my favourite books is Shadow Of The Wind\n"
     ]
    }
   ],
   "source": [
    "# 8-2. Favorite Book: Write a function called favorite_book() that accepts one\n",
    "# parameter, title. The function should print a message, such as One of my\n",
    "# favorite books is Alice in Wonderland. Call the function, making sure to\n",
    "# include a book title as an argument in the function call.\n",
    "\n",
    "def favourite_book(book):\n",
    "    print(f\"One of my favourite books is {book.title()}\")\n",
    "\n",
    "favourite_book(\"Shadow of the wind\")"
   ]
  },
  {
   "cell_type": "code",
   "execution_count": 16,
   "id": "c65a5df1",
   "metadata": {},
   "outputs": [
    {
     "name": "stdout",
     "output_type": "stream",
     "text": [
      "\n",
      "I have a dog.\n",
      "My dog's name is Mariola.\n"
     ]
    }
   ],
   "source": [
    "def describe_pet(pet_name, animal_type):\n",
    "    \"\"\"Display information about a pet.\"\"\"\n",
    "    print(f\"\\nI have a {animal_type}.\")\n",
    "    print(f\"My {animal_type}'s name is {pet_name.title()}.\")\n",
    "describe_pet(pet_name='Mariola', animal_type=\"dog\")"
   ]
  },
  {
   "cell_type": "code",
   "execution_count": 17,
   "id": "5b1244fb",
   "metadata": {},
   "outputs": [
    {
     "name": "stdout",
     "output_type": "stream",
     "text": [
      "\n",
      "I have a dog.\n",
      "My dog's name is Mariola.\n"
     ]
    }
   ],
   "source": [
    "def describe_pet(pet_name, animal_type = \"dog\"):\n",
    "    \"\"\"Display information about a pet.\"\"\"\n",
    "    print(f\"\\nI have a {animal_type}.\")\n",
    "    print(f\"My {animal_type}'s name is {pet_name.title()}.\")\n",
    "describe_pet(pet_name='Mariola')"
   ]
  },
  {
   "cell_type": "code",
   "execution_count": 19,
   "id": "6a477e43",
   "metadata": {},
   "outputs": [
    {
     "name": "stdout",
     "output_type": "stream",
     "text": [
      "Your shirt in size 40 will say 'Just Frog It!' on the front.\n",
      "Your shirt in size 40 will say 'Just Frog It!' on the front.\n"
     ]
    }
   ],
   "source": [
    "# EXERCISES\n",
    "# 8-3. T-Shirt: Write a function called make_shirt() that accepts a size and the\n",
    "# text of a message that should be printed on the shirt. The function should print\n",
    "# a sentence summarizing the size of the shirt and the message printed on it.\n",
    "# Call the function once using positional arguments to make a shirt. Call the\n",
    "# function a second time using keyword arguments.\n",
    "\n",
    "def make_shirt(size, message):\n",
    "    print(f\"Your shirt in size {size} will say '{message}' on the front.\")\n",
    "\n",
    "make_shirt(40, \"Just Frog It!\")\n",
    "make_shirt(message=\"Just Frog It!\", size=40)"
   ]
  },
  {
   "cell_type": "code",
   "execution_count": 21,
   "id": "2b5df78a",
   "metadata": {},
   "outputs": [
    {
     "name": "stdout",
     "output_type": "stream",
     "text": [
      "Your shirt in size 50 will say 'Just Frog It!' on the front.\n",
      "Your shirt in size 42 will say 'I love Python' on the front.\n",
      "Your shirt in size 46 will say 'I don't love Python' on the front.\n"
     ]
    }
   ],
   "source": [
    "# 8-4. Large Shirts: Modify the make_shirt() function so that shirts are large\n",
    "# by default with a message that reads I love Python. Make a large shirt and a\n",
    "# medium shirt with the default message, and a shirt of any size with a different\n",
    "# message.\n",
    "\n",
    "def make_shirt(size=50, message=\"I love Python\"):\n",
    "    print(f\"Your shirt in size {size} will say '{message}' on the front.\")\n",
    "\n",
    "make_shirt(message = \"Just Frog It!\")\n",
    "make_shirt(size=42)\n",
    "make_shirt(message=\"I don't love Python\", size=46)"
   ]
  },
  {
   "cell_type": "code",
   "execution_count": 23,
   "id": "b2c2bbfd",
   "metadata": {},
   "outputs": [
    {
     "name": "stdout",
     "output_type": "stream",
     "text": [
      "Warszawa is in Poland\n",
      "Krakow is in Poland\n",
      "Amsterdam is in Poland\n"
     ]
    }
   ],
   "source": [
    "# 8-5. Cities: Write a function called describe_city() that accepts the name of\n",
    "# a city and its country. The function should print a simple sentence, such as\n",
    "# Reykjavik is in Iceland. Give the parameter for the country a default value.\n",
    "# Call your function for three different cities, at least one of which is not in the\n",
    "# default country.\n",
    "\n",
    "def describe_city(city, country=\"Poland\"):\n",
    "    print(f\"{city.title()} is in {country}\")\n",
    "\n",
    "describe_city(\"warszawa\")\n",
    "describe_city(\"krakow\")\n",
    "describe_city(\"Amsterdam\")"
   ]
  },
  {
   "cell_type": "code",
   "execution_count": 1,
   "id": "fcc2f6dd",
   "metadata": {},
   "outputs": [
    {
     "data": {
      "text/plain": [
       "'Mariola Zurkowa'"
      ]
     },
     "execution_count": 1,
     "metadata": {},
     "output_type": "execute_result"
    }
   ],
   "source": [
    "# Return values\n",
    "    # instead of displaying output directly, functions can return a value or set of values\n",
    "\n",
    "def get_formatted_name(first_name, last_name):\n",
    "    \"\"\"Return a full name, neatly formatted\"\"\" \n",
    "    full_name = f\"{first_name} {last_name}\"\n",
    "    return full_name.title() \n",
    "\n",
    "doggo = get_formatted_name(\"mariola\", \"zurkowa\")\n",
    "doggo"
   ]
  },
  {
   "cell_type": "code",
   "execution_count": 3,
   "id": "15e245bd",
   "metadata": {},
   "outputs": [
    {
     "data": {
      "text/plain": [
       "'Mariola Zurkowa'"
      ]
     },
     "execution_count": 3,
     "metadata": {},
     "output_type": "execute_result"
    }
   ],
   "source": [
    "# Return values\n",
    "    # default args-\n",
    "def get_formatted_name(first_name, last_name, middle_name = \"\"): # give empty string as default\n",
    "    \"\"\"Return a full name, neatly formatted\"\"\" \n",
    "    if middle_name:\n",
    "        full_name = f\"{first_name} {middle_name} {last_name}\"\n",
    "    else:\n",
    "        full_name = f\"{first_name} {last_name}\"\n",
    "    return full_name.title()\n",
    "doggo = get_formatted_name(\"mariola\", \"zurkowa\")\n",
    "doggo"
   ]
  },
  {
   "cell_type": "code",
   "execution_count": 4,
   "id": "049bae56",
   "metadata": {},
   "outputs": [
    {
     "data": {
      "text/plain": [
       "{'first': 'mariola', 'last': 'zurkowna'}"
      ]
     },
     "execution_count": 4,
     "metadata": {},
     "output_type": "execute_result"
    }
   ],
   "source": [
    "# returning a dictionary\n",
    "def build_doggo(first_name, last_name):\n",
    "    \"\"\"return a dict of info about a doggo\"\"\"\n",
    "    doggo = {'first': first_name, 'last': last_name}\n",
    "    return doggo\n",
    "\n",
    "doggeroo = build_doggo(\"mariola\", \"zurkowna\")\n",
    "doggeroo"
   ]
  },
  {
   "cell_type": "code",
   "execution_count": 5,
   "id": "2f0803ba",
   "metadata": {},
   "outputs": [
    {
     "data": {
      "text/plain": [
       "{'first': 'mariola', 'last': 'zurkowna', 'age': 15}"
      ]
     },
     "execution_count": 5,
     "metadata": {},
     "output_type": "execute_result"
    }
   ],
   "source": [
    "def build_doggo(first_name, last_name, age=None):  \n",
    "    \"\"\"Return a dictionary of information about a person.\"\"\"\n",
    "    doggo = {'first': first_name, 'last': last_name}\n",
    "    if age:\n",
    "        doggo['age'] = age\n",
    "    return doggo \n",
    "\n",
    "doggeroo = build_doggo(\"mariola\", \"zurkowna\", age = 15)\n",
    "doggeroo"
   ]
  },
  {
   "cell_type": "code",
   "execution_count": 1,
   "id": "f8038dc0",
   "metadata": {},
   "outputs": [
    {
     "name": "stdout",
     "output_type": "stream",
     "text": [
      "Tell me your name:\n"
     ]
    },
    {
     "ename": "",
     "evalue": "",
     "output_type": "error",
     "traceback": [
      "\u001b[1;31mCannot execute code, session has been disposed. Please try restarting the Kernel."
     ]
    },
    {
     "ename": "",
     "evalue": "",
     "output_type": "error",
     "traceback": [
      "\u001b[1;31mCannot execute code, session has been disposed. Please try restarting the Kernel. \n",
      "\u001b[1;31mView Jupyter <a href='command:jupyter.viewOutput'>log</a> for further details."
     ]
    }
   ],
   "source": [
    "# using a function with a While loop\n",
    "def get_formatted_name(first_name, last_name):\n",
    "    \"\"\"Return a full name, neatly formatted\"\"\" \n",
    "    full_name = f\"{first_name} {last_name}\"\n",
    "    return full_name.title() \n",
    "\n",
    "while True:\n",
    "    print('Tell me your name:')\n",
    "    f_name = input(\"First name: \")\n",
    "    l_name = input(\"Last name: \")\n",
    "\n",
    "    formatted_name = get_formatted_name(f_name, l_name)\n",
    "    print(f\"Hello, {formatted_name}\")"
   ]
  },
  {
   "cell_type": "code",
   "execution_count": null,
   "id": "725c8930",
   "metadata": {},
   "outputs": [
    {
     "name": "stdout",
     "output_type": "stream",
     "text": [
      "Tell me your name:\n",
      "(enter 'q' at any time to quit)\n",
      "Hello, Gorzata Zurkowinka\n",
      "Tell me your name:\n",
      "(enter 'q' at any time to quit)\n"
     ]
    }
   ],
   "source": [
    "# add a break condition to a while loop\n",
    "\n",
    "def get_formatted_name(first_name, last_name):\n",
    "    \"\"\"Return a full name, neatly formatted\"\"\" \n",
    "    full_name = f\"{first_name} {last_name}\"\n",
    "    return full_name.title() \n",
    "\n",
    "while True:\n",
    "    print('Tell me your name:')\n",
    "    print(\"(enter 'q' at any time to quit)\")\n",
    "\n",
    "    f_name = input(\"First name: \")\n",
    "    if f_name == 'q':\n",
    "        break\n",
    "\n",
    "    l_name = input(\"Last name: \")\n",
    "    if l_name == 'q':\n",
    "        break\n",
    "\n",
    "\n",
    "    formatted_name = get_formatted_name(f_name, l_name)\n",
    "    print(f\"Hello, {formatted_name}\")"
   ]
  },
  {
   "cell_type": "code",
   "execution_count": 6,
   "id": "5aa21214",
   "metadata": {},
   "outputs": [
    {
     "name": "stdout",
     "output_type": "stream",
     "text": [
      "Krakow, Poland\n",
      "Amsterdam, Netherlands\n",
      "Praga, Czechia\n"
     ]
    }
   ],
   "source": [
    "# EXERCISES\n",
    "# 8-6. City Names: Write a function called city_country() that takes in the name\n",
    "# of a city and its country. The function should return a string formatted like this:\n",
    "# \"Santiago, Chile\"\n",
    "# Call your function with at least three city-country pairs, and print the\n",
    "# values that are returned.\n",
    "\n",
    "def city_country(city, country):\n",
    "    print(f\"{city.title()}, {country.title()}\")\n",
    "\n",
    "city_country(\"krakow\", \"poland\")\n",
    "city_country(\"Amsterdam\", \"Netherlands\")\n",
    "city_country(\"Praga\", \"Czechia\")"
   ]
  },
  {
   "cell_type": "code",
   "execution_count": 8,
   "id": "77984b96",
   "metadata": {},
   "outputs": [
    {
     "data": {
      "text/plain": [
       "{'artist': 'Kaya', 'title': 'Bogini', 'song number': 12}"
      ]
     },
     "execution_count": 8,
     "metadata": {},
     "output_type": "execute_result"
    }
   ],
   "source": [
    "# 8-7. Album: Write a function called make_album() that builds a dictionary\n",
    "# describing a music album. The function should take in an artist name and an\n",
    "# album title, and it should return a dictionary containing these two pieces of\n",
    "# information. Use the function to make three dictionaries representing different\n",
    "# albums. Print each return value to show that the dictionaries are storing the\n",
    "# album information correctly.\n",
    "# Use None to add an optional parameter to make_album() that allows you to\n",
    "# store the number of songs on an album. If the calling line includes a value for\n",
    "# the number of songs, add that value to the album’s dictionary. Make at least\n",
    "# one new function call that includes the number of songs on an album\n",
    "\n",
    "def make_album(artist_name, album_title, song_num = None):\n",
    "    album = {\"artist\":artist_name.title(), \"title\":album_title.title()}\n",
    "    if song_num:\n",
    "        album[\"song number\"] = song_num\n",
    "    return album \n",
    "\n",
    "make_album(\"Kaya\", \"bogini\", 12)"
   ]
  },
  {
   "cell_type": "code",
   "execution_count": 3,
   "id": "41c7e585",
   "metadata": {},
   "outputs": [
    {
     "name": "stdout",
     "output_type": "stream",
     "text": [
      "Enter your favourite music album details: \n",
      "(enter 'q' at any time to quit)\n",
      "{'artist': 'Wgbwt4H', 'title': 'Tqgve', 'song number': '14'}\n",
      "Enter your favourite music album details: \n",
      "(enter 'q' at any time to quit)\n"
     ]
    }
   ],
   "source": [
    "# 8-8. User Albums: Start with your program from Exercise 8-7. Write a while\n",
    "# loop that allows users to enter an album’s artist and title. Once you have that\n",
    "# information, call make_album() with the user’s input and print the dictionary\n",
    "# that’s created. Be sure to include a quit value in the while loop.\n",
    "\n",
    "def make_album(artist_name, album_title, song_num = None):\n",
    "    album = {\"artist\":artist_name.title(), \"title\":album_title.title()}\n",
    "    if song_num:\n",
    "        album[\"song number\"] = song_num\n",
    "    return album  \n",
    "\n",
    "while True:\n",
    "    print(\"Enter your favourite music album details: \")\n",
    "    print(\"(enter 'q' at any time to quit)\")\n",
    "\n",
    "    a_name = input(\"Input artist name: \")\n",
    "    if a_name == 'q':\n",
    "        break\n",
    "    \n",
    "    a_title = input(\"Input album title: \")\n",
    "    if a_title == 'q':\n",
    "        break\n",
    "\n",
    "    a_songs = input(\"Input song number: \")\n",
    "    if a_songs == 'q':\n",
    "        break\n",
    "\n",
    "\n",
    "    user_album = make_album(a_name, a_title, a_songs)\n",
    "    print(user_album)"
   ]
  }
 ],
 "metadata": {
  "kernelspec": {
   "display_name": "Python 3",
   "language": "python",
   "name": "python3"
  },
  "language_info": {
   "codemirror_mode": {
    "name": "ipython",
    "version": 3
   },
   "file_extension": ".py",
   "mimetype": "text/x-python",
   "name": "python",
   "nbconvert_exporter": "python",
   "pygments_lexer": "ipython3",
   "version": "3.9.3"
  }
 },
 "nbformat": 4,
 "nbformat_minor": 5
}
