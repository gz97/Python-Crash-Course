{
 "cells": [
  {
   "cell_type": "code",
   "execution_count": 1,
   "id": "81b63820",
   "metadata": {},
   "outputs": [
    {
     "name": "stdout",
     "output_type": "stream",
     "text": [
      "Hello, you\n"
     ]
    }
   ],
   "source": [
    "# simple function\n",
    "def greeter():\n",
    "    \"\"\"Display a simple greet message\"\"\"\n",
    "    print(\"Hello, you\")\n",
    "\n",
    "greeter()"
   ]
  },
  {
   "cell_type": "code",
   "execution_count": 3,
   "id": "f138367c",
   "metadata": {},
   "outputs": [
    {
     "name": "stdout",
     "output_type": "stream",
     "text": [
      "Hello, Gosia\n"
     ]
    }
   ],
   "source": [
    "# function with a parameter\n",
    "def greeter(user_name):\n",
    "    \"\"\"Display a simple greet message for a user with a passed in user_name\"\"\"\n",
    "    print(f\"Hello, {user_name.title()}\")\n",
    "\n",
    "greeter(\"Gosia\")"
   ]
  },
  {
   "cell_type": "code",
   "execution_count": 4,
   "id": "5640ac35",
   "metadata": {},
   "outputs": [
    {
     "name": "stdout",
     "output_type": "stream",
     "text": [
      "I'm learning about functions\n"
     ]
    }
   ],
   "source": [
    "# EXERCISES\n",
    "# 8-1. Message: Write a function called display_message() \n",
    "# that prints one sentence telling everyone what you are \n",
    "# learning about in this chapter. Call the\n",
    "# function, and make sure the message displays correctly\n",
    "\n",
    "def display_message():\n",
    "    print(\"I'm learning about functions\")\n",
    "\n",
    "display_message()"
   ]
  },
  {
   "cell_type": "code",
   "execution_count": 5,
   "id": "89e6049e",
   "metadata": {},
   "outputs": [
    {
     "name": "stdout",
     "output_type": "stream",
     "text": [
      "One of my favourite books is Shadow Of The Wind\n"
     ]
    }
   ],
   "source": [
    "# 8-2. Favorite Book: Write a function called favorite_book() that accepts one\n",
    "# parameter, title. The function should print a message, such as One of my\n",
    "# favorite books is Alice in Wonderland. Call the function, making sure to\n",
    "# include a book title as an argument in the function call.\n",
    "\n",
    "def favourite_book(book):\n",
    "    print(f\"One of my favourite books is {book.title()}\")\n",
    "\n",
    "favourite_book(\"Shadow of the wind\")"
   ]
  },
  {
   "cell_type": "code",
   "execution_count": 16,
   "id": "c65a5df1",
   "metadata": {},
   "outputs": [
    {
     "name": "stdout",
     "output_type": "stream",
     "text": [
      "\n",
      "I have a dog.\n",
      "My dog's name is Mariola.\n"
     ]
    }
   ],
   "source": [
    "def describe_pet(pet_name, animal_type):\n",
    "    \"\"\"Display information about a pet.\"\"\"\n",
    "    print(f\"\\nI have a {animal_type}.\")\n",
    "    print(f\"My {animal_type}'s name is {pet_name.title()}.\")\n",
    "describe_pet(pet_name='Mariola', animal_type=\"dog\")"
   ]
  },
  {
   "cell_type": "code",
   "execution_count": 17,
   "id": "5b1244fb",
   "metadata": {},
   "outputs": [
    {
     "name": "stdout",
     "output_type": "stream",
     "text": [
      "\n",
      "I have a dog.\n",
      "My dog's name is Mariola.\n"
     ]
    }
   ],
   "source": [
    "def describe_pet(pet_name, animal_type = \"dog\"):\n",
    "    \"\"\"Display information about a pet.\"\"\"\n",
    "    print(f\"\\nI have a {animal_type}.\")\n",
    "    print(f\"My {animal_type}'s name is {pet_name.title()}.\")\n",
    "describe_pet(pet_name='Mariola')"
   ]
  },
  {
   "cell_type": "code",
   "execution_count": 19,
   "id": "6a477e43",
   "metadata": {},
   "outputs": [
    {
     "name": "stdout",
     "output_type": "stream",
     "text": [
      "Your shirt in size 40 will say 'Just Frog It!' on the front.\n",
      "Your shirt in size 40 will say 'Just Frog It!' on the front.\n"
     ]
    }
   ],
   "source": [
    "# EXERCISES\n",
    "# 8-3. T-Shirt: Write a function called make_shirt() that accepts a size and the\n",
    "# text of a message that should be printed on the shirt. The function should print\n",
    "# a sentence summarizing the size of the shirt and the message printed on it.\n",
    "# Call the function once using positional arguments to make a shirt. Call the\n",
    "# function a second time using keyword arguments.\n",
    "\n",
    "def make_shirt(size, message):\n",
    "    print(f\"Your shirt in size {size} will say '{message}' on the front.\")\n",
    "\n",
    "make_shirt(40, \"Just Frog It!\")\n",
    "make_shirt(message=\"Just Frog It!\", size=40)"
   ]
  },
  {
   "cell_type": "code",
   "execution_count": 21,
   "id": "2b5df78a",
   "metadata": {},
   "outputs": [
    {
     "name": "stdout",
     "output_type": "stream",
     "text": [
      "Your shirt in size 50 will say 'Just Frog It!' on the front.\n",
      "Your shirt in size 42 will say 'I love Python' on the front.\n",
      "Your shirt in size 46 will say 'I don't love Python' on the front.\n"
     ]
    }
   ],
   "source": [
    "# 8-4. Large Shirts: Modify the make_shirt() function so that shirts are large\n",
    "# by default with a message that reads I love Python. Make a large shirt and a\n",
    "# medium shirt with the default message, and a shirt of any size with a different\n",
    "# message.\n",
    "\n",
    "def make_shirt(size=50, message=\"I love Python\"):\n",
    "    print(f\"Your shirt in size {size} will say '{message}' on the front.\")\n",
    "\n",
    "make_shirt(message = \"Just Frog It!\")\n",
    "make_shirt(size=42)\n",
    "make_shirt(message=\"I don't love Python\", size=46)"
   ]
  },
  {
   "cell_type": "code",
   "execution_count": 23,
   "id": "b2c2bbfd",
   "metadata": {},
   "outputs": [
    {
     "name": "stdout",
     "output_type": "stream",
     "text": [
      "Warszawa is in Poland\n",
      "Krakow is in Poland\n",
      "Amsterdam is in Poland\n"
     ]
    }
   ],
   "source": [
    "# 8-5. Cities: Write a function called describe_city() that accepts the name of\n",
    "# a city and its country. The function should print a simple sentence, such as\n",
    "# Reykjavik is in Iceland. Give the parameter for the country a default value.\n",
    "# Call your function for three different cities, at least one of which is not in the\n",
    "# default country.\n",
    "\n",
    "def describe_city(city, country=\"Poland\"):\n",
    "    print(f\"{city.title()} is in {country}\")\n",
    "\n",
    "describe_city(\"warszawa\")\n",
    "describe_city(\"krakow\")\n",
    "describe_city(\"Amsterdam\")"
   ]
  },
  {
   "cell_type": "code",
   "execution_count": null,
   "id": "fcc2f6dd",
   "metadata": {},
   "outputs": [],
   "source": [
    "# Return values\n"
   ]
  }
 ],
 "metadata": {
  "kernelspec": {
   "display_name": "Python 3",
   "language": "python",
   "name": "python3"
  },
  "language_info": {
   "codemirror_mode": {
    "name": "ipython",
    "version": 3
   },
   "file_extension": ".py",
   "mimetype": "text/x-python",
   "name": "python",
   "nbconvert_exporter": "python",
   "pygments_lexer": "ipython3",
   "version": "3.9.3"
  }
 },
 "nbformat": 4,
 "nbformat_minor": 5
}
