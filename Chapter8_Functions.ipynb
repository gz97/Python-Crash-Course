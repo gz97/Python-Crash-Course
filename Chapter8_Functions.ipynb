{
 "cells": [
  {
   "cell_type": "code",
   "execution_count": 1,
   "id": "81b63820",
   "metadata": {},
   "outputs": [
    {
     "name": "stdout",
     "output_type": "stream",
     "text": [
      "Hello, you\n"
     ]
    }
   ],
   "source": [
    "# simple function\n",
    "def greeter():\n",
    "    \"\"\"Display a simple greet message\"\"\"\n",
    "    print(\"Hello, you\")\n",
    "\n",
    "greeter()"
   ]
  },
  {
   "cell_type": "code",
   "execution_count": 3,
   "id": "f138367c",
   "metadata": {},
   "outputs": [
    {
     "name": "stdout",
     "output_type": "stream",
     "text": [
      "Hello, Gosia\n"
     ]
    }
   ],
   "source": [
    "# function with a parameter\n",
    "def greeter(user_name):\n",
    "    \"\"\"Display a simple greet message for a user with a passed in user_name\"\"\"\n",
    "    print(f\"Hello, {user_name.title()}\")\n",
    "\n",
    "greeter(\"Gosia\")"
   ]
  },
  {
   "cell_type": "code",
   "execution_count": 4,
   "id": "5640ac35",
   "metadata": {},
   "outputs": [
    {
     "name": "stdout",
     "output_type": "stream",
     "text": [
      "I'm learning about functions\n"
     ]
    }
   ],
   "source": [
    "# EXERCISES\n",
    "# 8-1. Message: Write a function called display_message() \n",
    "# that prints one sentence telling everyone what you are \n",
    "# learning about in this chapter. Call the\n",
    "# function, and make sure the message displays correctly\n",
    "\n",
    "def display_message():\n",
    "    print(\"I'm learning about functions\")\n",
    "\n",
    "display_message()"
   ]
  },
  {
   "cell_type": "code",
   "execution_count": 5,
   "id": "89e6049e",
   "metadata": {},
   "outputs": [
    {
     "name": "stdout",
     "output_type": "stream",
     "text": [
      "One of my favourite books is Shadow Of The Wind\n"
     ]
    }
   ],
   "source": [
    "# 8-2. Favorite Book: Write a function called favorite_book() that accepts one\n",
    "# parameter, title. The function should print a message, such as One of my\n",
    "# favorite books is Alice in Wonderland. Call the function, making sure to\n",
    "# include a book title as an argument in the function call.\n",
    "\n",
    "def favourite_book(book):\n",
    "    print(f\"One of my favourite books is {book.title()}\")\n",
    "\n",
    "favourite_book(\"Shadow of the wind\")"
   ]
  },
  {
   "cell_type": "code",
   "execution_count": 16,
   "id": "c65a5df1",
   "metadata": {},
   "outputs": [
    {
     "name": "stdout",
     "output_type": "stream",
     "text": [
      "\n",
      "I have a dog.\n",
      "My dog's name is Mariola.\n"
     ]
    }
   ],
   "source": [
    "def describe_pet(pet_name, animal_type):\n",
    "    \"\"\"Display information about a pet.\"\"\"\n",
    "    print(f\"\\nI have a {animal_type}.\")\n",
    "    print(f\"My {animal_type}'s name is {pet_name.title()}.\")\n",
    "describe_pet(pet_name='Mariola', animal_type=\"dog\")"
   ]
  },
  {
   "cell_type": "code",
   "execution_count": 17,
   "id": "5b1244fb",
   "metadata": {},
   "outputs": [
    {
     "name": "stdout",
     "output_type": "stream",
     "text": [
      "\n",
      "I have a dog.\n",
      "My dog's name is Mariola.\n"
     ]
    }
   ],
   "source": [
    "def describe_pet(pet_name, animal_type = \"dog\"):\n",
    "    \"\"\"Display information about a pet.\"\"\"\n",
    "    print(f\"\\nI have a {animal_type}.\")\n",
    "    print(f\"My {animal_type}'s name is {pet_name.title()}.\")\n",
    "describe_pet(pet_name='Mariola')"
   ]
  },
  {
   "cell_type": "code",
   "execution_count": 19,
   "id": "6a477e43",
   "metadata": {},
   "outputs": [
    {
     "name": "stdout",
     "output_type": "stream",
     "text": [
      "Your shirt in size 40 will say 'Just Frog It!' on the front.\n",
      "Your shirt in size 40 will say 'Just Frog It!' on the front.\n"
     ]
    }
   ],
   "source": [
    "# EXERCISES\n",
    "# 8-3. T-Shirt: Write a function called make_shirt() that accepts a size and the\n",
    "# text of a message that should be printed on the shirt. The function should print\n",
    "# a sentence summarizing the size of the shirt and the message printed on it.\n",
    "# Call the function once using positional arguments to make a shirt. Call the\n",
    "# function a second time using keyword arguments.\n",
    "\n",
    "def make_shirt(size, message):\n",
    "    print(f\"Your shirt in size {size} will say '{message}' on the front.\")\n",
    "\n",
    "make_shirt(40, \"Just Frog It!\")\n",
    "make_shirt(message=\"Just Frog It!\", size=40)"
   ]
  },
  {
   "cell_type": "code",
   "execution_count": 21,
   "id": "2b5df78a",
   "metadata": {},
   "outputs": [
    {
     "name": "stdout",
     "output_type": "stream",
     "text": [
      "Your shirt in size 50 will say 'Just Frog It!' on the front.\n",
      "Your shirt in size 42 will say 'I love Python' on the front.\n",
      "Your shirt in size 46 will say 'I don't love Python' on the front.\n"
     ]
    }
   ],
   "source": [
    "# 8-4. Large Shirts: Modify the make_shirt() function so that shirts are large\n",
    "# by default with a message that reads I love Python. Make a large shirt and a\n",
    "# medium shirt with the default message, and a shirt of any size with a different\n",
    "# message.\n",
    "\n",
    "def make_shirt(size=50, message=\"I love Python\"):\n",
    "    print(f\"Your shirt in size {size} will say '{message}' on the front.\")\n",
    "\n",
    "make_shirt(message = \"Just Frog It!\")\n",
    "make_shirt(size=42)\n",
    "make_shirt(message=\"I don't love Python\", size=46)"
   ]
  },
  {
   "cell_type": "code",
   "execution_count": 23,
   "id": "b2c2bbfd",
   "metadata": {},
   "outputs": [
    {
     "name": "stdout",
     "output_type": "stream",
     "text": [
      "Warszawa is in Poland\n",
      "Krakow is in Poland\n",
      "Amsterdam is in Poland\n"
     ]
    }
   ],
   "source": [
    "# 8-5. Cities: Write a function called describe_city() that accepts the name of\n",
    "# a city and its country. The function should print a simple sentence, such as\n",
    "# Reykjavik is in Iceland. Give the parameter for the country a default value.\n",
    "# Call your function for three different cities, at least one of which is not in the\n",
    "# default country.\n",
    "\n",
    "def describe_city(city, country=\"Poland\"):\n",
    "    print(f\"{city.title()} is in {country}\")\n",
    "\n",
    "describe_city(\"warszawa\")\n",
    "describe_city(\"krakow\")\n",
    "describe_city(\"Amsterdam\")"
   ]
  },
  {
   "cell_type": "code",
   "execution_count": 1,
   "id": "fcc2f6dd",
   "metadata": {},
   "outputs": [
    {
     "data": {
      "text/plain": [
       "'Mariola Zurkowa'"
      ]
     },
     "execution_count": 1,
     "metadata": {},
     "output_type": "execute_result"
    }
   ],
   "source": [
    "# Return values\n",
    "    # instead of displaying output directly, functions can return a value or set of values\n",
    "\n",
    "def get_formatted_name(first_name, last_name):\n",
    "    \"\"\"Return a full name, neatly formatted\"\"\" \n",
    "    full_name = f\"{first_name} {last_name}\"\n",
    "    return full_name.title() \n",
    "\n",
    "doggo = get_formatted_name(\"mariola\", \"zurkowa\")\n",
    "doggo"
   ]
  },
  {
   "cell_type": "code",
   "execution_count": 3,
   "id": "15e245bd",
   "metadata": {},
   "outputs": [
    {
     "data": {
      "text/plain": [
       "'Mariola Zurkowa'"
      ]
     },
     "execution_count": 3,
     "metadata": {},
     "output_type": "execute_result"
    }
   ],
   "source": [
    "# Return values\n",
    "    # default args-\n",
    "def get_formatted_name(first_name, last_name, middle_name = \"\"): # give empty string as default\n",
    "    \"\"\"Return a full name, neatly formatted\"\"\" \n",
    "    if middle_name:\n",
    "        full_name = f\"{first_name} {middle_name} {last_name}\"\n",
    "    else:\n",
    "        full_name = f\"{first_name} {last_name}\"\n",
    "    return full_name.title()\n",
    "doggo = get_formatted_name(\"mariola\", \"zurkowa\")\n",
    "doggo"
   ]
  },
  {
   "cell_type": "code",
   "execution_count": 4,
   "id": "049bae56",
   "metadata": {},
   "outputs": [
    {
     "data": {
      "text/plain": [
       "{'first': 'mariola', 'last': 'zurkowna'}"
      ]
     },
     "execution_count": 4,
     "metadata": {},
     "output_type": "execute_result"
    }
   ],
   "source": [
    "# returning a dictionary\n",
    "def build_doggo(first_name, last_name):\n",
    "    \"\"\"return a dict of info about a doggo\"\"\"\n",
    "    doggo = {'first': first_name, 'last': last_name}\n",
    "    return doggo\n",
    "\n",
    "doggeroo = build_doggo(\"mariola\", \"zurkowna\")\n",
    "doggeroo"
   ]
  },
  {
   "cell_type": "code",
   "execution_count": 5,
   "id": "2f0803ba",
   "metadata": {},
   "outputs": [
    {
     "data": {
      "text/plain": [
       "{'first': 'mariola', 'last': 'zurkowna', 'age': 15}"
      ]
     },
     "execution_count": 5,
     "metadata": {},
     "output_type": "execute_result"
    }
   ],
   "source": [
    "def build_doggo(first_name, last_name, age=None):  \n",
    "    \"\"\"Return a dictionary of information about a person.\"\"\"\n",
    "    doggo = {'first': first_name, 'last': last_name}\n",
    "    if age:\n",
    "        doggo['age'] = age\n",
    "    return doggo \n",
    "\n",
    "doggeroo = build_doggo(\"mariola\", \"zurkowna\", age = 15)\n",
    "doggeroo"
   ]
  },
  {
   "cell_type": "code",
   "execution_count": 1,
   "id": "f8038dc0",
   "metadata": {},
   "outputs": [
    {
     "name": "stdout",
     "output_type": "stream",
     "text": [
      "Tell me your name:\n"
     ]
    },
    {
     "ename": "",
     "evalue": "",
     "output_type": "error",
     "traceback": [
      "\u001b[1;31mCannot execute code, session has been disposed. Please try restarting the Kernel."
     ]
    },
    {
     "ename": "",
     "evalue": "",
     "output_type": "error",
     "traceback": [
      "\u001b[1;31mCannot execute code, session has been disposed. Please try restarting the Kernel. \n",
      "\u001b[1;31mView Jupyter <a href='command:jupyter.viewOutput'>log</a> for further details."
     ]
    }
   ],
   "source": [
    "# using a function with a While loop\n",
    "def get_formatted_name(first_name, last_name):\n",
    "    \"\"\"Return a full name, neatly formatted\"\"\" \n",
    "    full_name = f\"{first_name} {last_name}\"\n",
    "    return full_name.title() \n",
    "\n",
    "while True:\n",
    "    print('Tell me your name:')\n",
    "    f_name = input(\"First name: \")\n",
    "    l_name = input(\"Last name: \")\n",
    "\n",
    "    formatted_name = get_formatted_name(f_name, l_name)\n",
    "    print(f\"Hello, {formatted_name}\")"
   ]
  },
  {
   "cell_type": "code",
   "execution_count": null,
   "id": "725c8930",
   "metadata": {},
   "outputs": [
    {
     "name": "stdout",
     "output_type": "stream",
     "text": [
      "Tell me your name:\n",
      "(enter 'q' at any time to quit)\n",
      "Hello, Gorzata Zurkowinka\n",
      "Tell me your name:\n",
      "(enter 'q' at any time to quit)\n"
     ]
    }
   ],
   "source": [
    "# add a break condition to a while loop\n",
    "\n",
    "def get_formatted_name(first_name, last_name):\n",
    "    \"\"\"Return a full name, neatly formatted\"\"\" \n",
    "    full_name = f\"{first_name} {last_name}\"\n",
    "    return full_name.title() \n",
    "\n",
    "while True:\n",
    "    print('Tell me your name:')\n",
    "    print(\"(enter 'q' at any time to quit)\")\n",
    "\n",
    "    f_name = input(\"First name: \")\n",
    "    if f_name == 'q':\n",
    "        break\n",
    "\n",
    "    l_name = input(\"Last name: \")\n",
    "    if l_name == 'q':\n",
    "        break\n",
    "\n",
    "\n",
    "    formatted_name = get_formatted_name(f_name, l_name)\n",
    "    print(f\"Hello, {formatted_name}\")"
   ]
  },
  {
   "cell_type": "code",
   "execution_count": 6,
   "id": "5aa21214",
   "metadata": {},
   "outputs": [
    {
     "name": "stdout",
     "output_type": "stream",
     "text": [
      "Krakow, Poland\n",
      "Amsterdam, Netherlands\n",
      "Praga, Czechia\n"
     ]
    }
   ],
   "source": [
    "# EXERCISES\n",
    "# 8-6. City Names: Write a function called city_country() that takes in the name\n",
    "# of a city and its country. The function should return a string formatted like this:\n",
    "# \"Santiago, Chile\"\n",
    "# Call your function with at least three city-country pairs, and print the\n",
    "# values that are returned.\n",
    "\n",
    "def city_country(city, country):\n",
    "    print(f\"{city.title()}, {country.title()}\")\n",
    "\n",
    "city_country(\"krakow\", \"poland\")\n",
    "city_country(\"Amsterdam\", \"Netherlands\")\n",
    "city_country(\"Praga\", \"Czechia\")"
   ]
  },
  {
   "cell_type": "code",
   "execution_count": 8,
   "id": "77984b96",
   "metadata": {},
   "outputs": [
    {
     "data": {
      "text/plain": [
       "{'artist': 'Kaya', 'title': 'Bogini', 'song number': 12}"
      ]
     },
     "execution_count": 8,
     "metadata": {},
     "output_type": "execute_result"
    }
   ],
   "source": [
    "# 8-7. Album: Write a function called make_album() that builds a dictionary\n",
    "# describing a music album. The function should take in an artist name and an\n",
    "# album title, and it should return a dictionary containing these two pieces of\n",
    "# information. Use the function to make three dictionaries representing different\n",
    "# albums. Print each return value to show that the dictionaries are storing the\n",
    "# album information correctly.\n",
    "# Use None to add an optional parameter to make_album() that allows you to\n",
    "# store the number of songs on an album. If the calling line includes a value for\n",
    "# the number of songs, add that value to the album’s dictionary. Make at least\n",
    "# one new function call that includes the number of songs on an album\n",
    "\n",
    "def make_album(artist_name, album_title, song_num = None):\n",
    "    album = {\"artist\":artist_name.title(), \"title\":album_title.title()}\n",
    "    if song_num:\n",
    "        album[\"song number\"] = song_num\n",
    "    return album \n",
    "\n",
    "make_album(\"Kaya\", \"bogini\", 12)"
   ]
  },
  {
   "cell_type": "code",
   "execution_count": null,
   "id": "41c7e585",
   "metadata": {},
   "outputs": [
    {
     "name": "stdout",
     "output_type": "stream",
     "text": [
      "Enter your favourite music album details: \n",
      "(enter 'q' at any time to quit)\n",
      "{'artist': 'Wgbwt4H', 'title': 'Tqgve', 'song number': '14'}\n",
      "Enter your favourite music album details: \n",
      "(enter 'q' at any time to quit)\n"
     ]
    }
   ],
   "source": [
    "# 8-8. User Albums: Start with your program from Exercise 8-7. Write a while\n",
    "# loop that allows users to enter an album’s artist and title. Once you have that\n",
    "# information, call make_album() with the user’s input and print the dictionary\n",
    "# that’s created. Be sure to include a quit value in the while loop.\n",
    "\n",
    "def make_album(artist_name, album_title, song_num = None):\n",
    "    album = {\"artist\":artist_name.title(), \"title\":album_title.title()}\n",
    "    if song_num:\n",
    "        album[\"song number\"] = song_num\n",
    "    return album  \n",
    "\n",
    "while True:\n",
    "    print(\"Enter your favourite music album details: \")\n",
    "    print(\"(enter 'q' at any time to quit)\")\n",
    "\n",
    "    a_name = input(\"Input artist name: \")\n",
    "    if a_name == 'q':\n",
    "        break\n",
    "    \n",
    "    a_title = input(\"Input album title: \")\n",
    "    if a_title == 'q':\n",
    "        break\n",
    "\n",
    "    a_songs = input(\"Input song number: \")\n",
    "    if a_songs == 'q':\n",
    "        break\n",
    "\n",
    "\n",
    "    user_album = make_album(a_name, a_title, a_songs)\n",
    "    print(user_album)"
   ]
  },
  {
   "cell_type": "code",
   "execution_count": 4,
   "id": "a2585195",
   "metadata": {},
   "outputs": [
    {
     "name": "stdout",
     "output_type": "stream",
     "text": [
      "Hello, Mariola!\n",
      "Hello, Gloria!\n",
      "Hello, Sylvie!\n"
     ]
    }
   ],
   "source": [
    "# Passing a list\n",
    "\n",
    "def greet_users(names):\n",
    "    \"\"\"Print a simple greeting to each user in the list.\"\"\"\n",
    "    for name in names:\n",
    "        msg = f\"Hello, {name.title()}!\"\n",
    "        print(msg)\n",
    "\n",
    "usernames = ['mariola', 'gloria', 'sylvie']\n",
    "greet_users(usernames)"
   ]
  },
  {
   "cell_type": "code",
   "execution_count": null,
   "id": "70360ac8",
   "metadata": {},
   "outputs": [
    {
     "name": "stdout",
     "output_type": "stream",
     "text": [
      "Washing: Pixel\n",
      "Washing: Tokyo\n",
      "Washing: Mariola\n",
      "\n",
      "All the dogs have been washed:\n",
      "Pixel\n",
      "Tokyo\n",
      "Mariola\n"
     ]
    }
   ],
   "source": [
    "# modyfying a list in a function\n",
    "\n",
    "# dogs in a queue to a bath\n",
    "\n",
    "def washing_dogs(unwashed_dogs, washed_dogs):\n",
    "    while unwashed_dogs:\n",
    "        current_washed_dog = unwashed_dogs.pop()\n",
    "        print(f\"Washing: {current_washed_dog}\")\n",
    "        washed_dogs.append(current_washed_dog)\n",
    "\n",
    "def show_washed_dogs(washed_dogs):\n",
    "    print(\"\\nAll the dogs have been washed:\")\n",
    "    for dog in washed_dogs:\n",
    "        print(dog)\n",
    "\n",
    "\n",
    "unwashed_dogs = [\"Mariola\", \"Tokyo\", \"Pixel\"]\n",
    "washed_dogs = []\n",
    "\n",
    "washing_dogs(unwashed_dogs, washed_dogs)\n",
    "show_washed_dogs(washed_dogs)"
   ]
  },
  {
   "cell_type": "code",
   "execution_count": null,
   "id": "ac17b35e",
   "metadata": {},
   "outputs": [
    {
     "name": "stdout",
     "output_type": "stream",
     "text": [
      "Washing: Pixel\n",
      "Washing: Tokyo\n",
      "Washing: Mariola\n",
      "\n",
      "All the dogs have been washed:\n",
      "Pixel\n",
      "Tokyo\n",
      "Mariola\n"
     ]
    }
   ],
   "source": [
    "# using a copy of a list, without modifying the original\n",
    "    # pass in a list with a slice notation, this passes its copy\n",
    "unwashed_dogs = [\"Mariola\", \"Tokyo\", \"Pixel\"]\n",
    "washed_dogs = []\n",
    "\n",
    "washing_dogs(unwashed_dogs[:], washed_dogs)\n",
    "show_washed_dogs(washed_dogs)"
   ]
  },
  {
   "cell_type": "code",
   "execution_count": 16,
   "id": "be19ad6d",
   "metadata": {},
   "outputs": [
    {
     "name": "stdout",
     "output_type": "stream",
     "text": [
      "hi\n",
      "are\n",
      "you\n",
      "home\n"
     ]
    }
   ],
   "source": [
    "# EXERCISES\n",
    "\n",
    "#8-9. Messages: Make a list containing a series of short text messages. Pass the\n",
    "# list to a function called show_messages(), which prints each text message.\n",
    "\n",
    "messages = [\"hi\", \"are\", \"you\", \"home\"]\n",
    "\n",
    "def print_messages(messages):\n",
    "    for message in messages:\n",
    "        print(message)\n",
    "\n",
    "print_messages(messages)"
   ]
  },
  {
   "cell_type": "code",
   "execution_count": 25,
   "id": "c96a1247",
   "metadata": {},
   "outputs": [
    {
     "name": "stdout",
     "output_type": "stream",
     "text": [
      "hi\n",
      "are\n",
      "you\n",
      "home\n",
      "[]\n",
      "['hi', 'are', 'you', 'home']\n"
     ]
    }
   ],
   "source": [
    "# 8-10. Sending Messages: Start with a copy of your program from Exercise 8-9.\n",
    "# Write a function called send_messages() that prints each text message and\n",
    "# moves each message to a new list called sent_messages as it’s printed. After\n",
    "# calling the function, print both of your lists to make sure the messages were\n",
    "# moved correctly.\n",
    "\n",
    "messages = [\"hi\", \"are\", \"you\", \"home\"]\n",
    "sent_messages = []\n",
    "\n",
    "def send_messages(messages):\n",
    "    while messages:\n",
    "        message = messages.pop(0)\n",
    "        print(message)\n",
    "        sent_messages.append(message)\n",
    "\n",
    "send_messages(messages)\n",
    "print(messages)\n",
    "print(sent_messages)"
   ]
  },
  {
   "cell_type": "code",
   "execution_count": 24,
   "id": "7fe31bcf",
   "metadata": {},
   "outputs": [
    {
     "name": "stdout",
     "output_type": "stream",
     "text": [
      "hi\n",
      "are\n",
      "you\n",
      "home\n",
      "['hi', 'are', 'you', 'home']\n",
      "['hi', 'are', 'you', 'home']\n"
     ]
    }
   ],
   "source": [
    "# 8-11. Archived Messages: Start with your work from Exercise 8-10. Call the\n",
    "# function send_messages() with a copy of the list of messages. After calling the\n",
    "# function, print both of your lists to show that the original list has retained its\n",
    "# messages.\n",
    "\n",
    "messages = [\"hi\", \"are\", \"you\", \"home\"]\n",
    "sent_messages = []\n",
    "\n",
    "send_messages(messages[:])\n",
    "print(messages)\n",
    "print(sent_messages)"
   ]
  },
  {
   "cell_type": "code",
   "execution_count": 28,
   "id": "1903a6f8",
   "metadata": {},
   "outputs": [
    {
     "name": "stdout",
     "output_type": "stream",
     "text": [
      "('Mariola',)\n",
      "('Mariola', 'Pixel', 'Disco')\n",
      "- Mariola\n",
      "- Pixel\n",
      "- Disco\n"
     ]
    }
   ],
   "source": [
    "# Passing an Arbitrary Number of Arguments\n",
    "\n",
    "def dogs_in_daycare_today(*dogs):\n",
    "    print(dogs)\n",
    "\n",
    "dogs_in_daycare_today(\"Mariola\")\n",
    "dogs_in_daycare_today(\"Mariola\", \"Pixel\", \"Disco\")\n",
    "\n",
    "def dogs_in_daycare_today(*dogs):\n",
    "    for dog in dogs:\n",
    "        print(f\"- {dog}\")\n",
    "\n",
    "dogs_in_daycare_today(\"Mariola\", \"Pixel\", \"Disco\")"
   ]
  },
  {
   "cell_type": "code",
   "execution_count": 33,
   "id": "ac7bdd88",
   "metadata": {},
   "outputs": [
    {
     "name": "stdout",
     "output_type": "stream",
     "text": [
      "On Monday, we have these dogs in daycare:\n",
      "- Mariola\n",
      "- Pixel\n",
      "- Disco\n"
     ]
    }
   ],
   "source": [
    "# Mixing Positional and Arbitrary Arguments\n",
    "    #arbitrary args must be in last position in the function\n",
    "\n",
    "def dogs_in_daycare_today(weekday, *dogs):\n",
    "    print(f\"On {weekday.title()}, we have these dogs in daycare:\")\n",
    "    for dog in dogs:\n",
    "        print(f\"- {dog}\")\n",
    "\n",
    "dogs_in_daycare_today(\"monday\", \"Mariola\", \"Pixel\", \"Disco\")"
   ]
  },
  {
   "cell_type": "code",
   "execution_count": 36,
   "id": "76e0833b",
   "metadata": {},
   "outputs": [
    {
     "name": "stdout",
     "output_type": "stream",
     "text": [
      "On Monday, we have Mariola in daycare:\n"
     ]
    },
    {
     "data": {
      "text/plain": [
       "{'dog_age': 14,\n",
       " 'owner_name': 'Gorzata',\n",
       " 'allergies': None,\n",
       " 'attendance_day': 'monday',\n",
       " 'dog_name': 'Mariola'}"
      ]
     },
     "execution_count": 36,
     "metadata": {},
     "output_type": "execute_result"
    }
   ],
   "source": [
    "# Using Arbitrary Keyword Arguments\n",
    "\n",
    "def dogs_in_daycare_attendance(weekday, dog_name, **dog_info):\n",
    "    print(f\"On {weekday.title()}, we have {dog_name} in daycare:\")\n",
    "    dog_info['attendance_day'] = weekday\n",
    "    dog_info['dog_name'] = dog_name\n",
    "    return dog_info\n",
    "    \n",
    "\n",
    "dogs_in_daycare_attendance(\"monday\", \"Mariola\", dog_age=14, owner_name='Gorzata', allergies=None)"
   ]
  },
  {
   "cell_type": "code",
   "execution_count": 37,
   "id": "9c19890f",
   "metadata": {},
   "outputs": [
    {
     "name": "stdout",
     "output_type": "stream",
     "text": [
      "Your sandwich comes with:\n",
      "- cheese\n",
      "Your sandwich comes with:\n",
      "- cheese\n",
      "- tomato\n",
      "- onion\n"
     ]
    }
   ],
   "source": [
    "# EXERCISES\n",
    "# 8-12. Sandwiches: Write a function that accepts a list of items a \n",
    "# person wants on a sandwich. The function should have one parameter \n",
    "# that collects as many items as the function call provides, and it \n",
    "# should print a summary of the sandwich that’s being ordered. Call the \n",
    "# function three times, using a different number of arguments each time.\n",
    "\n",
    "def sandwich_maker(*toppings):\n",
    "    print(f\"Your sandwich comes with:\")\n",
    "    for topping in toppings:\n",
    "        print(f\"- {topping}\")\n",
    "\n",
    "sandwich_maker('cheese')\n",
    "sandwich_maker('cheese', 'tomato', 'onion')"
   ]
  },
  {
   "cell_type": "code",
   "execution_count": 38,
   "id": "f03f51c2",
   "metadata": {},
   "outputs": [
    {
     "name": "stdout",
     "output_type": "stream",
     "text": [
      "On Tuesday, we have Pixel in daycare:\n"
     ]
    },
    {
     "data": {
      "text/plain": [
       "{'dog_age': 1,\n",
       " 'owner_name': 'Gorzata',\n",
       " 'allergies': 'salmon',\n",
       " 'attendance_day': 'tuesday',\n",
       " 'dog_name': 'Pixel'}"
      ]
     },
     "execution_count": 38,
     "metadata": {},
     "output_type": "execute_result"
    }
   ],
   "source": [
    "# 8-13. User Profile: Start with a copy of user_profile.py from page 149. \n",
    "# Build a profile of yourself by calling build_profile(), using your first \n",
    "# and last names and three other key-value pairs that describe you.\n",
    "\n",
    "def dogs_in_daycare_attendance(weekday, dog_name, **dog_info):\n",
    "    print(f\"On {weekday.title()}, we have {dog_name} in daycare:\")\n",
    "    dog_info['attendance_day'] = weekday\n",
    "    dog_info['dog_name'] = dog_name\n",
    "    return dog_info\n",
    "    \n",
    "\n",
    "dogs_in_daycare_attendance(\"tuesday\", \"Pixel\", dog_age=1, owner_name='Gorzata', allergies='salmon')"
   ]
  },
  {
   "cell_type": "code",
   "execution_count": 39,
   "id": "e65c41bc",
   "metadata": {},
   "outputs": [
    {
     "data": {
      "text/plain": [
       "{'color': 'blue',\n",
       " 'tow_package': True,\n",
       " 'car_make': 'subaru',\n",
       " 'car_type': 'outback'}"
      ]
     },
     "execution_count": 39,
     "metadata": {},
     "output_type": "execute_result"
    }
   ],
   "source": [
    "# 8-14. Cars: Write a function that stores information about a car in a \n",
    "# dictionary. The function should always receive a manufacturer and a model \n",
    "# name. It should then accept an arbitrary number of keyword arguments. \n",
    "# Call the function with the required information and two other name-value\n",
    "# pairs, such as a color or an optional feature. Your function should work \n",
    "# for a call like this one: \n",
    "# car = make_car('subaru', 'outback', color='blue', tow_package=True)\n",
    "# Print the dictionary that’s returned to make sure all the information was\n",
    "# stored correctly.\n",
    "\n",
    "def make_car(car_make, car_type, **car_info):\n",
    "    car_info['car_make'] = car_make\n",
    "    car_info['car_type'] = car_type\n",
    "    return car_info\n",
    "    \n",
    "\n",
    "make_car('subaru', 'outback', color='blue', tow_package=True)"
   ]
  },
  {
   "cell_type": "code",
   "execution_count": 3,
   "id": "225baafe",
   "metadata": {},
   "outputs": [
    {
     "name": "stdout",
     "output_type": "stream",
     "text": [
      "On Wednesday, we have these dogs in daycare:\n",
      "- Mariola\n",
      "- Pixel\n"
     ]
    }
   ],
   "source": [
    "# Storing Your Functions in Modules \n",
    "    # Importing an entire module\n",
    "\n",
    "\n",
    "import dog_daycare as dd\n",
    "# to use it, call module_name.function_name()\n",
    "\n",
    "dd.dogs_in_daycare_today(\"Wednesday\", \"Mariola\", \"Pixel\")\n",
    "\n",
    "# or\n",
    "#from dog_daycare import dogs_in_daycare_today as dct\n",
    "# to use it, we just use function_name, don't need to call module_name, too\n",
    "\n",
    "#dct(\"Monday\", \"Disco\", \"Pimpi\")"
   ]
  },
  {
   "cell_type": "code",
   "execution_count": 4,
   "id": "893faafc",
   "metadata": {},
   "outputs": [
    {
     "name": "stdout",
     "output_type": "stream",
     "text": [
      "On Monday, we have Mariolka in daycare:\n"
     ]
    },
    {
     "data": {
      "text/plain": [
       "{'age': 14, 'attendance_day': 'monday', 'dog_name': 'Mariolka'}"
      ]
     },
     "execution_count": 4,
     "metadata": {},
     "output_type": "execute_result"
    }
   ],
   "source": [
    "# EXERCISES\n",
    "# 8-15. Printing Models: Put the functions for the example printing_models.py \n",
    "# in a separate file called printing_functions.py. Write an import statement \n",
    "# at the top of printing_models.py, and modify the file to use the imported \n",
    "# functions.\n",
    "\n",
    "# I added dogs in attendance to dog_daycare module\n",
    "\n",
    "#import dog_daycare as dd\n",
    "#from dog_daycare import dogs_in_daycare_attendance\n",
    "\n",
    "dd.dogs_in_daycare_attendance_md(\"monday\", \"Mariolka\", age=14)\n"
   ]
  }
 ],
 "metadata": {
  "kernelspec": {
   "display_name": "Python 3",
   "language": "python",
   "name": "python3"
  },
  "language_info": {
   "codemirror_mode": {
    "name": "ipython",
    "version": 3
   },
   "file_extension": ".py",
   "mimetype": "text/x-python",
   "name": "python",
   "nbconvert_exporter": "python",
   "pygments_lexer": "ipython3",
   "version": "3.9.3"
  }
 },
 "nbformat": 4,
 "nbformat_minor": 5
}
