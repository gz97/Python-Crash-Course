{
 "cells": [
  {
   "cell_type": "markdown",
   "metadata": {},
   "source": [
    "### Chapter 2: Variables and Simple Data Types"
   ]
  },
  {
   "cell_type": "code",
   "execution_count": 2,
   "metadata": {},
   "outputs": [
    {
     "name": "stdout",
     "output_type": "stream",
     "text": [
      "Hello world\n"
     ]
    }
   ],
   "source": [
    "variable = \"Hello world\"\n",
    "\n",
    "print(variable)"
   ]
  },
  {
   "cell_type": "code",
   "execution_count": 8,
   "metadata": {},
   "outputs": [
    {
     "name": "stdout",
     "output_type": "stream",
     "text": [
      "Monty Python\n",
      "monty python\n",
      "MONTY PYTHON\n"
     ]
    }
   ],
   "source": [
    "# Strings: Changing Case in a String with Methods\n",
    "all_case = \"mONTY python\"\n",
    "capitalised = lowercase.title()\n",
    "print(capitalised)\n",
    "\n",
    "lowercase = all_case.lower()\n",
    "uppercase = all_case.upper()\n",
    "print(lowercase)\n",
    "print(uppercase)\n",
    "\n"
   ]
  },
  {
   "cell_type": "code",
   "execution_count": 13,
   "metadata": {},
   "outputs": [
    {
     "name": "stdout",
     "output_type": "stream",
     "text": [
      "monty python\n",
      "Hello Monty Python\n",
      "Hello Monty Python\n"
     ]
    }
   ],
   "source": [
    "# Strings: Using Variables in Strings\n",
    "first_name = \"monty\" \n",
    "last_name = \"python\" \n",
    "full_name = f\"{first_name} {last_name}\" \n",
    "print(full_name)\n",
    "\n",
    "print(f\"Hello {full_name.title()}\")\n",
    "\n",
    "# Assign the message to the variable\n",
    "var = f\"Hello {full_name.title()}\"\n",
    "\n",
    "print(var)"
   ]
  },
  {
   "cell_type": "code",
   "execution_count": 17,
   "metadata": {},
   "outputs": [
    {
     "name": "stdout",
     "output_type": "stream",
     "text": [
      "Python\n",
      "\tPython\n",
      "Language:\n",
      "Python\n",
      "Language:\n",
      "\tPython\n"
     ]
    }
   ],
   "source": [
    "# Strings: Adding Whitespace to Strings with Tabs or Newlines\n",
    "    # whitespace - any nonprinting character, such as spaces, tabs, and end-of-line symbols\n",
    "\n",
    "    # add a tab \\t\n",
    "print(\"Python\")\n",
    "print(\"\\tPython\")\n",
    "\n",
    "    # add a new line \\n\n",
    "print(\"Language:\\nPython\")\n",
    "\n",
    "    # add a tab and a new line \n",
    "print(\"Language:\\n\\tPython\")"
   ]
  },
  {
   "cell_type": "code",
   "execution_count": 18,
   "metadata": {},
   "outputs": [
    {
     "name": "stdout",
     "output_type": "stream",
     "text": [
      " Python \n",
      "Python \n",
      " Python\n",
      "Python\n"
     ]
    }
   ],
   "source": [
    "# Strings: Stripping Whitespace\n",
    "text = \" Python \"\n",
    "strip_left = text.lstrip()\n",
    "strip_right = text.rstrip()\n",
    "strip_both = text.strip() \n",
    "\n",
    "print(text)\n",
    "print(strip_left)\n",
    "print(strip_right)\n",
    "print(strip_both)"
   ]
  },
  {
   "cell_type": "code",
   "execution_count": 30,
   "metadata": {},
   "outputs": [
    {
     "name": "stdout",
     "output_type": "stream",
     "text": [
      "Hello Six-thirty, how many words have you learnt today?\n",
      "six-thirty\n",
      "six-thirty\n",
      "SIX-THIRTY\n",
      "Six-Thirty\n",
      "Six-thirty\n",
      "I know 634 words.\n",
      "Six-thirty once said, \"I know 634 words.\".\n",
      "\t  Six-thirty \n",
      " \n",
      "\t  Six-thirty\n",
      "Six-thirty \n",
      " \n",
      "Six-thirty\n"
     ]
    }
   ],
   "source": [
    "# String exercises:\n",
    "    # 2-3. Personal Message: Use a variable to represent a person’s name, and print\n",
    "    # a message to that person. Your message should be simple, such as, “Hello Eric,\n",
    "    # would you like to learn some Python today?”\n",
    "name = \"Six-thirty\"\n",
    "message = f\"Hello {name}, how many words have you learnt today?\"\n",
    "print(message)\n",
    "\n",
    "    # 2-4. Name Cases: Use a variable to represent a person’s name, and then print\n",
    "    # that person’s name in lowercase, uppercase, and title case.\n",
    "\n",
    "name_basic = \"six-thirty\"\n",
    "name_lower = name_basic.lower() \n",
    "name_upper = name_basic.upper()\n",
    "name_right = name_basic.title()\n",
    "print(name_basic)\n",
    "print(name_lower)\n",
    "print(name_upper)\n",
    "print(name_right)\n",
    "\n",
    "# Famous Quote: Find a quote from a famous person you admire. Print the\n",
    "# quote and the name of its author. Your output should look something like the\n",
    "# following, including the quotation marks:\n",
    "\n",
    "quote_author = \"Six-thirty\" \n",
    "quote_txt = \"I know 634 words.\"\n",
    "quoted_txt = f'{quote_author} once said, \"{quote_txt}\".'\n",
    "print(quote_author)\n",
    "print(quote_txt)\n",
    "print(quoted_txt)\n",
    "\n",
    "# Stripping Names: Use a variable to represent a person’s name, and include\n",
    "# some whitespace characters at the beginning and end of the name. Make sure\n",
    "# you use each character combination, \"\\t\" and \"\\n\", at least once.\n",
    "# Print the name once, so the whitespace around the name is displayed.\n",
    "# Then print the name using each of the three stripping functions, lstrip(),\n",
    "# rstrip(), and strip()\n",
    "\n",
    "name = \"\\t  Six-thirty \\n \"\n",
    "print(name)\n",
    "print(name.rstrip())\n",
    "print(name.lstrip())\n",
    "print(name.strip())"
   ]
  },
  {
   "cell_type": "code",
   "execution_count": 32,
   "metadata": {},
   "outputs": [
    {
     "data": {
      "text/plain": [
       "8.0"
      ]
     },
     "execution_count": 32,
     "metadata": {},
     "output_type": "execute_result"
    }
   ],
   "source": [
    "# Numbers: Integers and Floats\n",
    "\n",
    "# When dividing two integers, you always get a float back\n",
    "4/2\n",
    "\n",
    "# When mixing integers and floats, you'll always get a float back\n",
    "4 * 2.0"
   ]
  },
  {
   "cell_type": "code",
   "execution_count": 33,
   "metadata": {},
   "outputs": [
    {
     "name": "stdout",
     "output_type": "stream",
     "text": [
      "20000\n"
     ]
    }
   ],
   "source": [
    "# Numbers: using underscores\n",
    "print(20_000) #underscores ignored"
   ]
  },
  {
   "cell_type": "code",
   "execution_count": 34,
   "metadata": {},
   "outputs": [
    {
     "name": "stdout",
     "output_type": "stream",
     "text": [
      "0 1 2\n"
     ]
    }
   ],
   "source": [
    "# Numbers: Multiple Assignment\n",
    "x, y, z = 0, 1, 2 \n",
    "print(x, y, z)"
   ]
  },
  {
   "cell_type": "code",
   "execution_count": null,
   "metadata": {},
   "outputs": [],
   "source": [
    "# Numbers: Constants\n",
    "    # create a constant using all caps\n",
    "WATER_FREEZING_POINT = 0"
   ]
  },
  {
   "cell_type": "code",
   "execution_count": 37,
   "metadata": {},
   "outputs": [
    {
     "name": "stdout",
     "output_type": "stream",
     "text": [
      "8\n",
      "8.0\n",
      "8.0\n",
      "8.0\n",
      "My favourite number is 4!\n"
     ]
    }
   ],
   "source": [
    "# Numbers: Exercises\n",
    "# 2-8. Number Eight: Write addition, subtraction, multiplication, and division\n",
    "# operations that each result in the number 8. Be sure to enclose your operations\n",
    "# in print() calls to see the results.\n",
    "\n",
    "print(4+4)\n",
    "print(88.5-80.5)\n",
    "print(0.8*10)\n",
    "print(125/15.625)\n",
    "\n",
    "# 2-9. Favorite Number: Use a variable to represent your favorite number. Then,\n",
    "# using that variable, create a message that reveals your favorite number. Print\n",
    "# that message\n",
    "\n",
    "fave_num = 4\n",
    "message = f\"My favourite number is {fave_num}!\"\n",
    "\n",
    "print(message)"
   ]
  }
 ],
 "metadata": {
  "kernelspec": {
   "display_name": "Python 3",
   "language": "python",
   "name": "python3"
  },
  "language_info": {
   "codemirror_mode": {
    "name": "ipython",
    "version": 3
   },
   "file_extension": ".py",
   "mimetype": "text/x-python",
   "name": "python",
   "nbconvert_exporter": "python",
   "pygments_lexer": "ipython3",
   "version": "3.9.3"
  },
  "orig_nbformat": 4
 },
 "nbformat": 4,
 "nbformat_minor": 2
}
