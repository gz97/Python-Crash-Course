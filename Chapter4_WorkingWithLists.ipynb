{
 "cells": [
  {
   "cell_type": "code",
   "execution_count": 2,
   "metadata": {},
   "outputs": [
    {
     "name": "stdout",
     "output_type": "stream",
     "text": [
      "Samba\n",
      "Shredder\n",
      "Leon\n",
      "Momo\n",
      "Disco\n",
      "Pixel\n",
      "Have a treat Samba\n",
      "Have another one.\n",
      "\n",
      "Have a treat Shredder\n",
      "Have another one.\n",
      "\n",
      "Have a treat Leon\n",
      "Have another one.\n",
      "\n",
      "Have a treat Momo\n",
      "Have another one.\n",
      "\n",
      "Have a treat Disco\n",
      "Have another one.\n",
      "\n",
      "Have a treat Pixel\n",
      "Have another one.\n",
      "\n",
      "I don't have any more treats.\n"
     ]
    }
   ],
   "source": [
    "# Looping through a list\n",
    "dog_names = [\"Samba\", \"Shredder\", \"Leon\", \"Momo\", \"Disco\", \"Pixel\"]\n",
    "\n",
    "for dog in dog_names:\n",
    "    print(dog)\n",
    "\n",
    "for dog in dog_names:\n",
    "    print(f\"Have a treat {dog}\")\n",
    "    print(\"Have another one.\\n\")\n",
    "print(\"I don't have any more treats.\")"
   ]
  },
  {
   "cell_type": "code",
   "execution_count": 3,
   "metadata": {},
   "outputs": [
    {
     "name": "stdout",
     "output_type": "stream",
     "text": [
      "tuna\n",
      "veggie\n",
      "bruschetta\n",
      "\n",
      "\n",
      "Tuna is one of my favourite pizzas\n",
      "Veggie is one of my favourite pizzas\n",
      "Bruschetta is one of my favourite pizzas\n",
      "\n",
      "\n",
      "I love pizza!\n"
     ]
    }
   ],
   "source": [
    "# Exercises\n",
    "\n",
    "# Pizzas: Think of at least three kinds of your favorite pizza. Store these\n",
    "# pizza names in a list, and then use a for loop to print the name of each pizza.\n",
    "# •\t Modify your for loop to print a sentence using the name of the pizza\n",
    "# instead of printing just the name of the pizza. For each pizza you should\n",
    "# have one line of output containing a simple statement like I like pepperoni\n",
    "# pizza.\n",
    "# •\t Add a line at the end of your program, outside the for loop, that states\n",
    "# how much you like pizza. The output should consist of three or more lines\n",
    "# about the kinds of pizza you like and then an additional sentence, such as\n",
    "# I really love pizza!\n",
    "\n",
    "pizzas = [\"tuna\", \"veggie\", \"bruschetta\"]\n",
    "\n",
    "for pizza in pizzas:\n",
    "    print(pizza)\n",
    "\n",
    "print(\"\\n\")\n",
    "\n",
    "for pizza in pizzas:\n",
    "    print(f\"{pizza.title()} is one of my favourite pizzas\")\n",
    "\n",
    "print(\"\\n\")\n",
    "print(\"I love pizza!\")\n",
    "\n",
    "\n",
    "\n"
   ]
  },
  {
   "cell_type": "code",
   "execution_count": 4,
   "metadata": {},
   "outputs": [
    {
     "name": "stdout",
     "output_type": "stream",
     "text": [
      "humans\n",
      "humans probably wouldn't make a great pet tbh\n",
      "chimpanzees\n",
      "chimpanzees probably wouldn't make a great pet tbh\n",
      "orangutans\n",
      "orangutans probably wouldn't make a great pet tbh\n",
      "Not all animals can make great pets\n"
     ]
    }
   ],
   "source": [
    "# Animals: Think of at least three different animals that have a common characteristic. \n",
    "# Store the names of these animals in a list, and then use a for loop to\n",
    "# print out the name of each animal.\n",
    "# •\t Modify your program to print a statement about each animal, such as\n",
    "# A dog would make a great pet.\n",
    "# •\t Add a line at the end of your program stating what these animals have in\n",
    "# common. You could print a sentence such as Any of these animals would\n",
    "# make a great pet!\n",
    "\n",
    "animals = [\"humans\", \"chimpanzees\", \"orangutans\"]\n",
    "\n",
    "for animal in animals:\n",
    "    print(animal)\n",
    "    print(f\"{animal} probably wouldn't make a great pet tbh\")\n",
    "print(\"Not all animals can make great pets\")"
   ]
  },
  {
   "cell_type": "code",
   "execution_count": 5,
   "metadata": {},
   "outputs": [
    {
     "name": "stdout",
     "output_type": "stream",
     "text": [
      "1\n",
      "2\n",
      "3\n",
      "4\n",
      "1\n",
      "3\n",
      "5\n",
      "7\n",
      "9\n",
      "[1, 4, 9, 16, 25, 36, 49, 64, 81, 100]\n",
      "[1, 4, 9, 16, 25, 36, 49, 64, 81, 100]\n"
     ]
    }
   ],
   "source": [
    "# Numerical lists: Using the range() function\n",
    "for value in range(1,5):\n",
    "    print(value)\n",
    "\n",
    "for value in range(1,10,2):\n",
    "    print(value)\n",
    "\n",
    "squares = []\n",
    "for value in range(1, 11):\n",
    "    square = value ** 2\n",
    "    squares.append(square)\n",
    "\n",
    "print(squares)\n",
    "\n",
    "squares = []\n",
    "for value in range(1, 11):\n",
    "    \n",
    "    squares.append(value ** 2)\n",
    "\n",
    "print(squares)\n",
    "\n"
   ]
  },
  {
   "cell_type": "code",
   "execution_count": 6,
   "metadata": {},
   "outputs": [
    {
     "name": "stdout",
     "output_type": "stream",
     "text": [
      "[1, 4, 9, 16, 25, 36, 49, 64, 81, 100]\n"
     ]
    }
   ],
   "source": [
    "# Simple statistics\n",
    "digits = [1, 2, 3, 4, 5, 6, 7, 8, 9, 0]\n",
    "\n",
    "min(digits)\n",
    "max(digits)\n",
    "sum(digits)\n",
    "\n",
    "# List comprehension\n",
    "squares = [value**2 for value in range(1,11)]\n",
    "print(squares)"
   ]
  },
  {
   "cell_type": "code",
   "execution_count": 7,
   "metadata": {},
   "outputs": [
    {
     "name": "stdout",
     "output_type": "stream",
     "text": [
      "[1, 2, 3, 4, 5, 6, 7, 8, 9, 10, 11, 12, 13, 14, 15, 16, 17, 18, 19, 20]\n",
      "[1, 2, 3, 4, 5, 6, 7, 8, 9, 10, 11, 12, 13, 14, 15, 16, 17, 18, 19, 20]\n",
      "1\n",
      "1000000\n",
      "500000500000\n"
     ]
    }
   ],
   "source": [
    "# Exercises\n",
    "\n",
    "#Counting to Twenty: Use a for loop to print the numbers from 1 to 20,inclusive.\n",
    "nums = []\n",
    "for value in range(1, 21):\n",
    "    nums.append(value)\n",
    "print(nums)\n",
    "\n",
    "nums2 = [value for value in range(1, 21)]\n",
    "print(nums2)\n",
    "\n",
    "# One Million: Make a list of the numbers from one to one million, and then\n",
    "# use a for loop to print the numbers. (If the output is taking too long, stop it by\n",
    "# pressing ctrl-C or by closing the output window.)\n",
    "million_numbers = [value for value in range(1, 1000001)]\n",
    "#print(million_numbers)\n",
    "\n",
    "# Summing a Million: Make a list of the numbers from one to one million,\n",
    "# and then use min() and max() to make sure your list actually starts at one and\n",
    "# ends at one million. Also, use the sum() function to see how quickly Python can\n",
    "# add a million numbers.\n",
    "\n",
    "print(min(million_numbers))\n",
    "print(max(million_numbers))\n",
    "print(sum(million_numbers))"
   ]
  },
  {
   "cell_type": "code",
   "execution_count": 8,
   "metadata": {},
   "outputs": [
    {
     "name": "stdout",
     "output_type": "stream",
     "text": [
      "[1, 3, 5, 7, 9, 11, 13, 15, 17, 19]\n",
      "[1, 3, 5, 7, 9, 11, 13, 15, 17, 19]\n",
      "[3, 6, 9, 12, 15, 18, 21, 24, 27, 30]\n",
      "3\n",
      "6\n",
      "9\n",
      "12\n",
      "15\n",
      "18\n",
      "21\n",
      "24\n",
      "27\n",
      "30\n",
      "1\n",
      "8\n",
      "27\n",
      "64\n",
      "125\n",
      "216\n",
      "343\n",
      "512\n",
      "729\n",
      "1000\n"
     ]
    }
   ],
   "source": [
    "# Exercises\n",
    "# Odd Numbers: Use the third argument of the range() function to make a\n",
    "# list of the odd numbers from 1 to 20. Use a for loop to print each number.\n",
    "\n",
    "odd_nums = []\n",
    "for value in range(1, 21, 2):\n",
    "    odd_nums.append(value)\n",
    "print(odd_nums)\n",
    "\n",
    "odd_nums2 = [value for value in range(1, 20, 2)]\n",
    "print(odd_nums2)\n",
    "\n",
    "# Threes: Make a list of the multiples of 3 from 3 to 30. Use a for loop to\n",
    "# print the numbers in your list.\n",
    "mutliple_of_3 = []\n",
    "for value in range(3, 31, 3):\n",
    "    mutliple_of_3.append(value)\n",
    "print(mutliple_of_3)\n",
    "\n",
    "multiples = list(range(3,31,3))\n",
    "\n",
    "for num in multiples:\n",
    "    print(num)\n",
    "\n",
    "\n",
    "\n",
    "# Cubes: A number raised to the third power is called a cube. For example,\n",
    "# the cube of 2 is written as 2**3 in Python. Make a list of the first 10 cubes (that\n",
    "# is, the cube of each integer from 1 through 10), and use a for loop to print out\n",
    "# the value of each cube.\n",
    "\n",
    "cubes = [value ** 3 for value in range(1, 11)]\n",
    "for num in cubes:\n",
    "    print(num)"
   ]
  },
  {
   "cell_type": "code",
   "execution_count": 9,
   "metadata": {},
   "outputs": [
    {
     "name": "stdout",
     "output_type": "stream",
     "text": [
      "['Samba', 'Shredder', 'Leon']\n",
      "['Shredder', 'Leon']\n",
      "['Samba', 'Shredder', 'Leon', 'Momo']\n",
      "['Leon', 'Momo', 'Disco', 'Pixel']\n",
      "['Momo', 'Disco', 'Pixel']\n",
      "Here are my two favourite dog names:\n",
      "Disco\n",
      "Pixel\n",
      "Cities I lived in:\n",
      "['Lincoln', 'Manchester', 'Sheffield']\n",
      "Cities James lived in:\n",
      "['Lincoln', 'Manchester', 'Sheffield']\n",
      "['Lincoln', 'Manchester', 'Sheffield', 'Peterborough']\n",
      "['Lincoln', 'Manchester', 'Sheffield', 'Amsterdam']\n"
     ]
    }
   ],
   "source": [
    "# Working with part of a list\n",
    "dog_names = [\"Samba\", \"Shredder\", \"Leon\", \"Momo\", \"Disco\", \"Pixel\"]\n",
    "\n",
    "print(dog_names[0:3]) # prints 0, 1, 2\n",
    "\n",
    "\n",
    "print(dog_names[1:3]) # prints 1 and 2\n",
    "\n",
    "print(dog_names[:4]) # prints 0, 1, 2, 3\n",
    "\n",
    "print(dog_names[2:]) # prints 2, 3, 4, 5\n",
    "\n",
    "print(dog_names[-3:]) # prints last 3\n",
    "\n",
    "# Looping through a slice\n",
    "print(\"Here are my two favourite dog names:\")\n",
    "for dog in dog_names[-2:]:\n",
    "    print(dog)\n",
    "\n",
    "# Copying a list\n",
    "my_cities = [\"Lincoln\", \"Manchester\", \"Sheffield\"]\n",
    "James_cities = my_cities[:] # copy my list from beginning to end, \n",
    "# without a slice new list would point to old list and updates would affect both\n",
    "\n",
    "print(\"Cities I lived in:\")\n",
    "print(my_cities)\n",
    "\n",
    "print(\"Cities James lived in:\")\n",
    "print(James_cities)\n",
    "\n",
    "my_cities.append(\"Peterborough\")\n",
    "James_cities.append(\"Amsterdam\")\n",
    "\n",
    "print(my_cities)\n",
    "print(James_cities)\n"
   ]
  },
  {
   "cell_type": "code",
   "execution_count": 21,
   "metadata": {},
   "outputs": [
    {
     "name": "stdout",
     "output_type": "stream",
     "text": [
      "The first three odd numbers in the list are:\n",
      "[1, 3, 5]\n",
      "The middle numbers in the list are:\n",
      "[1, 3, 5, 7, 9, 11, 13, 15, 17, 19]\n",
      "[9, 11]\n",
      "The last three numbers in the list are:\n",
      "[15, 17, 19]\n"
     ]
    }
   ],
   "source": [
    "# Slices: Exercises\n",
    "\n",
    "# Slices: Using one of the programs you wrote in this chapter, add several\n",
    "# lines to the end of the program that do the following:\n",
    "# •\t Print the message The first three items in the list are:. Then use a slice to\n",
    "# print the first three items from that program’s list.\n",
    "# •\t Print the message Three items from the middle of the list are:. Use a slice to\n",
    "# print three items from the middle of the list.\n",
    "# •\t Print the message The last three items in the list are:. Use a slice to print the\n",
    "# last three items in the list.\n",
    "\n",
    "print(\"The first three odd numbers in the list are:\")\n",
    "print(odd_nums[:3])\n",
    "\n",
    "print(\"The middle numbers in the list are:\")\n",
    "(len(odd_nums)//2)-1 # get the middle\n",
    "print(odd_nums) # check the len of the whole set\n",
    "print(odd_nums[((len(odd_nums)//2)-1):((len(odd_nums)//2)+1)]) # even num in the set: returns 2 numbers\n",
    "\n",
    "print(\"The last three numbers in the list are:\")\n",
    "print(odd_nums[-3:])"
   ]
  },
  {
   "cell_type": "code",
   "execution_count": 23,
   "metadata": {},
   "outputs": [
    {
     "name": "stdout",
     "output_type": "stream",
     "text": [
      "My favourite pizzas are:\n",
      "tuna\n",
      "veggie\n",
      "bruschetta\n",
      "margherita\n",
      "My friend's favourite pizzas are:\n",
      "tuna\n",
      "veggie\n",
      "bruschetta\n",
      "meat tornado\n"
     ]
    }
   ],
   "source": [
    "# Slices: Exercises\n",
    "# My Pizzas, Your Pizzas: Start with your program from Exercise 4-1\n",
    "# (page 56). Make a copy of the list of pizzas, and call it friend_pizzas.\n",
    "# Then, do the following:\n",
    "# •\t Add a new pizza to the original list.\n",
    "# •\t Add a different pizza to the list friend_pizzas.\n",
    "# •\t Prove that you have two separate lists. Print the message My favorite\n",
    "# pizzas are:, and then use a for loop to print the first list. Print the message\n",
    "# My friend’s favorite pizzas are:, and then use a for loop to print the second list. \n",
    "# Make sure each new pizza is stored in the appropriate list.\n",
    "\n",
    "pizzas = [\"tuna\", \"veggie\", \"bruschetta\"]\n",
    "friend_pizzas = pizzas[:]\n",
    "\n",
    "pizzas.append(\"margherita\")\n",
    "friend_pizzas.append(\"meat tornado\")\n",
    "\n",
    "print(\"My favourite pizzas are:\")\n",
    "for pizza in pizzas:\n",
    "    print(pizza)\n",
    "\n",
    "print(\"My friend's favourite pizzas are:\")\n",
    "for friend_pizza in friend_pizzas:\n",
    "    print(friend_pizza)"
   ]
  },
  {
   "cell_type": "code",
   "execution_count": 24,
   "metadata": {},
   "outputs": [
    {
     "name": "stdout",
     "output_type": "stream",
     "text": [
      "Lincoln\n",
      "Manchester\n",
      "Sheffield\n",
      "Peterborough\n",
      "Lincoln\n",
      "Manchester\n",
      "Sheffield\n",
      "Amsterdam\n"
     ]
    }
   ],
   "source": [
    "# Lists: Exercises\n",
    "# More Loops: All versions of foods.py in this section have avoided using\n",
    "# for loops when printing to save space. Choose a version of foods.py, and\n",
    "# write two for loops to print each list of foods\n",
    "\n",
    "for city in my_cities:\n",
    "    print(city)\n",
    "\n",
    "for city in James_cities:\n",
    "    print(city)"
   ]
  },
  {
   "cell_type": "code",
   "execution_count": 28,
   "metadata": {},
   "outputs": [
    {
     "name": "stdout",
     "output_type": "stream",
     "text": [
      "200\n",
      "50\n",
      "(3,)\n",
      "200\n",
      "50\n",
      "400\n",
      "50\n"
     ]
    }
   ],
   "source": [
    "# Tuples\n",
    "    # immutable list, can't change values\n",
    "\n",
    "dimensions = (200, 50)\n",
    "print(dimensions[0])\n",
    "print(dimensions[1])\n",
    "\n",
    "my_t = (3,) # making a one-element tuple, comma is necessary!\n",
    "print(my_t)\n",
    "\n",
    "for dimension in dimensions:\n",
    "    print(dimension)\n",
    "\n",
    "dimensions = (400, 50) # can't change one value, but you can override the entire tuple\n",
    "for dimension in dimensions:\n",
    "    print(dimension)"
   ]
  },
  {
   "cell_type": "code",
   "execution_count": 32,
   "metadata": {},
   "outputs": [
    {
     "name": "stdout",
     "output_type": "stream",
     "text": [
      "pierogi\n",
      "zapiekanki\n",
      "placki ziemniaczane\n",
      "frytki\n",
      "gofry\n",
      "pierogi\n",
      "zapiekanki\n",
      "placki ziemniaczane\n",
      "zupa pomidorowa\n",
      "lody\n"
     ]
    }
   ],
   "source": [
    "# Tuples: Exercises\n",
    "# Buffet: A buffet-style restaurant offers only five basic foods. Think of five\n",
    "# simple foods, and store them in a tuple.\n",
    "# •\t Use a for loop to print each food the restaurant offers.\n",
    "# •\t Try to modify one of the items, and make sure that Python rejects the\n",
    "# change.\n",
    "# •\t The restaurant changes its menu, replacing two of the items with different\n",
    "# foods. Add a line that rewrites the tuple, and then use a for loop to print\n",
    "# each of the items on the revised menu\n",
    "\n",
    "polish_foods = (\"pierogi\", \"zapiekanki\", \"placki ziemniaczane\", \"frytki\", \"gofry\")\n",
    "\n",
    "for food in polish_foods:\n",
    "    print(food)\n",
    "\n",
    "#polish_foods[0] = \"pizza\"\n",
    "\n",
    "polish_foods = (\"pierogi\", \"zapiekanki\", \"placki ziemniaczane\", \"zupa pomidorowa\", \"lody\")\n",
    "\n",
    "for food in polish_foods:\n",
    "    print(food)"
   ]
  }
 ],
 "metadata": {
  "kernelspec": {
   "display_name": "Python 3",
   "language": "python",
   "name": "python3"
  },
  "language_info": {
   "codemirror_mode": {
    "name": "ipython",
    "version": 3
   },
   "file_extension": ".py",
   "mimetype": "text/x-python",
   "name": "python",
   "nbconvert_exporter": "python",
   "pygments_lexer": "ipython3",
   "version": "3.9.3"
  }
 },
 "nbformat": 4,
 "nbformat_minor": 2
}
