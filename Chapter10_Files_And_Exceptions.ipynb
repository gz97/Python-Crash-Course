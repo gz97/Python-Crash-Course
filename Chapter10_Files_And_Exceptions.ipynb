{
 "cells": [
  {
   "cell_type": "code",
   "execution_count": null,
   "id": "33aff5a1",
   "metadata": {},
   "outputs": [],
   "source": [
    "# Running from a file\n",
    "with open('pi_digits.txt') as file_object:\n",
    "    contents = file_object.read()\n",
    "print(contents) # has an empty string at the end due to the open function adding it\n",
    "print(contents.rstrip()) #remove the empty string"
   ]
  },
  {
   "cell_type": "code",
   "execution_count": 10,
   "id": "6134598d",
   "metadata": {},
   "outputs": [
    {
     "name": "stdout",
     "output_type": "stream",
     "text": [
      "3.1415926535\n",
      "  8979323846\n",
      "  2643383279\n",
      "\n",
      "3.1415926535\n",
      "  8979323846\n",
      "  2643383279\n",
      "\n"
     ]
    }
   ],
   "source": [
    "# File paths - useful for when the file you're reading is in a different folder than the file you're running\n",
    "    # relative file path - if you give a path relative to when your currently running program is\n",
    "with open('text_files\\\\pi_digits.txt') as file_object: # text_files is in the same place as this script\n",
    "    contents = file_object.read()\n",
    "print(contents) \n",
    "\n",
    "    # absolute - if you give a full and absolute path \n",
    "\n",
    "file_path = r'C:\\\\Users\\\\gosia\\\\Documents\\\\GitHub\\\\Python-Crash-Course\\\\text_files\\\\pi_digits.txt'\n",
    "with open(file_path) as file_object: # text_files is in the same place as this script\n",
    "    contents_absolute = file_object.read()\n",
    "print(contents_absolute) "
   ]
  },
  {
   "cell_type": "code",
   "execution_count": null,
   "id": "29480fd4",
   "metadata": {},
   "outputs": [
    {
     "name": "stdout",
     "output_type": "stream",
     "text": [
      "3.1415926535\n",
      "  8979323846\n",
      "  2643383279\n"
     ]
    }
   ],
   "source": [
    "# read the contents line by line\n",
    "file_path = r'C:\\\\Users\\\\gosia\\\\Documents\\\\GitHub\\\\Python-Crash-Course\\\\text_files\\\\pi_digits.txt'\n",
    "with open(file_path) as file_object: \n",
    "    for line in file_object:\n",
    "        print(line) # print(line.rstrip()) to match the contents of the file earlier        "
   ]
  },
  {
   "cell_type": "code",
   "execution_count": null,
   "id": "9d61fc12",
   "metadata": {},
   "outputs": [
    {
     "name": "stdout",
     "output_type": "stream",
     "text": [
      "3.1415926535\n",
      "\n",
      "  8979323846\n",
      "\n",
      "  2643383279\n",
      "\n"
     ]
    }
   ],
   "source": [
    "# making a list of lines in a file\n",
    "file_path = r'C:\\\\Users\\\\gosia\\\\Documents\\\\GitHub\\\\Python-Crash-Course\\\\text_files\\\\pi_digits.txt'\n",
    "with open(file_path) as file_object: \n",
    "    lines = file_object.readlines()\n",
    "\n",
    "# move the for loop outside the with statement\n",
    "for line in lines:\n",
    "    print(line)"
   ]
  },
  {
   "cell_type": "code",
   "execution_count": null,
   "id": "9d5f871b",
   "metadata": {},
   "outputs": [
    {
     "name": "stdout",
     "output_type": "stream",
     "text": [
      "3.1415926535  8979323846  2643383279\n",
      "36\n"
     ]
    }
   ],
   "source": [
    "# working with a file's contents\n",
    "file_path = r'C:\\\\Users\\\\gosia\\\\Documents\\\\GitHub\\\\Python-Crash-Course\\\\text_files\\\\pi_digits.txt'\n",
    "with open(file_path) as file_object: \n",
    "    lines = file_object.readlines()\n",
    "\n",
    "pi_string = ''\n",
    "\n",
    "for line in lines:\n",
    "    pi_string += line.rstrip()\n",
    "\n",
    "print(pi_string)\n",
    "print(len(pi_string)) # we have 3 numbers, but 36 chars, as they're interpreted as strings"
   ]
  },
  {
   "cell_type": "code",
   "execution_count": 3,
   "id": "aa337539",
   "metadata": {},
   "outputs": [
    {
     "name": "stdout",
     "output_type": "stream",
     "text": [
      "3.14159265358979323846264338327950288419716939937510...\n"
     ]
    }
   ],
   "source": [
    "# large files: one million digits\n",
    "\n",
    "filename = 'pi_million_digits.txt'\n",
    "\n",
    "with open(filename) as file_object:\n",
    "    lines = file_object.readlines()\n",
    "\n",
    "pi_string = '' \n",
    "\n",
    "for line in lines:\n",
    "    pi_string += line\n",
    "\n",
    "print(f\"{pi_string[:52]}...\")"
   ]
  },
  {
   "cell_type": "code",
   "execution_count": 7,
   "id": "04657a00",
   "metadata": {},
   "outputs": [
    {
     "name": "stdout",
     "output_type": "stream",
     "text": [
      "Your birthday is in pi\n"
     ]
    }
   ],
   "source": [
    "filename = 'pi_million_digits.txt'\n",
    "\n",
    "with open(filename) as file_object:\n",
    "    lines = file_object.readlines()\n",
    "\n",
    "pi_string = '' \n",
    "\n",
    "for line in lines:\n",
    "    pi_string += line\n",
    "\n",
    "birthday = input(\"Enter your birthday here as ddmmyy:\")\n",
    "\n",
    "if birthday in pi_string:\n",
    "    print(\"Your birthday is in pi\")\n",
    "else:\n",
    "    print(\"Sozz\")\n"
   ]
  },
  {
   "cell_type": "code",
   "execution_count": 13,
   "id": "beadd37a",
   "metadata": {},
   "outputs": [
    {
     "name": "stdout",
     "output_type": "stream",
     "text": [
      "In Python you can make classes\n",
      "In Python you can create lists and dictionaries\n",
      "In Python you can make for and while loops\n",
      "In Python you can make classes\n",
      "In Python you can create lists and dictionaries\n",
      "In Python you can make for and while loops\n",
      "In Python you can make classes\n",
      "In Python you can create lists and dictionaries\n",
      "In Python you can make for and while loops\n"
     ]
    }
   ],
   "source": [
    "# 10-1. Learning Python: Open a blank file in your text editor and write a few\n",
    "# lines summarizing what you’ve learned about Python so far. Start each line\n",
    "# with the phrase In Python you can. . . . Save the file as learning_python.txt in\n",
    "# the same directory as your exercises from this chapter. Write a program that\n",
    "# reads the file and prints what you wrote three times. Print the contents once by\n",
    "# reading in the entire file, once by looping over the file object, and once by \n",
    "# storing the lines in a list and then working with them outside the with block.\n",
    "\n",
    "with open('chapter_10_exercise_10_1.txt') as file_object:\n",
    "    contents_1 = file_object.read()\n",
    "print(contents_1)\n",
    "\n",
    "file_path = r'C:\\\\Users\\\\gosia\\\\Documents\\\\GitHub\\\\Python-Crash-Course\\\\chapter_10_exercise_10_1.txt'\n",
    "with open(file_path) as file_object_2: \n",
    "    for line in file_object_2:\n",
    "        print(line.rstrip())\n",
    "\n",
    "\n",
    "with open(file_path) as file_object_3:\n",
    "    contents_3 = file_object_3.readlines()\n",
    "\n",
    "for line in contents_3:\n",
    "    print(line.rstrip())"
   ]
  },
  {
   "cell_type": "code",
   "execution_count": 15,
   "id": "f0392aff",
   "metadata": {},
   "outputs": [
    {
     "name": "stdout",
     "output_type": "stream",
     "text": [
      "In SQL you can make classes\n",
      "In SQL you can create lists and dictionaries\n",
      "In SQL you can make for and while loops\n"
     ]
    }
   ],
   "source": [
    "# 10-2. Learning C: You can use the replace() method to replace any word in a\n",
    "# string with a different word. Here’s a quick example showing how to replace\n",
    "# 'dog' with 'cat' in a sentence:\n",
    "\n",
    "# >>> message = \"I really like dogs.\"\n",
    "# >>> message.replace('dog', 'cat')\n",
    "# 'I really like cats.'\n",
    "\n",
    "# Read in each line from the file you just created, learning_python.txt, and\n",
    "# replace the word Python with the name of another language, such as C. Print\n",
    "# each modified line to the screen.\n",
    "\n",
    "file_path = r'C:\\\\Users\\\\gosia\\\\Documents\\\\GitHub\\\\Python-Crash-Course\\\\chapter_10_exercise_10_1.txt'\n",
    "with open(file_path) as file_object_2: \n",
    "    for line in file_object_2:\n",
    "        print(line.rstrip().replace('Python', 'SQL'))"
   ]
  }
 ],
 "metadata": {
  "kernelspec": {
   "display_name": "Python 3",
   "language": "python",
   "name": "python3"
  },
  "language_info": {
   "codemirror_mode": {
    "name": "ipython",
    "version": 3
   },
   "file_extension": ".py",
   "mimetype": "text/x-python",
   "name": "python",
   "nbconvert_exporter": "python",
   "pygments_lexer": "ipython3",
   "version": "3.13.5"
  }
 },
 "nbformat": 4,
 "nbformat_minor": 5
}
