{
 "cells": [
  {
   "cell_type": "code",
   "execution_count": null,
   "id": "a49641b1",
   "metadata": {},
   "outputs": [
    {
     "name": "stdout",
     "output_type": "stream",
     "text": [
      "w\n"
     ]
    }
   ],
   "source": [
    "# input() pauses the program and waits for user input\n",
    "# takes the argument as string and returns a string\n",
    "\n",
    "message = input(\"Say something and I'll repeat it: \")\n",
    "print(message)\n"
   ]
  },
  {
   "cell_type": "code",
   "execution_count": 4,
   "id": "bc4d833d",
   "metadata": {},
   "outputs": [
    {
     "name": "stdout",
     "output_type": "stream",
     "text": [
      "Hello, g\n"
     ]
    }
   ],
   "source": [
    "# using a prompt over several lines\n",
    "prompt = \"This is line 1\"\n",
    "prompt+= \"Now say your name for line 2: \"\n",
    "\n",
    "name = input(prompt)\n",
    "print(f\"Hello, {name}\")"
   ]
  },
  {
   "cell_type": "code",
   "execution_count": 5,
   "id": "30def336",
   "metadata": {},
   "outputs": [
    {
     "data": {
      "text/plain": [
       "False"
      ]
     },
     "execution_count": 5,
     "metadata": {},
     "output_type": "execute_result"
    }
   ],
   "source": [
    "# Using int() to accept a numerical input\n",
    "age = input(\"How old are you? \")\n",
    "age = int(age)\n",
    "\n",
    "age >= 18"
   ]
  },
  {
   "cell_type": "code",
   "execution_count": null,
   "id": "b275fb9b",
   "metadata": {},
   "outputs": [
    {
     "name": "stdout",
     "output_type": "stream",
     "text": [
      "Thanks for coming\n"
     ]
    }
   ],
   "source": [
    "# Interpreting the prompt input\n",
    "dog_count = input(\"How many dogs did you bring? \") \n",
    "dog_count = int(dog_count)\n",
    "\n",
    "if dog_count <= 1:\n",
    "    print(\"Thanks for coming!\")\n",
    "else:\n",
    "    print(\"The more the merrier!\")"
   ]
  },
  {
   "cell_type": "code",
   "execution_count": 10,
   "id": "094c9417",
   "metadata": {},
   "outputs": [
    {
     "name": "stdout",
     "output_type": "stream",
     "text": [
      "4 is even.\n"
     ]
    }
   ],
   "source": [
    "# the modulo operator (%)\n",
    "number = input(\"Enter a number and I'll tell you if it's even or odd: \")\n",
    "number = int(number)\n",
    "\n",
    "if number % 2 == 0:\n",
    "    print(f\"{number} is even.\")\n",
    "else:\n",
    "    print(f\"{number} is odd.\")"
   ]
  },
  {
   "cell_type": "code",
   "execution_count": 14,
   "id": "56dda642",
   "metadata": {},
   "outputs": [
    {
     "name": "stdout",
     "output_type": "stream",
     "text": [
      "Let me see if I can find you a Opel.\n"
     ]
    }
   ],
   "source": [
    "# EXECISES\n",
    "# 7-1. Rental Car: Write a program that asks the user what kind of rental car they \n",
    "# would like. Print a message about that car, such as “Let me see if I can find you \n",
    "# a Subaru.”\n",
    "\n",
    "car = input(\"What car would you like? \").capitalize()\n",
    "\n",
    "print(f\"Let me see if I can find you a {car}.\")"
   ]
  },
  {
   "cell_type": "code",
   "execution_count": 16,
   "id": "13a1d3d2",
   "metadata": {},
   "outputs": [
    {
     "name": "stdout",
     "output_type": "stream",
     "text": [
      "Please, wait for your table.\n"
     ]
    }
   ],
   "source": [
    "# 7-2. Restaurant Seating: Write a program that asks the user how many people \n",
    "# are in their dinner group. If the answer is more than eight, print a message \n",
    "# saying they’ll have to wait for a table. Otherwise, report that their table is ready\n",
    "\n",
    "party_size = int(input(\"How many people in your party? \")) \n",
    "\n",
    "if party_size > 8:\n",
    "    print(\"Please, wait for your table.\")\n",
    "else:\n",
    "    print(\"Your table is ready.\")\n"
   ]
  },
  {
   "cell_type": "code",
   "execution_count": 18,
   "id": "abcaa8c3",
   "metadata": {},
   "outputs": [
    {
     "name": "stdout",
     "output_type": "stream",
     "text": [
      "Your number (30) is divisible by 10.\n"
     ]
    }
   ],
   "source": [
    "# 7-3. Multiples of Ten: Ask the user for a number, and then report whether the \n",
    "# number is a multiple of 10 or not\n",
    "\n",
    "user_num = int(input(\"Give me a number and I'll tell you if it's a multiple of 10\"))\n",
    "\n",
    "if user_num % 10 == 0:\n",
    "    print(f\"Your number ({user_num}) is divisible by 10.\")\n",
    "else:\n",
    "    print(f\"Your number ({user_num}) is not divisible by 10.\")"
   ]
  },
  {
   "cell_type": "code",
   "execution_count": 1,
   "id": "b5da991e",
   "metadata": {},
   "outputs": [
    {
     "name": "stdout",
     "output_type": "stream",
     "text": [
      "1\n",
      "2\n",
      "3\n",
      "4\n",
      "5\n"
     ]
    }
   ],
   "source": [
    "# Introducing while loops\n",
    "    #while loops run as long as, or while a certain condition is true\n",
    "\n",
    "# The while Loop in Action \n",
    "\n",
    "current_num = 1\n",
    "\n",
    "while current_num <= 5:\n",
    "    print(current_num)\n",
    "    current_num += 1"
   ]
  },
  {
   "cell_type": "code",
   "execution_count": 1,
   "id": "2c4787ce",
   "metadata": {},
   "outputs": [
    {
     "name": "stdout",
     "output_type": "stream",
     "text": [
      "\n",
      "q\n",
      "w\n",
      "e\n",
      "r\n",
      "\n",
      "\n",
      "quit\n"
     ]
    }
   ],
   "source": [
    "prompt = \"\\nTell me something, and I will repeat it back to you:\"\n",
    "prompt += \"\\nEnter 'quit' to end the program. \"\n",
    "\n",
    "message = \"\" \n",
    "while message != 'quit':\n",
    "    message = input(prompt)\n",
    "    print(message) # downside is that this prints the 'quit' message at the end"
   ]
  },
  {
   "cell_type": "code",
   "execution_count": null,
   "id": "94783f92",
   "metadata": {},
   "outputs": [
    {
     "name": "stdout",
     "output_type": "stream",
     "text": [
      "f\n",
      "f\n"
     ]
    }
   ],
   "source": [
    "prompt = \"\\nTell me something, and I will repeat it back to you:\"\n",
    "prompt += \"\\nEnter 'quit' to end the program. \"\n",
    "\n",
    "message = \"\" \n",
    "while message != 'quit':\n",
    "    message = input(prompt)\n",
    "    \n",
    "    if message != 'quit':\n",
    "        print(message) # this doesn't print the 'quit' message at the end"
   ]
  },
  {
   "cell_type": "code",
   "execution_count": 5,
   "id": "bd5a8740",
   "metadata": {},
   "outputs": [
    {
     "name": "stdout",
     "output_type": "stream",
     "text": [
      "w\n",
      "f\n",
      "d\n",
      "\n",
      "uit\n"
     ]
    }
   ],
   "source": [
    "# using a flag\n",
    "prompt = \"\\nTell me something, and I will repeat it back to you:\"\n",
    "prompt += \"\\nEnter 'quit' to end the program. \"\n",
    "\n",
    "active = True\n",
    "while active:\n",
    "    message = input(prompt)\n",
    "\n",
    "    if message == 'quit':\n",
    "        active = False\n",
    "    else:\n",
    "        print(message)"
   ]
  },
  {
   "cell_type": "code",
   "execution_count": null,
   "id": "25c13433",
   "metadata": {},
   "outputs": [
    {
     "name": "stdout",
     "output_type": "stream",
     "text": [
      "Hoozah F!\n",
      "Hoozah F!\n",
      "Hoozah F!\n"
     ]
    }
   ],
   "source": [
    "# using break to exit a loop\n",
    "prompt = \"\\nPlease enter the name of a city you have visited:\"\n",
    "prompt += \"\\n(Enter 'quit' when you are finished.) \"\n",
    "\n",
    "while True:\n",
    "    city = input(prompt)\n",
    "\n",
    "    if city == 'quit':\n",
    "        break \n",
    "    else:\n",
    "        print(f'Hoozah, {city.title()}!')"
   ]
  },
  {
   "cell_type": "code",
   "execution_count": 8,
   "id": "f19df53d",
   "metadata": {},
   "outputs": [
    {
     "name": "stdout",
     "output_type": "stream",
     "text": [
      "1\n",
      "3\n",
      "5\n",
      "7\n",
      "9\n"
     ]
    }
   ],
   "source": [
    "# using continue in a loop\n",
    "    # instead of breaking the loop, use continue to return to the beginning of the loop on the result of a conditional test\n",
    "\n",
    "current_num = 0 \n",
    "while current_num < 10:\n",
    "    current_num += 1 \n",
    "    if current_num % 2 == 0:\n",
    "        continue \n",
    "\n",
    "    print(current_num)"
   ]
  },
  {
   "cell_type": "code",
   "execution_count": 5,
   "id": "f5db18c0",
   "metadata": {},
   "outputs": [
    {
     "name": "stdout",
     "output_type": "stream",
     "text": [
      "\n",
      "- onion\n",
      "\n",
      "- mushroom\n",
      "\n",
      "- pepper\n",
      "\n",
      "- tomato\n",
      "\n",
      "- tuna\n"
     ]
    }
   ],
   "source": [
    "# EXERCISES\n",
    "\n",
    "# 7-4. Pizza Toppings: Write a loop that prompts the user to enter a series of\n",
    "# pizza toppings until they enter a 'quit' value. As they enter each topping,\n",
    "# print a message saying you’ll add that topping to their pizza.\n",
    "\n",
    "\n",
    "toppings = []\n",
    "active = True\n",
    "\n",
    "while active:\n",
    "    topping = input(\"What topping would you like? Enter it below. Enter 'quit' when you list all of your toppings.\")\n",
    "    \n",
    "    if topping == 'quit':\n",
    "        active = False\n",
    "    \n",
    "    else:\n",
    "        toppings.append(topping)\n",
    "\n",
    "for topping in toppings:\n",
    "    print(f\"\\n- {topping}\")\n",
    "    "
   ]
  },
  {
   "cell_type": "code",
   "execution_count": null,
   "id": "ec4b8ebf",
   "metadata": {},
   "outputs": [],
   "source": [
    "# 7-5. Movie Tickets: A movie theater charges different ticket prices depending on\n",
    "# a person’s age. If a person is under the age of 3, the ticket is free; if they are\n",
    "# between 3 and 12, the ticket is $10; and if they are over age 12, the ticket is\n",
    "# $15. Write a loop in which you ask users their age, and then tell them the cost\n",
    "# of their movie ticket.\n",
    "\n",
    "prompt = \"How old are you? \"\n",
    "prompt += \"Your tickets cost: \"\n",
    "\n",
    "while True:\n",
    "    age = int(input(prompt))\n",
    "\n",
    "    if age == 'quit':\n",
    "        break \n",
    "\n",
    "    if age < 3:\n",
    "        print(\"Free\") \n",
    "    elif age <= 12:\n",
    "        print(\"10 dollarz\")\n",
    "    else:\n",
    "        print(\"15 dollarz\")\n",
    "\n"
   ]
  },
  {
   "cell_type": "code",
   "execution_count": 8,
   "id": "abad969a",
   "metadata": {},
   "outputs": [
    {
     "name": "stdout",
     "output_type": "stream",
     "text": [
      "Verifying user: Candace\n",
      "Verifying user: Brian\n",
      "Verifying user: Alice\n",
      "\n",
      "The following users have been confirmed:\n",
      "Candace\n",
      "Brian\n",
      "Alice\n"
     ]
    }
   ],
   "source": [
    "# using a while loop with lists and dictionaries\n",
    "    # moving items from one list to another\n",
    "\n",
    "\n",
    "# Start with users that need to be verified, and an empty list to hold confirmed users.\n",
    "unconfirmed_users = ['alice', 'brian', 'candace']\n",
    "confirmed_users = []\n",
    "\n",
    "# Verify each user until there are no more unconfirmed users.\n",
    "# Move each verified user into the list of confirmed users.\n",
    "while unconfirmed_users:\n",
    "    current_user = unconfirmed_users.pop()\n",
    "\n",
    "    print(f\"Verifying user: {current_user.title()}\")\n",
    "    confirmed_users.append(current_user)\n",
    "\n",
    "# Display all confirmed users.\n",
    "print(\"\\nThe following users have been confirmed:\")\n",
    "for confirmed_user in confirmed_users:\n",
    "    print(confirmed_user.title())"
   ]
  },
  {
   "cell_type": "code",
   "execution_count": 9,
   "id": "c82de934",
   "metadata": {},
   "outputs": [
    {
     "name": "stdout",
     "output_type": "stream",
     "text": [
      "['dog', 'dog', 'goldfish', 'rabbit']\n"
     ]
    }
   ],
   "source": [
    "# removing all instances of specific value in a list\n",
    "pets = ['dog', 'cat', 'dog', 'goldfish', 'cat', 'rabbit', 'cat']\n",
    "\n",
    "while 'cat' in pets:\n",
    "    pets.remove('cat')\n",
    "\n",
    "print(pets)"
   ]
  },
  {
   "cell_type": "code",
   "execution_count": 10,
   "id": "d2e11f3b",
   "metadata": {},
   "outputs": [
    {
     "name": "stdout",
     "output_type": "stream",
     "text": [
      "Gosia has a dog Mariola\n",
      "Emma has a dog Arlo\n"
     ]
    }
   ],
   "source": [
    "# filling a dictionary with user input\n",
    "\n",
    "responses = {}\n",
    "polling_active = True\n",
    "\n",
    "while polling_active:\n",
    "    name = input(\"Your name? \")\n",
    "    response = input(\"What's your dog's name? \")\n",
    "\n",
    "    responses[name] = response \n",
    "\n",
    "    repeat = input(\"Would you like another person respond? (yes/no)\")\n",
    "    if repeat == 'no':\n",
    "        polling_active = False \n",
    "\n",
    "# show the results\n",
    "for name, response in responses.items():\n",
    "    print(f\"{name.title()} has a dog {response.title()}\")"
   ]
  },
  {
   "cell_type": "code",
   "execution_count": null,
   "id": "39d5cfc7",
   "metadata": {},
   "outputs": [
    {
     "name": "stdout",
     "output_type": "stream",
     "text": [
      "Your order of a cheese and tomato sandwich is being prepared\n",
      "Your order of a egg and cress sandwich is being prepared\n",
      "Your order of a blt sandwich is being prepared\n",
      "Your order of a tuna sandwich is being prepared\n",
      "All sammies made:\n",
      "\n",
      "- cheese and tomato\n",
      "\n",
      "- egg and cress\n",
      "\n",
      "- blt\n",
      "\n",
      "- tuna\n"
     ]
    }
   ],
   "source": [
    "# EXERCISES:\n",
    "# 7-8. Deli: Make a list called sandwich_orders and fill it with the names of various sandwiches. \n",
    "# Then make an empty list called finished_sandwiches. Loop\n",
    "# through the list of sandwich orders and print a message for each order, such\n",
    "# as I made your tuna sandwich. As each sandwich is made, move it to the list\n",
    "# of finished sandwiches. After all the sandwiches have been made, print a\n",
    "# message listing each sandwich that was made.\n",
    "\n",
    "ordered_sammies = ['tuna', 'blt', 'egg and cress', 'cheese and tomato']\n",
    "finished_sammies = [] \n",
    "\n",
    "while ordered_sammies:\n",
    "    sammie = ordered_sammies.pop()\n",
    "\n",
    "    print(f\"Your order of a {sammie} sandwich is being prepared\")\n",
    "\n",
    "    finished_sammies.append(sammie)\n",
    "\n",
    "print(\"All sammies made:\")\n",
    "for sandwich in finished_sammies:\n",
    "    print(f\"\\n- {sandwich}\")\n"
   ]
  },
  {
   "cell_type": "code",
   "execution_count": 15,
   "id": "cfe5c0ca",
   "metadata": {},
   "outputs": [
    {
     "name": "stdout",
     "output_type": "stream",
     "text": [
      "We run out of pastrami sammie\n",
      "Your order of a cheese and tomato sandwich is being prepared\n",
      "Your order of a egg and cress sandwich is being prepared\n",
      "Your order of a blt sandwich is being prepared\n",
      "Your order of a tuna sandwich is being prepared\n",
      "All sammies made:\n",
      "\n",
      "- cheese and tomato\n",
      "\n",
      "- egg and cress\n",
      "\n",
      "- blt\n",
      "\n",
      "- tuna\n"
     ]
    }
   ],
   "source": [
    "# 7-9. No Pastrami: Using the list sandwich_orders from Exercise 7-8, make sure\n",
    "# the sandwich 'pastrami' appears in the list at least three times. Add code\n",
    "# near the beginning of your program to print a message saying the deli has\n",
    "# run out of pastrami, and then use a while loop to remove all occurrences of\n",
    "# 'pastrami' from sandwich_orders. Make sure no pastrami sandwiches end up\n",
    "# in finished_sandwiches.\n",
    "\n",
    "ordered_sammies = ['tuna', 'pastrami', 'pastrami', 'blt', 'egg and cress', 'pastrami', 'cheese and tomato', 'pastrami']\n",
    "finished_sammies = [] \n",
    "\n",
    "print(\"We run out of pastrami sammie\")\n",
    "\n",
    "while 'pastrami' in ordered_sammies:\n",
    "    ordered_sammies.remove('pastrami')\n",
    "\n",
    "while ordered_sammies:\n",
    "    sammie = ordered_sammies.pop()\n",
    "\n",
    "    print(f\"Your order of a {sammie} sandwich is being prepared\")\n",
    "\n",
    "    finished_sammies.append(sammie)\n",
    "\n",
    "print(\"All sammies made:\")\n",
    "for sandwich in finished_sammies:\n",
    "    print(f\"\\n- {sandwich}\")\n"
   ]
  },
  {
   "cell_type": "code",
   "execution_count": 16,
   "id": "e0665294",
   "metadata": {},
   "outputs": [
    {
     "name": "stdout",
     "output_type": "stream",
     "text": [
      "Malibu wants to go to Tokyo\n"
     ]
    }
   ],
   "source": [
    "# 7-10. Dream Vacation: Write a program that polls users about their dream vacation. \n",
    "# Write a prompt similar to If you could visit one place in the world, where\n",
    "# would you go? Include a block of code that prints the results of the poll.\n",
    "\n",
    "responses = {}\n",
    "polling_active = True\n",
    "\n",
    "while polling_active:\n",
    "    name = input(\"Your name? \")\n",
    "    response = input(\"What's your dream vacation? \")\n",
    "\n",
    "    responses[name] = response \n",
    "\n",
    "    repeat = input(\"Would you like another person respond? (yes/no)\")\n",
    "    if repeat == 'no':\n",
    "        polling_active = False \n",
    "\n",
    "# show the results\n",
    "for name, response in responses.items():\n",
    "    print(f\"{name.title()} wants to go to {response.title()}\")"
   ]
  }
 ],
 "metadata": {
  "kernelspec": {
   "display_name": "Python 3",
   "language": "python",
   "name": "python3"
  },
  "language_info": {
   "codemirror_mode": {
    "name": "ipython",
    "version": 3
   },
   "file_extension": ".py",
   "mimetype": "text/x-python",
   "name": "python",
   "nbconvert_exporter": "python",
   "pygments_lexer": "ipython3",
   "version": "3.9.3"
  }
 },
 "nbformat": 4,
 "nbformat_minor": 5
}
