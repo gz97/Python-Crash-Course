{
 "cells": [
  {
   "cell_type": "code",
   "execution_count": null,
   "id": "a49641b1",
   "metadata": {},
   "outputs": [
    {
     "name": "stdout",
     "output_type": "stream",
     "text": [
      "w\n"
     ]
    }
   ],
   "source": [
    "# input() pauses the program and waits for user input\n",
    "# takes the argument as string and returns a string\n",
    "\n",
    "message = input(\"Say something and I'll repeat it: \")\n",
    "print(message)\n"
   ]
  },
  {
   "cell_type": "code",
   "execution_count": 4,
   "id": "bc4d833d",
   "metadata": {},
   "outputs": [
    {
     "name": "stdout",
     "output_type": "stream",
     "text": [
      "Hello, g\n"
     ]
    }
   ],
   "source": [
    "# using a prompt over several lines\n",
    "prompt = \"This is line 1\"\n",
    "prompt+= \"Now say your name for line 2: \"\n",
    "\n",
    "name = input(prompt)\n",
    "print(f\"Hello, {name}\")"
   ]
  },
  {
   "cell_type": "code",
   "execution_count": 5,
   "id": "30def336",
   "metadata": {},
   "outputs": [
    {
     "data": {
      "text/plain": [
       "False"
      ]
     },
     "execution_count": 5,
     "metadata": {},
     "output_type": "execute_result"
    }
   ],
   "source": [
    "# Using int() to accept a numerical input\n",
    "age = input(\"How old are you? \")\n",
    "age = int(age)\n",
    "\n",
    "age >= 18"
   ]
  },
  {
   "cell_type": "code",
   "execution_count": null,
   "id": "b275fb9b",
   "metadata": {},
   "outputs": [
    {
     "name": "stdout",
     "output_type": "stream",
     "text": [
      "Thanks for coming\n"
     ]
    }
   ],
   "source": [
    "# Interpreting the prompt input\n",
    "dog_count = input(\"How many dogs did you bring? \") \n",
    "dog_count = int(dog_count)\n",
    "\n",
    "if dog_count <= 1:\n",
    "    print(\"Thanks for coming!\")\n",
    "else:\n",
    "    print(\"The more the merrier!\")"
   ]
  },
  {
   "cell_type": "code",
   "execution_count": 10,
   "id": "094c9417",
   "metadata": {},
   "outputs": [
    {
     "name": "stdout",
     "output_type": "stream",
     "text": [
      "4 is even.\n"
     ]
    }
   ],
   "source": [
    "# the modulo operator (%)\n",
    "number = input(\"Enter a number and I'll tell you if it's even or odd: \")\n",
    "number = int(number)\n",
    "\n",
    "if number % 2 == 0:\n",
    "    print(f\"{number} is even.\")\n",
    "else:\n",
    "    print(f\"{number} is odd.\")"
   ]
  },
  {
   "cell_type": "code",
   "execution_count": 14,
   "id": "56dda642",
   "metadata": {},
   "outputs": [
    {
     "name": "stdout",
     "output_type": "stream",
     "text": [
      "Let me see if I can find you a Opel.\n"
     ]
    }
   ],
   "source": [
    "# EXECISES\n",
    "# 7-1. Rental Car: Write a program that asks the user what kind of rental car they \n",
    "# would like. Print a message about that car, such as “Let me see if I can find you \n",
    "# a Subaru.”\n",
    "\n",
    "car = input(\"What car would you like? \").capitalize()\n",
    "\n",
    "print(f\"Let me see if I can find you a {car}.\")"
   ]
  },
  {
   "cell_type": "code",
   "execution_count": 16,
   "id": "13a1d3d2",
   "metadata": {},
   "outputs": [
    {
     "name": "stdout",
     "output_type": "stream",
     "text": [
      "Please, wait for your table.\n"
     ]
    }
   ],
   "source": [
    "# 7-2. Restaurant Seating: Write a program that asks the user how many people \n",
    "# are in their dinner group. If the answer is more than eight, print a message \n",
    "# saying they’ll have to wait for a table. Otherwise, report that their table is ready\n",
    "\n",
    "party_size = int(input(\"How many people in your party? \")) \n",
    "\n",
    "if party_size > 8:\n",
    "    print(\"Please, wait for your table.\")\n",
    "else:\n",
    "    print(\"Your table is ready.\")\n"
   ]
  },
  {
   "cell_type": "code",
   "execution_count": 18,
   "id": "abcaa8c3",
   "metadata": {},
   "outputs": [
    {
     "name": "stdout",
     "output_type": "stream",
     "text": [
      "Your number (30) is divisible by 10.\n"
     ]
    }
   ],
   "source": [
    "# 7-3. Multiples of Ten: Ask the user for a number, and then report whether the \n",
    "# number is a multiple of 10 or not\n",
    "\n",
    "user_num = int(input(\"Give me a number and I'll tell you if it's a multiple of 10\"))\n",
    "\n",
    "if user_num % 10 == 0:\n",
    "    print(f\"Your number ({user_num}) is divisible by 10.\")\n",
    "else:\n",
    "    print(f\"Your number ({user_num}) is not divisible by 10.\")"
   ]
  },
  {
   "cell_type": "markdown",
   "id": "7aebc762",
   "metadata": {},
   "source": [
    "start on p.118"
   ]
  }
 ],
 "metadata": {
  "kernelspec": {
   "display_name": "Python 3",
   "language": "python",
   "name": "python3"
  },
  "language_info": {
   "codemirror_mode": {
    "name": "ipython",
    "version": 3
   },
   "file_extension": ".py",
   "mimetype": "text/x-python",
   "name": "python",
   "nbconvert_exporter": "python",
   "pygments_lexer": "ipython3",
   "version": "3.13.2"
  }
 },
 "nbformat": 4,
 "nbformat_minor": 5
}
